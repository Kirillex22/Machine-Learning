{
 "cells": [
  {
   "cell_type": "code",
   "execution_count": null,
   "id": "0b823d96-0a08-4911-b020-e50299daab70",
   "metadata": {},
   "outputs": [],
   "source": [
    "import pandas as pd\n",
    "import seaborn as sns\n",
    "from sklearn.model_selection import train_test_split"
   ]
  },
  {
   "cell_type": "code",
   "execution_count": null,
   "id": "b8f19e5a-055b-4da8-9412-fa74be960307",
   "metadata": {},
   "outputs": [],
   "source": [
    "data_red = pd.read_csv('../data/winequality-red.csv')\n",
    "data_white = pd.read_csv('../data/winequality-white.csv')\n",
    "pd.set_option('display.max_columns', 30)\n",
    "data"
   ]
  }
 ],
 "metadata": {
  "kernelspec": {
   "display_name": "Python 3 (ipykernel)",
   "language": "python",
   "name": "python3"
  },
  "language_info": {
   "codemirror_mode": {
    "name": "ipython",
    "version": 3
   },
   "file_extension": ".py",
   "mimetype": "text/x-python",
   "name": "python",
   "nbconvert_exporter": "python",
   "pygments_lexer": "ipython3",
   "version": "3.9.0"
  }
 },
 "nbformat": 4,
 "nbformat_minor": 5
}

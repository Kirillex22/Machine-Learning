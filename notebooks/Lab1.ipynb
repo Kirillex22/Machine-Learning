{
 "cells": [
  {
   "cell_type": "markdown",
   "id": "508a6c28-d9f3-4d52-ab63-57773161b875",
   "metadata": {},
   "source": [
    "# Лабораторная работа №1 (Зябрев Кирилл, МО-221)"
   ]
  },
  {
   "cell_type": "markdown",
   "id": "3feaffd1-23cd-4c2f-b91b-41d673baf01b",
   "metadata": {},
   "source": [
    "# Гипотезы:"
   ]
  },
  {
   "cell_type": "markdown",
   "id": "28cb12ac-a510-457d-8bd0-a0a7aa09bf12",
   "metadata": {},
   "source": [
    "1) Окупаемость фильма тем больше, чем меньше возрастной рейтинг фильма.\n",
    "2) Фильмы с элементами драмы чаще всех имеют IMDB рейтинг выше 8. \n",
    "3) Фильмы с бюджетом выше среднего (по миру) имеют в среднем более высокую продолжительность, чем остальные."
   ]
  },
  {
   "cell_type": "markdown",
   "id": "7536ceb2-6b54-4c37-811b-b5d20bf9756c",
   "metadata": {},
   "source": [
    "Импортируем библиотеки"
   ]
  },
  {
   "cell_type": "code",
   "execution_count": 1,
   "id": "189dd5cc-24ed-402e-94eb-22008ccf3f80",
   "metadata": {},
   "outputs": [],
   "source": [
    "import pandas as pd\n",
    "import numpy as np"
   ]
  },
  {
   "cell_type": "markdown",
   "id": "95a5bf20-7e0b-404b-86c4-ca3d63f5b56a",
   "metadata": {},
   "source": [
    "Создадим датафрейм"
   ]
  },
  {
   "cell_type": "code",
   "execution_count": 2,
   "id": "8073e4f2-5bb2-41d9-990b-e52b1e4fb4da",
   "metadata": {
    "scrolled": true
   },
   "outputs": [
    {
     "name": "stdout",
     "output_type": "stream",
     "text": [
      "<class 'pandas.core.frame.DataFrame'>\n",
      "RangeIndex: 5043 entries, 0 to 5042\n",
      "Data columns (total 28 columns):\n",
      " #   Column                      Non-Null Count  Dtype  \n",
      "---  ------                      --------------  -----  \n",
      " 0   color                       5025 non-null   object \n",
      " 1   Director_Name               4872 non-null   object \n",
      " 2   num_Critic_for_reviews      4927 non-null   float64\n",
      " 3   duration                    4959 non-null   float64\n",
      " 4   director_Facebook_likes     4872 non-null   float64\n",
      " 5   actor_3_Facebook_likes      4953 non-null   float64\n",
      " 6   actor_2_name                4963 non-null   object \n",
      " 7   Actor_1_Facebook_likes      4968 non-null   float64\n",
      " 8   gross                       4104 non-null   float64\n",
      " 9   genres                      4974 non-null   object \n",
      " 10  actor_1_name                4968 non-null   object \n",
      " 11  movie_Title                 4974 non-null   object \n",
      " 12  num_voted_users             4974 non-null   float64\n",
      " 13   cast_total_facebook_likes  4974 non-null   float64\n",
      " 14  actor_3_name                4953 non-null   object \n",
      " 15  facenumber_in_poster        4961 non-null   float64\n",
      " 16  plot_keywords               4827 non-null   object \n",
      " 17  movie_imdb_link             4974 non-null   object \n",
      " 18  num_user_for_reviews        4956 non-null   float64\n",
      " 19  language                    4961 non-null   object \n",
      " 20  country                     4971 non-null   object \n",
      " 21  content_rating              4677 non-null   object \n",
      " 22  budget                      4494 non-null   float64\n",
      " 23  title_year                  4869 non-null   float64\n",
      " 24  actor_2_facebook_likes      4963 non-null   float64\n",
      " 25  imdb_score                  4974 non-null   float64\n",
      " 26  aspect_ratio                4654 non-null   float64\n",
      " 27  movie_facebook_likes;       4974 non-null   object \n",
      "dtypes: float64(15), object(13)\n",
      "memory usage: 1.1+ MB\n"
     ]
    }
   ],
   "source": [
    "df = pd.read_csv(\"..\\data\\Dataset1.csv\")\n",
    "df.info()"
   ]
  },
  {
   "cell_type": "markdown",
   "id": "aff59b0e-9ddd-4cb7-a121-1aea4e7488cb",
   "metadata": {},
   "source": [
    "Форматируем названия столбцов датафрейма:"
   ]
  },
  {
   "cell_type": "code",
   "execution_count": 3,
   "id": "d8b09f58-2592-4f42-a3d4-df1066d2bd6c",
   "metadata": {},
   "outputs": [
    {
     "data": {
      "text/plain": [
       "Index(['color', 'director_name', 'num_critic_for_reviews', 'duration',\n",
       "       'director_facebook_likes', 'actor_3_facebook_likes', 'actor_2_name',\n",
       "       'actor_1_facebook_likes', 'gross', 'genres', 'actor_1_name',\n",
       "       'movie_title', 'num_voted_users', 'cast_total_facebook_likes',\n",
       "       'actor_3_name', 'facenumber_in_poster', 'plot_keywords',\n",
       "       'movie_imdb_link', 'num_user_for_reviews', 'language', 'country',\n",
       "       'content_rating', 'budget', 'title_year', 'actor_2_facebook_likes',\n",
       "       'imdb_score', 'aspect_ratio', 'movie_facebook_likes'],\n",
       "      dtype='object')"
      ]
     },
     "execution_count": 3,
     "metadata": {},
     "output_type": "execute_result"
    }
   ],
   "source": [
    "df = df.rename (\n",
    "    columns = {\n",
    "        'Director_Name' : 'director_name',\n",
    "        'num_Critic_for_reviews' : 'num_critic_for_reviews',\n",
    "        'director_Facebook_likes' : 'director_facebook_likes',\n",
    "        'actor_3_Facebook_likes' : 'actor_3_facebook_likes',\n",
    "        'Actor_1_Facebook_likes' : 'actor_1_facebook_likes',\n",
    "        ' cast_total_facebook_likes' : 'cast_total_facebook_likes',\n",
    "        'movie_Title' : 'movie_title',\n",
    "        'movie_facebook_likes;' : 'movie_facebook_likes'\n",
    "    }\n",
    ")\n",
    "\n",
    "df.columns          "
   ]
  },
  {
   "cell_type": "markdown",
   "id": "3965bde6-1c18-4514-bdbc-c538df0c9167",
   "metadata": {},
   "source": [
    "Найдем число явных дубликатов:"
   ]
  },
  {
   "cell_type": "code",
   "execution_count": 4,
   "id": "625a38ed-bf28-4413-8cdd-9a51eafbf7e9",
   "metadata": {},
   "outputs": [
    {
     "data": {
      "text/plain": [
       "45"
      ]
     },
     "execution_count": 4,
     "metadata": {},
     "output_type": "execute_result"
    }
   ],
   "source": [
    "df.duplicated().sum()"
   ]
  },
  {
   "cell_type": "markdown",
   "id": "562e8932-2503-4dcd-abff-ae7b8ea9016a",
   "metadata": {},
   "source": [
    "Избавимся от них:"
   ]
  },
  {
   "cell_type": "code",
   "execution_count": 5,
   "id": "748ae3e5-910a-40d6-9c15-5280fb3dfbff",
   "metadata": {},
   "outputs": [],
   "source": [
    "df = df.drop_duplicates().reset_index(drop = True)"
   ]
  },
  {
   "cell_type": "markdown",
   "id": "962d2c1a-85f2-4693-96e9-4675eae5155b",
   "metadata": {},
   "source": [
    "Проверим:"
   ]
  },
  {
   "cell_type": "code",
   "execution_count": 6,
   "id": "6689bdb6-0028-4de0-86f4-a4229c9f048d",
   "metadata": {},
   "outputs": [
    {
     "data": {
      "text/plain": [
       "0"
      ]
     },
     "execution_count": 6,
     "metadata": {},
     "output_type": "execute_result"
    }
   ],
   "source": [
    "df.duplicated().sum()"
   ]
  },
  {
   "cell_type": "markdown",
   "id": "9b5fea6c-ab01-44d3-ad45-f86a81b09ae6",
   "metadata": {},
   "source": [
    "Заметим, что некоторые данные внесены в датасет некорректно."
   ]
  },
  {
   "cell_type": "code",
   "execution_count": 7,
   "id": "f90929e8-53cc-47bf-aeb9-cf744398169f",
   "metadata": {},
   "outputs": [
    {
     "data": {
      "text/plain": [
       "array(['Color', 'Colour', nan, 'color',\n",
       "       'Color,Andrew Adamson,284,150,80,82,Kiran Shah,1000,291709845,Adventure|Family|Fantasy,Jim Broadbent,\"The Chronicles of Narnia: The Lion, the Witch and the Wardrobe\\xa0\",286506,1317,Shane Rangi,5,hide and seek|lion|magic|professor|snow,http://www.imdb.com/title/tt0363771/?ref_=fn_tt_tt_1,1463,English,USA,PG,180000000,2005,190,6.9,2.35,0;',\n",
       "       ' Black and White',\n",
       "       'Color,Pete Docter,250,92,0,773,John Ratzenberger,12000,289907418,Adventure|Animation|Comedy|Family|Fantasy,Steve Buscemi,\"Monsters, Inc.\\xa0\",585659,15013,James Coburn,0,friend|little girl|monster|rival|scream,http://www.imdb.com/title/tt0198781/?ref_=fn_tt_tt_1,593,English,USA,G,115000000,2001,1000,8.1,1.85,0;',\n",
       "       'Color,Alex Proyas,225,115,295,466,Bruce Greenwood,10000,144795350,Action|Mystery|Sci-Fi|Thriller,Will Smith,\"I, Robot\\xa0\",387632,12068,Chi McBride,1,humanoid robot|man versus machine|prosthetic limb|robot as pathos|robot vs. robot,http://www.imdb.com/title/tt0343818/?ref_=fn_tt_tt_1,789,English,USA,PG-13,120000000,2004,981,7.1,2.35,0;',\n",
       "       ',Christopher Barnard,,22,0,,,5,,Comedy,Mathew Buck,\"10,000 B.C.\\xa0            \",6,5,,0,,http://www.imdb.com/title/tt1869849/?ref_=fn_tt_tt_1,,,,,,,,7.2,,0;',\n",
       "       'Color,Stuart Beattie,308,92,72,568,Kevin Grevioux,623,19059018,Action|Fantasy|Sci-Fi|Thriller,Caitlin Stasey,\"I, Frankenstein\\xa0\",65709,3165,Miranda Otto,0,army|creature|demon|frankenstein|gargoyle,http://www.imdb.com/title/tt1418377/?ref_=fn_tt_tt_1,194,English,Australia,PG-13,65000000,2014,593,5.1,2.35,15000;',\n",
       "       'Color,,20,22,,271,Soleil Moon Frye,870,,Comedy|Family|Fantasy,Nate Richert,\"Sabrina, the Teenage Witch\\xa0            \",24420,2433,Caroline Rhea,1,female protagonist|hereditary gift of witchcraft|magic|supernatural|witch,http://www.imdb.com/title/tt0115341/?ref_=fn_tt_tt_1,94,English,USA,TV-G,3000000,,558,6.6,1.33,990;',\n",
       "       'Color,Anthony Russo,136,110,94,240,Billy Gardell,277,75604320,Comedy|Romance,Todd Stashwick,\"You, Me and Dupree\\xa0\",68417,847,Amanda Detmer,1,best friend|foot fetish|houseguest|newlywed|wedding,http://www.imdb.com/title/tt0463034/?ref_=fn_tt_tt_1,195,English,USA,PG-13,54000000,2006,245,5.6,1.85,0;',\n",
       "       'Color,Bobby Farrelly,155,116,101,79,Tony Cox,889,90567722,Comedy,Robert Forster,\"Me, Myself & Irene\\xa0\",185878,1711,Rob Moran,1,dissociative identity disorder|limousine|multiple personality|police|rhode island,http://www.imdb.com/title/tt0183505/?ref_=fn_tt_tt_1,481,English,USA,R,51000000,2000,624,6.5,1.85,0;',\n",
       "       'Color,Glenn Ficarra,310,118,43,7000,Emma Stone,33000,84244877,Comedy|Drama|Romance,Ryan Gosling,\"Crazy, Stupid, Love.\\xa0\",375456,57426,Steve Carell,7,bar|divorce|friend|girl|male objectification,http://www.imdb.com/title/tt1570728/?ref_=fn_tt_tt_1,292,English,USA,PG-13,50000000,2011,15000,7.4,2.39,44000;',\n",
       "       'Color,Melville Shavelson,8,111,5,559,Tom Bosley,6000,,Comedy|Family,Lucille Ball,\"Yours, Mine and Ours\\xa0\",5888,7493,Tim Matheson,0,nurse|parent|sibling|widow|widower,http://www.imdb.com/title/tt0063829/?ref_=fn_tt_tt_1,61,English,USA,Unrated,2500000,1968,584,7.2,1.85,0;',\n",
       "       'Color,John Hamburg,215,105,29,257,Jon Favreau,24000,71347010,Comedy|Romance,J.K. Simmons,\"I Love You, Man\\xa0\",166194,28928,Jane Curtin,2,bromance|friend|gay brother|homosexual subtext|wedding,http://www.imdb.com/title/tt1155056/?ref_=fn_tt_tt_1,215,English,USA,R,40000000,2009,4000,7.1,1.85,0;',\n",
       "       'Color,Taylor Hackford,12,330,138,672,Jesse Borrego,848,4496583,Crime|Drama,Delroy Lindo,\"Blood In, Blood Out\\xa0\",23181,3227,Raymond Cruz,2,1970s|1980s|barrio|gang war|mexican,http://www.imdb.com/title/tt0106469/?ref_=fn_tt_tt_1,129,English,USA,R,35000000,1993,674,8.0,1.66,6000;',\n",
       "       'Color,John Whitesell,88,113,14,534,Tony Curran,918,37911876,Action|Comedy|Crime,Brandon T. Jackson,\"Big Mommas: Like Father, Like Son\\xa0\",19671,3500,Portia Doubleday,2,fbi agent|murder|performing arts school|scene during end credits|undercover,http://www.imdb.com/title/tt1464174/?ref_=fn_tt_tt_1,47,English,USA,PG-13,32000000,2011,845,4.4,2.35,0;',\n",
       "       'Color,Miguel Arteta,119,81,44,3000,Steve Carell,35000,66950483,Comedy|Family,Bella Thorne,\"Alexander and the Terrible, Horrible, No Good, Very Bad Day\\xa0\",29738,47677,Jennifer Garner,6,bad day|based on book|birthday|job interview|long title,http://www.imdb.com/title/tt1698641/?ref_=fn_tt_tt_1,85,English,USA,PG,28000000,2014,7000,6.2,2.39,12000;',\n",
       "       'Color,Jay Roach,74,119,116,385,Mary McCormack,738,8888143,Comedy|Drama|Sport,Scott Grimes,\"Mystery, Alaska\\xa0\",22250,2171,Ron Eldard,0,alaska|male nudity|nudity|sex|small town,http://www.imdb.com/title/tt0134618/?ref_=fn_tt_tt_1,123,English,Canada,R,28000000,1999,428,6.7,2.35,913;',\n",
       "       'Color,Malcolm D. Lee,76,114,92,436,Mike Epps,940,42168445,Comedy|Drama|Romance,Mo\\'Nique,\"Welcome Home, Roscoe Jenkins\\xa0\",10791,3565,Cedric the Entertainer,3,african american protagonist|comma in title|four word title|name in title|talk show host,http://www.imdb.com/title/tt0494652/?ref_=fn_tt_tt_1,39,English,USA,PG-13,35000000,2008,706,5.3,1.85,464;',\n",
       "       'Color,Joel Coen,197,107,0,577,Tim Blake Nelson,1000,45506619,Adventure|Comedy|Crime|Music,Holly Hunter,\"O Brother, Where Art Thou?\\xa0\",225102,3066,Daniel von Bargen,3,baby|bank|blind prophet|convict|sirens,http://www.imdb.com/title/tt0190590/?ref_=fn_tt_tt_1,862,English,UK,PG-13,26000000,2000,596,7.8,2.35,16000;',\n",
       "       'Color,Charles Herman-Wurmfeld,133,95,0,643,Bruce McGill,934,89808372,Comedy,Mary Lynn Rajskub,\"Legally Blonde 2: Red, White & Blonde\\xa0\",46417,3500,Bob Newhart,2,animal rights|congresswoman|doorman|transvestism|washington d.c.,http://www.imdb.com/title/tt0333780/?ref_=fn_tt_tt_1,297,English,USA,PG-13,45000000,2003,655,4.6,1.85,660;',\n",
       "       'Color,James Bridges,28,107,21,418,Phoebe Cates,967,16118077,Drama,Dianne Wiest,\"Bright Lights, Big City\\xa0\",5817,3067,Swoosie Kurtz,0,estranged wife|fashion show|magazine|new york city|writer,http://www.imdb.com/title/tt0094799/?ref_=fn_tt_tt_1,37,English,USA,R,25000000,1988,767,5.6,1.85,377;',\n",
       "       'Color,James Mangold,133,127,446,898,Clea DuVall,11000,28871190,Biography|Drama,Angelina Jolie Pitt,\"Girl, Interrupted\\xa0\",125421,13433,Vanessa Redgrave,0,1960s|father daughter incest|mental hospital|suicide|suicide attempt,http://www.imdb.com/title/tt0172493/?ref_=fn_tt_tt_1,385,English,USA,R,24000000,1999,1000,7.3,1.85,0;',\n",
       "       'Color,Ethan Coen,423,106,1000,1000,Channing Tatum,19000,29997095,Comedy|Mystery,Scarlett Johansson,\"Hail, Caesar!\\xa0\",60926,38494,Alden Ehrenreich,5,50s|film within a film|hollywood|illegitimate pregnancy|twins,http://www.imdb.com/title/tt0475290/?ref_=fn_tt_tt_1,302,English,UK,PG-13,22000000,2016,17000,6.4,1.85,23000;',\n",
       "       'Color,Charlie Kaufman,245,124,0,631,Jennifer Jason Leigh,22000,3081925,Comedy|Drama|Romance,Philip Seymour Hoffman,\"Synecdoche, New York\\xa0\",55842,24732,Samantha Morton,0,actress|director|play|theatre director|warehouse,http://www.imdb.com/title/tt0383028/?ref_=fn_tt_tt_1,274,English,USA,R,21000000,2008,1000,7.5,2.35,13000;',\n",
       "       'Color,,,43,,211,Jenni \\'Jwoww\\' Farley,341,,Comedy|Drama|Reality-TV|Romance,Nicole \\'Snooki\\' Polizzi,\"Gone, Baby, Gone\\xa0            \",29,1462,Paul \\'Pauly D\\' DelVecchio,1,lifestyle,http://www.imdb.com/title/tt1697237/?ref_=fn_tt_tt_1,,English,,TV-14,,,230,6.6,1.33,0;',\n",
       "       'Color,Chris Columbus,107,102,0,529,Marie Avgeropoulos,946,14793904,Comedy|Romance,Alan Ruck,\"I Love You, Beth Cooper\\xa0\",28209,4072,Shawn Roberts,1,cheerleader|party|popular girl|speech|valedictorian,http://www.imdb.com/title/tt1032815/?ref_=fn_tt_tt_1,80,English,Canada,PG-13,18000000,2009,800,5.3,1.85,0;',\n",
       "       'Color,Niki Caro,113,129,51,89,Valente Rodriguez,427,44469602,Biography|Drama|Sport,Morgan Saylor,\"McFarland, USA\\xa0\",23480,952,Diana Maria Riva,0,coach|high school|place name in title|school|student,http://www.imdb.com/title/tt2097298/?ref_=fn_tt_tt_1,83,English,USA,PG,17000000,2015,234,7.4,2.35,21000;',\n",
       "       'Color,Ang Lee,287,120,0,5,Pei-Pei Cheng,103,128067808,Action|Drama|Romance,Chen Chang,\"Crouching Tiger, Hidden Dragon\\xa0\",217740,129,Sihung Lung,3,bare midriff|china|magical realism|martial arts|sword,http://www.imdb.com/title/tt0190332/?ref_=fn_tt_tt_1,1641,Mandarin,Taiwan,PG-13,15000000,2000,21,7.9,2.35,0;',\n",
       "       'Color,Martin Scorsese,59,136,17000,213,Liza Minnelli,22000,,Drama|Music|Musical|Romance,Robert De Niro,\"New York, New York\\xa0\",13548,23378,Mary Kay Place,0,love|musician|saxophonist|singer|songwriter,http://www.imdb.com/title/tt0076451/?ref_=fn_tt_tt_1,75,English,USA,PG,14000000,1977,740,6.7,1.66,932;',\n",
       "       'Color,Barry Levinson,62,121,272,227,J.T. Walsh,49000,123922370,Biography|Comedy|Drama|War,Robin Williams,\"Good Morning, Vietnam\\xa0\",98348,50141,Bruno Kirby,1,disc jockey|friendship|radio|vietnam|vietnamese,http://www.imdb.com/title/tt0093105/?ref_=fn_tt_tt_1,131,English,USA,R,13000000,1987,263,7.3,1.85,0;',\n",
       "       'Color,Danny Leiner,106,83,8,612,Mary Lynn Rajskub,3000,46729374,Comedy|Mystery,Jennifer Garner,\"Dude, Where\\'s My Car?\\xa0\",116625,6454,Marla Sokoloff,2,bare chested male|gay kiss|homoeroticism|lesbian kiss|transsexual,http://www.imdb.com/title/tt0242423/?ref_=fn_tt_tt_1,469,English,USA,PG-13,13000000,2000,934,5.5,1.37,0;',\n",
       "       'Color,Olivier Assayas,165,120,107,280,Miranda Richardson,12000,4857376,Comedy|Drama|Romance,Steve Buscemi,\"Paris, je t\\'aime\\xa0\",63084,13208,Catalina Sandino Moreno,0,baby|divorce|oscar wilde|pigalle|tourist,http://www.imdb.com/title/tt0401711/?ref_=fn_tt_tt_1,123,French,France,R,13000000,2006,530,7.3,1.85,0;',\n",
       "       'Color,Yimou Zhang,101,95,611,3,Ni Yan,9,190666,Comedy|Drama,Honglei Sun,\"A Woman, a Gun and a Noodle Shop\\xa0\",2410,18,Dahong Ni,1,betrayal|husband wife relationship|murder|noodles|salary,http://www.imdb.com/title/tt1428556/?ref_=fn_tt_tt_1,20,Mandarin,China,R,,2009,4,5.7,2.35,784;',\n",
       "       'Color,Neal Brennan,83,89,23,503,Noureen DeWulf,839,15102127,Comedy,Rob Riggle,\"The Goods: Live Hard, Sell Hard\\xa0\",17790,3973,Charles Napier,5,fourth of july|looking at one\\'s self in a mirror|mirror|sex toy|young version of character,http://www.imdb.com/title/tt1092633/?ref_=fn_tt_tt_1,59,English,USA,R,,2009,700,5.8,1.85,0;',\n",
       "       'Color,David Schwimmer,168,100,0,231,Iddo Goldberg,427,5998971,Comedy|Romance|Sport,Dylan Moran,\"Run, Fatboy, Run\\xa0\",58509,1022,India de Beaufort,0,blister|gym|marathon|training|wedding,http://www.imdb.com/title/tt0425413/?ref_=fn_tt_tt_1,143,English,UK,PG-13,,2007,269,6.6,2.35,0;',\n",
       "       'Color,Jay Duplass,182,83,157,581,Evan Ross,2000,4244155,Comedy|Drama,Judy Greer,\"Jeff, Who Lives at Home\\xa0\",56005,3374,Rae Dawn Chong,5,basement|errand|secret admirer|slacker|wrong number,http://www.imdb.com/title/tt1588334/?ref_=fn_tt_tt_1,112,English,USA,R,10000000,2011,616,6.5,1.85,0;',\n",
       "       'Color,Joshua Seftel,79,107,0,91,Sergej Trifunovic,603,578527,Action|Comedy|Thriller,Bashar Rahal,\"War, Inc.\\xa0\",20008,988,Ned Bellamy,3,assassin|corporation|pop star|reporter|satire,http://www.imdb.com/title/tt0884224/?ref_=fn_tt_tt_1,112,English,USA,R,10000000,2008,175,5.7,1.78,883;',\n",
       "       'Color,Rafa Lara,12,125,21,36,Andrés Montiel,78,169379,Drama|History|War,Jorge Luis Moreno,\"Cinco de Mayo, La Batalla\\xa0\",683,221,William Miller,1,,http://www.imdb.com/title/tt2553908/?ref_=fn_tt_tt_1,3,Spanish,Mexico,R,10000000,2013,61,6.2,,874;',\n",
       "       'Color,Jee-woon Kim,152,135,419,7,Woo-sung Jung,398,128486,Action|Adventure|Comedy|Western,Kang-ho Song,\"The Good, the Bad, the Weird\\xa0\",26156,569,Dal-su Oh,0,bounty hunter|manchuria|map|train|treasure,http://www.imdb.com/title/tt0901487/?ref_=fn_tt_tt_1,74,Korean,South Korea,R,10000000,2008,149,7.3,2.35,0;',\n",
       "       'Color,Stanley Kramer,61,197,176,760,Sid Caesar,924,46300000,Action|Adventure|Comedy|Crime,Jonathan Winters,\"It\\'s a Mad, Mad, Mad, Mad World\\xa0\",29323,4109,Spencer Tracy,0,california|desert|dying words|money|race,http://www.imdb.com/title/tt0057193/?ref_=fn_tt_tt_1,344,English,USA,Approved,9400000,1963,898,7.6,2.76,0;',\n",
       "       'Color,Martyn Pick,19,76,4,151,Steven Waddington,722,,Action|Animation|Fantasy|Horror|Mystery|Sci-Fi|Thriller,Sean Pertwee,\"Ultramarines: A Warhammer 40,000 Movie\\xa0\",4990,1254,Donald Sumpter,0,grimdark|mutilated corpse|space marine|ultramarines|warhammer 40k,http://www.imdb.com/title/tt1679332/?ref_=fn_tt_tt_1,64,English,UK,R,,2010,212,5.7,1.85,0;',\n",
       "       'Color,Adam Brooks,160,112,20,61,Sakina Jaffrey,16000,31973840,Comedy|Drama|Romance,Ryan Reynolds,\"Definitely, Maybe\\xa0\",127760,16289,Paulina Gerzon,5,college|daughter|girl|sex|wisconsin,http://www.imdb.com/title/tt0832266/?ref_=fn_tt_tt_1,168,English,Germany,PG-13,,2008,109,7.2,2.35,0;',\n",
       "       ' Black and White,George Clooney,351,93,0,566,Tate Donovan,21000,31501218,Biography|Drama|History,Robert Downey Jr.,\"Good Night, and Good Luck.\\xa0\",84070,22745,Alex Borstein,0,cbs|expose|fear|paranoia|reporter,http://www.imdb.com/title/tt0433383/?ref_=fn_tt_tt_1,526,English,USA,PG,7500000,2005,650,7.5,1.85,0;',\n",
       "       'Color,Gabriele Muccino,36,125,125,11,Silvio Muccino,60,223878,Comedy|Drama|Romance,Laura Morante,\"Remember Me, My Love\\xa0\",3548,132,Giulia Michelini,1,box office hit|dancer|sex scene|television|underage sex,http://www.imdb.com/title/tt0323807/?ref_=fn_tt_tt_1,21,Italian,Italy,R,5000000,2003,29,6.5,2.35,282;',\n",
       "       'Color,S.R. Bindler,26,85,0,499,Scott Glenn,11000,36497,Comedy,Matthew McConaughey,\"Surfer, Dude\\xa0\",7367,14599,Sarah Wright,0,barefoot|endorsement|surfboard|virtual reality|waves,http://www.imdb.com/title/tt0976247/?ref_=fn_tt_tt_1,37,English,USA,R,6000000,2008,826,4.7,1.85,850;',\n",
       "       'Color,Richard Fleischer,69,127,130,51,Robert J. Wilke,617,,Adventure|Drama|Family|Fantasy|Sci-Fi,James Mason,\"20,000 Leagues Under the Sea\\xa0\",22123,799,Paul Lukas,0,captain|expedition|sea|submarine|whale,http://www.imdb.com/title/tt0046672/?ref_=fn_tt_tt_1,108,English,USA,Approved,5000000,1954,53,7.2,1.37,0;',\n",
       "       'Color,John Erick Dowdle,196,93,66,161,Edwin Hodge,1000,21197315,Horror|Mystery|Thriller,Ben Feldman,\"As Above, So Below\\xa0\",49948,1410,Perdita Weeks,0,archeologist|catacomb|found footage|paris france|philosopher\\'s stone,http://www.imdb.com/title/tt2870612/?ref_=fn_tt_tt_1,211,English,USA,R,5000000,2014,200,6.1,1.85,14000;',\n",
       "       'Color,Feroz Abbas Khan,16,136,0,14,Bhoomika Chawla,75,240425,Biography|Drama|History,Akshaye Khanna,\"Gandhi, My Father\\xa0\",1311,172,Darshan Jariwala,0,africa|hindu|india|muslim|south africa,http://www.imdb.com/title/tt0459293/?ref_=fn_tt_tt_1,25,Hindi,India,,,2007,45,7.4,2.35,133;',\n",
       "       'Color,Nicholas Fackler,27,90,6,940,Ellen Burstyn,3000,124720,Drama|Romance,Adam Scott,\"Lovely, Still\\xa0\",1560,4987,Martin Landau,0,christmas|fable|old man,http://www.imdb.com/title/tt1150947/?ref_=fn_tt_tt_1,15,English,USA,PG,5000000,2008,1000,7.3,1.85,777;',\n",
       "       'Color,Jorge Ramírez Suárez,26,120,45,69,Adriana Barraza,623,100412,Drama,Hector Kotsifakis,\"Buen Día, Ramón\\xa0\",2112,824,Arcelia Ramírez,0,,http://www.imdb.com/title/tt2876428/?ref_=fn_tt_tt_1,7,German,Mexico,PG-13,4000000,2013,85,7.7,2.35,0;',\n",
       "       'Color,Jay Oliva,44,148,41,739,Mark Valley,2000,,Action|Animation|Crime|Sci-Fi|Thriller,Michael Emerson,\"Batman: The Dark Knight Returns, Part 2\\xa0\",30434,5526,Grey Griffin,0,batman|joker|mutant|tattoo on breast|the joker,http://www.imdb.com/title/tt2166834/?ref_=fn_tt_tt_1,55,English,USA,PG-13,3500000,2013,774,8.4,,5000;',\n",
       "       'Color,Joe Cross,13,97,65,0,Joel Fuhrman,65,,Documentary,Joe Cross,\"Fat, Sick & Nearly Dead\\xa0\",6429,67,Amy Badberg,2,fat|food|health|juice|obese,http://www.imdb.com/title/tt1227378/?ref_=fn_tt_tt_1,25,English,Australia,,2500000,2010,2,7.6,,10000;',\n",
       "       'Color,Tim McCanlies,15,97,23,326,Michael O\\'Neill,982,565592,Comedy|Drama|Family,Ethan Embry,\"Dancer, Texas Pop. 81\\xa0\",2189,2580,Alexandra Holden,0,best friend|friendship|population|state in title|texas,http://www.imdb.com/title/tt0118925/?ref_=fn_tt_tt_1,63,English,USA,PG,,1998,599,6.8,1.85,500;',\n",
       "       'Color,Gary Rogers,7,120,0,40,Kirby Heyborne,178,1098224,Adventure,Noah Danby,\"The Book of Mormon Movie, Volume 1: The Journey\\xa0\",397,359,Bruce Newbold,1,jerusalem|journey|promised land|ship|wilderness,http://www.imdb.com/title/tt0349159/?ref_=fn_tt_tt_1,30,English,USA,PG-13,2000000,2003,69,3.3,1.85,32;',\n",
       "       'Color,Simon Napier-Bell,,81,0,8,Tim Rice,674,,Documentary,Alice Cooper,\"To Be Frank, Sinatra at 100\\xa0\",7,712,Louis Walsh,0,,http://www.imdb.com/title/tt4704314/?ref_=fn_tt_tt_1,,English,UK,,2000000,2015,27,7.4,,0;',\n",
       "       'Color,Mark Illsley,77,98,3,327,Illeana Douglas,349,1943649,Comedy|Crime|Romance,Ally Walker,\"Happy, Texas\\xa0\",8697,2095,Jeremy Northam,3,banker|beauty pageant|escaped convict|gay|pageant,http://www.imdb.com/title/tt0162360/?ref_=fn_tt_tt_1,122,English,USA,PG-13,1700000,1999,347,6.3,1.85,374;',\n",
       "       'Color,Guy Ritchie,116,120,0,452,Jason Flemyng,26000,3650677,Comedy|Crime,Jason Statham,\"Lock, Stock and Two Smoking Barrels\\xa0\",414976,28294,Dexter Fletcher,1,antique|cockney accent|hatchet|money|shotgun,http://www.imdb.com/title/tt0120735/?ref_=fn_tt_tt_1,523,English,UK,R,960000,1998,1000,8.2,1.85,21000;',\n",
       "       'Color,Steven Soderbergh,58,100,0,65,Laura San Giacomo,828,24741700,Drama,Peter Gallagher,\"Sex, Lies, and Videotape\\xa0\",37785,1431,Steven Brill,2,affair|interview|marriage|sex|videotape,http://www.imdb.com/title/tt0098724/?ref_=fn_tt_tt_1,95,English,USA,R,1200000,1989,531,7.2,1.85,2000;',\n",
       "       'Color,Sergio Leone,181,142,0,24,Luigi Pistilli,16000,6100000,Western,Clint Eastwood,\"The Good, the Bad and the Ugly\\xa0\",503509,16089,Enzo Petito,3,civil war|hitman|outlaw|shootout|spaghetti western,http://www.imdb.com/title/tt0060196/?ref_=fn_tt_tt_1,780,Italian,Italy,Approved,1200000,1966,34,8.9,2.35,20000;',\n",
       "       'Color,Léa Pool,23,97,4,,,,24784,Documentary,,\"Pink Ribbons, Inc.\\xa0\",591,0,,0,breast cancer|comma in title|period in title|punctuation in title|three word title,http://www.imdb.com/title/tt2035599/?ref_=fn_tt_tt_1,10,English,Canada,Not Rated,1200000,2011,,7.4,,5000;',\n",
       "       'Color,Robert Kenner,120,94,11,2,Eric Schlosser,37,4417124,Documentary,Michael Pollan,\"Food, Inc.\\xa0\",42389,42,Barbara Kowalcyk,0,farming|flesh eating|food|food industry|gluttony,http://www.imdb.com/title/tt1286537/?ref_=fn_tt_tt_1,183,English,USA,PG,,2008,3,7.9,1.78,37000;',\n",
       "       'Color,Cristian Mungiu,233,113,163,27,Vlad Ivanov,131,1185783,Drama,Anamaria Marinca,\"4 Months, 3 Weeks and 2 Days\\xa0\",44763,264,Alexandru Potocean,0,female rear nudity|friend|hotel|rainy night|towel,http://www.imdb.com/title/tt1032846/?ref_=fn_tt_tt_1,172,Romanian,Romania,Not Rated,590000,2007,60,7.9,1.85,14000;',\n",
       "       'Color,Jamie Travis,115,88,15,567,Ari Graynor,938,1243961,Comedy,James Wolk,\"For a Good Time, Call...\\xa0\",13421,3770,Nia Vardalos,0,friend|friendship|gay|phone sex|sex,http://www.imdb.com/title/tt1996264/?ref_=fn_tt_tt_1,34,English,USA,R,850000,2012,904,6.0,2.35,0;',\n",
       "       'Color,Jesse Peretz,16,94,37,104,Eli Marienthal,318,40542,Drama|Romance,Robert John Burke,\"First Love, Last Rites\\xa0\",294,751,Natasha Gregson Wagner,0,listening to music|misfit|panties|red panties|sex,http://www.imdb.com/title/tt0128214/?ref_=fn_tt_tt_1,16,English,USA,R,300000,1997,157,5.5,,26;',\n",
       "       ' Black and White,Eugène Lourié,67,80,7,21,Cecil Kellaway,57,5000000,Adventure|Horror|Sci-Fi,Kenneth Tobey,\"The Beast from 20,000 Fathoms\\xa0\",4812,205,Ross Elliott,0,arctic|beast|dinosaur|monster|rhedosaurus,http://www.imdb.com/title/tt0045546/?ref_=fn_tt_tt_1,88,English,USA,Approved,210000,1953,40,6.7,1.37,465;',\n",
       "       'Color,Richard Fleischer,69,127,130,51,Robert J. Wilke,618,,Adventure|Drama|Family|Fantasy|Sci-Fi,James Mason,\"20,000 Leagues Under the Sea\\xa0\",22124,800,Paul Lukas,0,captain|expedition|sea|submarine|whale,http://www.imdb.com/title/tt0046672/?ref_=fn_tt_tt_1,108,English,USA,Approved,5000000,1954,53,7.2,1.37,0;',\n",
       "       'Color,Stephen Langford,2,82,7,50,Gabriela Castillo,143,,Family,Kevin P. Farley,\"Dude, Where\\'s My Dog?!\\xa0\",73,417,Brandon Middleton,0,,http://www.imdb.com/title/tt3109200/?ref_=fn_tt_tt_1,4,English,USA,PG,20000,2014,134,3.2,1.85,178;',\n",
       "       'Color,Sut Jhally,16,80,3,0,Seth Ackerman,103,,Documentary,Noam Chomsky,\"Peace, Propaganda & the Promised Land\\xa0\",496,103,Arik Ascherman,3,arab israeli conflict|israel|media|middle east|palestine,http://www.imdb.com/title/tt0428959/?ref_=fn_tt_tt_1,13,English,USA,,70000,2004,0,8.3,,110;',\n",
       "       'Color,Julie Davis,5,86,12,117,Meredith Scott Lynn,238,33598,Comedy|Romance,Jack McGee,\"I Love You, Don\\'t Touch Me!\\xa0\",405,623,Tim DeZarn,1,female frontal nudity|female rear nudity|title directed by female|virgin|written and directed by cast member,http://www.imdb.com/title/tt0130019/?ref_=fn_tt_tt_1,15,English,USA,R,,1997,166,5.4,,97;',\n",
       "       'Color,Collin Joseph Neal,7,75,14,130,Thomas Brophy,252,,Horror|Thriller,Julianne Gabert,\"Run, Hide, Die\\xa0\",106,638,Ronee Collins,0,,http://www.imdb.com/title/tt2442662/?ref_=fn_tt_tt_1,5,English,USA,,50000,2012,132,3.7,2.35,225;'],\n",
       "      dtype=object)"
      ]
     },
     "execution_count": 7,
     "metadata": {},
     "output_type": "execute_result"
    }
   ],
   "source": [
    "df['color'].unique()"
   ]
  },
  {
   "cell_type": "markdown",
   "id": "39b5edaf-7da8-4d92-8009-1b1ca179cf9b",
   "metadata": {},
   "source": [
    "Некоторые элементы Series 'color' представляют собой определенное подмножество совокупной информации о фильме. Попробуем вернуть информацию в наш датасет, предварительно избавившись от NaN значений:"
   ]
  },
  {
   "cell_type": "code",
   "execution_count": 8,
   "id": "6214f744-2592-4f53-b6f4-73ca21c7b095",
   "metadata": {},
   "outputs": [],
   "source": [
    "df['color'] = df['color'].fillna(\"unknown\")"
   ]
  },
  {
   "cell_type": "markdown",
   "id": "6ef08f06-1fda-40c2-b735-f621acd1efa3",
   "metadata": {},
   "source": [
    "При взгляде на данные становится понятно, что любое число больше длины фразы Black and White будет представлять размер строки с потеряннными данными. Пусть оно будет равно 30."
   ]
  },
  {
   "cell_type": "code",
   "execution_count": 9,
   "id": "96c0252e-b59c-4dbd-bd71-f48c750c2201",
   "metadata": {},
   "outputs": [
    {
     "name": "stdout",
     "output_type": "stream",
     "text": [
      "['Color,Andrew Adamson,284,150,80,82,Kiran Shah,1000,291709845,Adventure|Family|Fantasy,Jim Broadbent,\"The Chronicles of Narnia: The Lion, the Witch and the Wardrobe\\xa0\",286506,1317,Shane Rangi,5,hide and seek|lion|magic|professor|snow,http://www.imdb.com/title/tt0363771/?ref_=fn_tt_tt_1,1463,English,USA,PG,180000000,2005,190,6.9,2.35,0;', 'Color,Pete Docter,250,92,0,773,John Ratzenberger,12000,289907418,Adventure|Animation|Comedy|Family|Fantasy,Steve Buscemi,\"Monsters, Inc.\\xa0\",585659,15013,James Coburn,0,friend|little girl|monster|rival|scream,http://www.imdb.com/title/tt0198781/?ref_=fn_tt_tt_1,593,English,USA,G,115000000,2001,1000,8.1,1.85,0;', 'Color,Alex Proyas,225,115,295,466,Bruce Greenwood,10000,144795350,Action|Mystery|Sci-Fi|Thriller,Will Smith,\"I, Robot\\xa0\",387632,12068,Chi McBride,1,humanoid robot|man versus machine|prosthetic limb|robot as pathos|robot vs. robot,http://www.imdb.com/title/tt0343818/?ref_=fn_tt_tt_1,789,English,USA,PG-13,120000000,2004,981,7.1,2.35,0;', ',Christopher Barnard,,22,0,,,5,,Comedy,Mathew Buck,\"10,000 B.C.\\xa0            \",6,5,,0,,http://www.imdb.com/title/tt1869849/?ref_=fn_tt_tt_1,,,,,,,,7.2,,0;', 'Color,Stuart Beattie,308,92,72,568,Kevin Grevioux,623,19059018,Action|Fantasy|Sci-Fi|Thriller,Caitlin Stasey,\"I, Frankenstein\\xa0\",65709,3165,Miranda Otto,0,army|creature|demon|frankenstein|gargoyle,http://www.imdb.com/title/tt1418377/?ref_=fn_tt_tt_1,194,English,Australia,PG-13,65000000,2014,593,5.1,2.35,15000;', 'Color,,20,22,,271,Soleil Moon Frye,870,,Comedy|Family|Fantasy,Nate Richert,\"Sabrina, the Teenage Witch\\xa0            \",24420,2433,Caroline Rhea,1,female protagonist|hereditary gift of witchcraft|magic|supernatural|witch,http://www.imdb.com/title/tt0115341/?ref_=fn_tt_tt_1,94,English,USA,TV-G,3000000,,558,6.6,1.33,990;', 'Color,Anthony Russo,136,110,94,240,Billy Gardell,277,75604320,Comedy|Romance,Todd Stashwick,\"You, Me and Dupree\\xa0\",68417,847,Amanda Detmer,1,best friend|foot fetish|houseguest|newlywed|wedding,http://www.imdb.com/title/tt0463034/?ref_=fn_tt_tt_1,195,English,USA,PG-13,54000000,2006,245,5.6,1.85,0;', 'Color,Bobby Farrelly,155,116,101,79,Tony Cox,889,90567722,Comedy,Robert Forster,\"Me, Myself & Irene\\xa0\",185878,1711,Rob Moran,1,dissociative identity disorder|limousine|multiple personality|police|rhode island,http://www.imdb.com/title/tt0183505/?ref_=fn_tt_tt_1,481,English,USA,R,51000000,2000,624,6.5,1.85,0;', 'Color,Glenn Ficarra,310,118,43,7000,Emma Stone,33000,84244877,Comedy|Drama|Romance,Ryan Gosling,\"Crazy, Stupid, Love.\\xa0\",375456,57426,Steve Carell,7,bar|divorce|friend|girl|male objectification,http://www.imdb.com/title/tt1570728/?ref_=fn_tt_tt_1,292,English,USA,PG-13,50000000,2011,15000,7.4,2.39,44000;', 'Color,Melville Shavelson,8,111,5,559,Tom Bosley,6000,,Comedy|Family,Lucille Ball,\"Yours, Mine and Ours\\xa0\",5888,7493,Tim Matheson,0,nurse|parent|sibling|widow|widower,http://www.imdb.com/title/tt0063829/?ref_=fn_tt_tt_1,61,English,USA,Unrated,2500000,1968,584,7.2,1.85,0;', 'Color,John Hamburg,215,105,29,257,Jon Favreau,24000,71347010,Comedy|Romance,J.K. Simmons,\"I Love You, Man\\xa0\",166194,28928,Jane Curtin,2,bromance|friend|gay brother|homosexual subtext|wedding,http://www.imdb.com/title/tt1155056/?ref_=fn_tt_tt_1,215,English,USA,R,40000000,2009,4000,7.1,1.85,0;', 'Color,Taylor Hackford,12,330,138,672,Jesse Borrego,848,4496583,Crime|Drama,Delroy Lindo,\"Blood In, Blood Out\\xa0\",23181,3227,Raymond Cruz,2,1970s|1980s|barrio|gang war|mexican,http://www.imdb.com/title/tt0106469/?ref_=fn_tt_tt_1,129,English,USA,R,35000000,1993,674,8.0,1.66,6000;', 'Color,John Whitesell,88,113,14,534,Tony Curran,918,37911876,Action|Comedy|Crime,Brandon T. Jackson,\"Big Mommas: Like Father, Like Son\\xa0\",19671,3500,Portia Doubleday,2,fbi agent|murder|performing arts school|scene during end credits|undercover,http://www.imdb.com/title/tt1464174/?ref_=fn_tt_tt_1,47,English,USA,PG-13,32000000,2011,845,4.4,2.35,0;', 'Color,Miguel Arteta,119,81,44,3000,Steve Carell,35000,66950483,Comedy|Family,Bella Thorne,\"Alexander and the Terrible, Horrible, No Good, Very Bad Day\\xa0\",29738,47677,Jennifer Garner,6,bad day|based on book|birthday|job interview|long title,http://www.imdb.com/title/tt1698641/?ref_=fn_tt_tt_1,85,English,USA,PG,28000000,2014,7000,6.2,2.39,12000;', 'Color,Jay Roach,74,119,116,385,Mary McCormack,738,8888143,Comedy|Drama|Sport,Scott Grimes,\"Mystery, Alaska\\xa0\",22250,2171,Ron Eldard,0,alaska|male nudity|nudity|sex|small town,http://www.imdb.com/title/tt0134618/?ref_=fn_tt_tt_1,123,English,Canada,R,28000000,1999,428,6.7,2.35,913;', 'Color,Malcolm D. Lee,76,114,92,436,Mike Epps,940,42168445,Comedy|Drama|Romance,Mo\\'Nique,\"Welcome Home, Roscoe Jenkins\\xa0\",10791,3565,Cedric the Entertainer,3,african american protagonist|comma in title|four word title|name in title|talk show host,http://www.imdb.com/title/tt0494652/?ref_=fn_tt_tt_1,39,English,USA,PG-13,35000000,2008,706,5.3,1.85,464;', 'Color,Joel Coen,197,107,0,577,Tim Blake Nelson,1000,45506619,Adventure|Comedy|Crime|Music,Holly Hunter,\"O Brother, Where Art Thou?\\xa0\",225102,3066,Daniel von Bargen,3,baby|bank|blind prophet|convict|sirens,http://www.imdb.com/title/tt0190590/?ref_=fn_tt_tt_1,862,English,UK,PG-13,26000000,2000,596,7.8,2.35,16000;', 'Color,Charles Herman-Wurmfeld,133,95,0,643,Bruce McGill,934,89808372,Comedy,Mary Lynn Rajskub,\"Legally Blonde 2: Red, White & Blonde\\xa0\",46417,3500,Bob Newhart,2,animal rights|congresswoman|doorman|transvestism|washington d.c.,http://www.imdb.com/title/tt0333780/?ref_=fn_tt_tt_1,297,English,USA,PG-13,45000000,2003,655,4.6,1.85,660;', 'Color,James Bridges,28,107,21,418,Phoebe Cates,967,16118077,Drama,Dianne Wiest,\"Bright Lights, Big City\\xa0\",5817,3067,Swoosie Kurtz,0,estranged wife|fashion show|magazine|new york city|writer,http://www.imdb.com/title/tt0094799/?ref_=fn_tt_tt_1,37,English,USA,R,25000000,1988,767,5.6,1.85,377;', 'Color,James Mangold,133,127,446,898,Clea DuVall,11000,28871190,Biography|Drama,Angelina Jolie Pitt,\"Girl, Interrupted\\xa0\",125421,13433,Vanessa Redgrave,0,1960s|father daughter incest|mental hospital|suicide|suicide attempt,http://www.imdb.com/title/tt0172493/?ref_=fn_tt_tt_1,385,English,USA,R,24000000,1999,1000,7.3,1.85,0;', 'Color,Ethan Coen,423,106,1000,1000,Channing Tatum,19000,29997095,Comedy|Mystery,Scarlett Johansson,\"Hail, Caesar!\\xa0\",60926,38494,Alden Ehrenreich,5,50s|film within a film|hollywood|illegitimate pregnancy|twins,http://www.imdb.com/title/tt0475290/?ref_=fn_tt_tt_1,302,English,UK,PG-13,22000000,2016,17000,6.4,1.85,23000;', 'Color,Charlie Kaufman,245,124,0,631,Jennifer Jason Leigh,22000,3081925,Comedy|Drama|Romance,Philip Seymour Hoffman,\"Synecdoche, New York\\xa0\",55842,24732,Samantha Morton,0,actress|director|play|theatre director|warehouse,http://www.imdb.com/title/tt0383028/?ref_=fn_tt_tt_1,274,English,USA,R,21000000,2008,1000,7.5,2.35,13000;', 'Color,,,43,,211,Jenni \\'Jwoww\\' Farley,341,,Comedy|Drama|Reality-TV|Romance,Nicole \\'Snooki\\' Polizzi,\"Gone, Baby, Gone\\xa0            \",29,1462,Paul \\'Pauly D\\' DelVecchio,1,lifestyle,http://www.imdb.com/title/tt1697237/?ref_=fn_tt_tt_1,,English,,TV-14,,,230,6.6,1.33,0;', 'Color,Chris Columbus,107,102,0,529,Marie Avgeropoulos,946,14793904,Comedy|Romance,Alan Ruck,\"I Love You, Beth Cooper\\xa0\",28209,4072,Shawn Roberts,1,cheerleader|party|popular girl|speech|valedictorian,http://www.imdb.com/title/tt1032815/?ref_=fn_tt_tt_1,80,English,Canada,PG-13,18000000,2009,800,5.3,1.85,0;', 'Color,Niki Caro,113,129,51,89,Valente Rodriguez,427,44469602,Biography|Drama|Sport,Morgan Saylor,\"McFarland, USA\\xa0\",23480,952,Diana Maria Riva,0,coach|high school|place name in title|school|student,http://www.imdb.com/title/tt2097298/?ref_=fn_tt_tt_1,83,English,USA,PG,17000000,2015,234,7.4,2.35,21000;', 'Color,Ang Lee,287,120,0,5,Pei-Pei Cheng,103,128067808,Action|Drama|Romance,Chen Chang,\"Crouching Tiger, Hidden Dragon\\xa0\",217740,129,Sihung Lung,3,bare midriff|china|magical realism|martial arts|sword,http://www.imdb.com/title/tt0190332/?ref_=fn_tt_tt_1,1641,Mandarin,Taiwan,PG-13,15000000,2000,21,7.9,2.35,0;', 'Color,Martin Scorsese,59,136,17000,213,Liza Minnelli,22000,,Drama|Music|Musical|Romance,Robert De Niro,\"New York, New York\\xa0\",13548,23378,Mary Kay Place,0,love|musician|saxophonist|singer|songwriter,http://www.imdb.com/title/tt0076451/?ref_=fn_tt_tt_1,75,English,USA,PG,14000000,1977,740,6.7,1.66,932;', 'Color,Barry Levinson,62,121,272,227,J.T. Walsh,49000,123922370,Biography|Comedy|Drama|War,Robin Williams,\"Good Morning, Vietnam\\xa0\",98348,50141,Bruno Kirby,1,disc jockey|friendship|radio|vietnam|vietnamese,http://www.imdb.com/title/tt0093105/?ref_=fn_tt_tt_1,131,English,USA,R,13000000,1987,263,7.3,1.85,0;', 'Color,Danny Leiner,106,83,8,612,Mary Lynn Rajskub,3000,46729374,Comedy|Mystery,Jennifer Garner,\"Dude, Where\\'s My Car?\\xa0\",116625,6454,Marla Sokoloff,2,bare chested male|gay kiss|homoeroticism|lesbian kiss|transsexual,http://www.imdb.com/title/tt0242423/?ref_=fn_tt_tt_1,469,English,USA,PG-13,13000000,2000,934,5.5,1.37,0;', 'Color,Olivier Assayas,165,120,107,280,Miranda Richardson,12000,4857376,Comedy|Drama|Romance,Steve Buscemi,\"Paris, je t\\'aime\\xa0\",63084,13208,Catalina Sandino Moreno,0,baby|divorce|oscar wilde|pigalle|tourist,http://www.imdb.com/title/tt0401711/?ref_=fn_tt_tt_1,123,French,France,R,13000000,2006,530,7.3,1.85,0;', 'Color,Yimou Zhang,101,95,611,3,Ni Yan,9,190666,Comedy|Drama,Honglei Sun,\"A Woman, a Gun and a Noodle Shop\\xa0\",2410,18,Dahong Ni,1,betrayal|husband wife relationship|murder|noodles|salary,http://www.imdb.com/title/tt1428556/?ref_=fn_tt_tt_1,20,Mandarin,China,R,,2009,4,5.7,2.35,784;', 'Color,Neal Brennan,83,89,23,503,Noureen DeWulf,839,15102127,Comedy,Rob Riggle,\"The Goods: Live Hard, Sell Hard\\xa0\",17790,3973,Charles Napier,5,fourth of july|looking at one\\'s self in a mirror|mirror|sex toy|young version of character,http://www.imdb.com/title/tt1092633/?ref_=fn_tt_tt_1,59,English,USA,R,,2009,700,5.8,1.85,0;', 'Color,David Schwimmer,168,100,0,231,Iddo Goldberg,427,5998971,Comedy|Romance|Sport,Dylan Moran,\"Run, Fatboy, Run\\xa0\",58509,1022,India de Beaufort,0,blister|gym|marathon|training|wedding,http://www.imdb.com/title/tt0425413/?ref_=fn_tt_tt_1,143,English,UK,PG-13,,2007,269,6.6,2.35,0;', 'Color,Jay Duplass,182,83,157,581,Evan Ross,2000,4244155,Comedy|Drama,Judy Greer,\"Jeff, Who Lives at Home\\xa0\",56005,3374,Rae Dawn Chong,5,basement|errand|secret admirer|slacker|wrong number,http://www.imdb.com/title/tt1588334/?ref_=fn_tt_tt_1,112,English,USA,R,10000000,2011,616,6.5,1.85,0;', 'Color,Joshua Seftel,79,107,0,91,Sergej Trifunovic,603,578527,Action|Comedy|Thriller,Bashar Rahal,\"War, Inc.\\xa0\",20008,988,Ned Bellamy,3,assassin|corporation|pop star|reporter|satire,http://www.imdb.com/title/tt0884224/?ref_=fn_tt_tt_1,112,English,USA,R,10000000,2008,175,5.7,1.78,883;', 'Color,Rafa Lara,12,125,21,36,Andrés Montiel,78,169379,Drama|History|War,Jorge Luis Moreno,\"Cinco de Mayo, La Batalla\\xa0\",683,221,William Miller,1,,http://www.imdb.com/title/tt2553908/?ref_=fn_tt_tt_1,3,Spanish,Mexico,R,10000000,2013,61,6.2,,874;', 'Color,Jee-woon Kim,152,135,419,7,Woo-sung Jung,398,128486,Action|Adventure|Comedy|Western,Kang-ho Song,\"The Good, the Bad, the Weird\\xa0\",26156,569,Dal-su Oh,0,bounty hunter|manchuria|map|train|treasure,http://www.imdb.com/title/tt0901487/?ref_=fn_tt_tt_1,74,Korean,South Korea,R,10000000,2008,149,7.3,2.35,0;', 'Color,Stanley Kramer,61,197,176,760,Sid Caesar,924,46300000,Action|Adventure|Comedy|Crime,Jonathan Winters,\"It\\'s a Mad, Mad, Mad, Mad World\\xa0\",29323,4109,Spencer Tracy,0,california|desert|dying words|money|race,http://www.imdb.com/title/tt0057193/?ref_=fn_tt_tt_1,344,English,USA,Approved,9400000,1963,898,7.6,2.76,0;', 'Color,Martyn Pick,19,76,4,151,Steven Waddington,722,,Action|Animation|Fantasy|Horror|Mystery|Sci-Fi|Thriller,Sean Pertwee,\"Ultramarines: A Warhammer 40,000 Movie\\xa0\",4990,1254,Donald Sumpter,0,grimdark|mutilated corpse|space marine|ultramarines|warhammer 40k,http://www.imdb.com/title/tt1679332/?ref_=fn_tt_tt_1,64,English,UK,R,,2010,212,5.7,1.85,0;', 'Color,Adam Brooks,160,112,20,61,Sakina Jaffrey,16000,31973840,Comedy|Drama|Romance,Ryan Reynolds,\"Definitely, Maybe\\xa0\",127760,16289,Paulina Gerzon,5,college|daughter|girl|sex|wisconsin,http://www.imdb.com/title/tt0832266/?ref_=fn_tt_tt_1,168,English,Germany,PG-13,,2008,109,7.2,2.35,0;', ' Black and White,George Clooney,351,93,0,566,Tate Donovan,21000,31501218,Biography|Drama|History,Robert Downey Jr.,\"Good Night, and Good Luck.\\xa0\",84070,22745,Alex Borstein,0,cbs|expose|fear|paranoia|reporter,http://www.imdb.com/title/tt0433383/?ref_=fn_tt_tt_1,526,English,USA,PG,7500000,2005,650,7.5,1.85,0;', 'Color,Gabriele Muccino,36,125,125,11,Silvio Muccino,60,223878,Comedy|Drama|Romance,Laura Morante,\"Remember Me, My Love\\xa0\",3548,132,Giulia Michelini,1,box office hit|dancer|sex scene|television|underage sex,http://www.imdb.com/title/tt0323807/?ref_=fn_tt_tt_1,21,Italian,Italy,R,5000000,2003,29,6.5,2.35,282;', 'Color,S.R. Bindler,26,85,0,499,Scott Glenn,11000,36497,Comedy,Matthew McConaughey,\"Surfer, Dude\\xa0\",7367,14599,Sarah Wright,0,barefoot|endorsement|surfboard|virtual reality|waves,http://www.imdb.com/title/tt0976247/?ref_=fn_tt_tt_1,37,English,USA,R,6000000,2008,826,4.7,1.85,850;', 'Color,Richard Fleischer,69,127,130,51,Robert J. Wilke,617,,Adventure|Drama|Family|Fantasy|Sci-Fi,James Mason,\"20,000 Leagues Under the Sea\\xa0\",22123,799,Paul Lukas,0,captain|expedition|sea|submarine|whale,http://www.imdb.com/title/tt0046672/?ref_=fn_tt_tt_1,108,English,USA,Approved,5000000,1954,53,7.2,1.37,0;', 'Color,John Erick Dowdle,196,93,66,161,Edwin Hodge,1000,21197315,Horror|Mystery|Thriller,Ben Feldman,\"As Above, So Below\\xa0\",49948,1410,Perdita Weeks,0,archeologist|catacomb|found footage|paris france|philosopher\\'s stone,http://www.imdb.com/title/tt2870612/?ref_=fn_tt_tt_1,211,English,USA,R,5000000,2014,200,6.1,1.85,14000;', 'Color,Feroz Abbas Khan,16,136,0,14,Bhoomika Chawla,75,240425,Biography|Drama|History,Akshaye Khanna,\"Gandhi, My Father\\xa0\",1311,172,Darshan Jariwala,0,africa|hindu|india|muslim|south africa,http://www.imdb.com/title/tt0459293/?ref_=fn_tt_tt_1,25,Hindi,India,,,2007,45,7.4,2.35,133;', 'Color,Nicholas Fackler,27,90,6,940,Ellen Burstyn,3000,124720,Drama|Romance,Adam Scott,\"Lovely, Still\\xa0\",1560,4987,Martin Landau,0,christmas|fable|old man,http://www.imdb.com/title/tt1150947/?ref_=fn_tt_tt_1,15,English,USA,PG,5000000,2008,1000,7.3,1.85,777;', 'Color,Jorge Ramírez Suárez,26,120,45,69,Adriana Barraza,623,100412,Drama,Hector Kotsifakis,\"Buen Día, Ramón\\xa0\",2112,824,Arcelia Ramírez,0,,http://www.imdb.com/title/tt2876428/?ref_=fn_tt_tt_1,7,German,Mexico,PG-13,4000000,2013,85,7.7,2.35,0;', 'Color,Jay Oliva,44,148,41,739,Mark Valley,2000,,Action|Animation|Crime|Sci-Fi|Thriller,Michael Emerson,\"Batman: The Dark Knight Returns, Part 2\\xa0\",30434,5526,Grey Griffin,0,batman|joker|mutant|tattoo on breast|the joker,http://www.imdb.com/title/tt2166834/?ref_=fn_tt_tt_1,55,English,USA,PG-13,3500000,2013,774,8.4,,5000;', 'Color,Joe Cross,13,97,65,0,Joel Fuhrman,65,,Documentary,Joe Cross,\"Fat, Sick & Nearly Dead\\xa0\",6429,67,Amy Badberg,2,fat|food|health|juice|obese,http://www.imdb.com/title/tt1227378/?ref_=fn_tt_tt_1,25,English,Australia,,2500000,2010,2,7.6,,10000;', 'Color,Tim McCanlies,15,97,23,326,Michael O\\'Neill,982,565592,Comedy|Drama|Family,Ethan Embry,\"Dancer, Texas Pop. 81\\xa0\",2189,2580,Alexandra Holden,0,best friend|friendship|population|state in title|texas,http://www.imdb.com/title/tt0118925/?ref_=fn_tt_tt_1,63,English,USA,PG,,1998,599,6.8,1.85,500;', 'Color,Gary Rogers,7,120,0,40,Kirby Heyborne,178,1098224,Adventure,Noah Danby,\"The Book of Mormon Movie, Volume 1: The Journey\\xa0\",397,359,Bruce Newbold,1,jerusalem|journey|promised land|ship|wilderness,http://www.imdb.com/title/tt0349159/?ref_=fn_tt_tt_1,30,English,USA,PG-13,2000000,2003,69,3.3,1.85,32;', 'Color,Simon Napier-Bell,,81,0,8,Tim Rice,674,,Documentary,Alice Cooper,\"To Be Frank, Sinatra at 100\\xa0\",7,712,Louis Walsh,0,,http://www.imdb.com/title/tt4704314/?ref_=fn_tt_tt_1,,English,UK,,2000000,2015,27,7.4,,0;', 'Color,Mark Illsley,77,98,3,327,Illeana Douglas,349,1943649,Comedy|Crime|Romance,Ally Walker,\"Happy, Texas\\xa0\",8697,2095,Jeremy Northam,3,banker|beauty pageant|escaped convict|gay|pageant,http://www.imdb.com/title/tt0162360/?ref_=fn_tt_tt_1,122,English,USA,PG-13,1700000,1999,347,6.3,1.85,374;', 'Color,Guy Ritchie,116,120,0,452,Jason Flemyng,26000,3650677,Comedy|Crime,Jason Statham,\"Lock, Stock and Two Smoking Barrels\\xa0\",414976,28294,Dexter Fletcher,1,antique|cockney accent|hatchet|money|shotgun,http://www.imdb.com/title/tt0120735/?ref_=fn_tt_tt_1,523,English,UK,R,960000,1998,1000,8.2,1.85,21000;', 'Color,Steven Soderbergh,58,100,0,65,Laura San Giacomo,828,24741700,Drama,Peter Gallagher,\"Sex, Lies, and Videotape\\xa0\",37785,1431,Steven Brill,2,affair|interview|marriage|sex|videotape,http://www.imdb.com/title/tt0098724/?ref_=fn_tt_tt_1,95,English,USA,R,1200000,1989,531,7.2,1.85,2000;', 'Color,Sergio Leone,181,142,0,24,Luigi Pistilli,16000,6100000,Western,Clint Eastwood,\"The Good, the Bad and the Ugly\\xa0\",503509,16089,Enzo Petito,3,civil war|hitman|outlaw|shootout|spaghetti western,http://www.imdb.com/title/tt0060196/?ref_=fn_tt_tt_1,780,Italian,Italy,Approved,1200000,1966,34,8.9,2.35,20000;', 'Color,Léa Pool,23,97,4,,,,24784,Documentary,,\"Pink Ribbons, Inc.\\xa0\",591,0,,0,breast cancer|comma in title|period in title|punctuation in title|three word title,http://www.imdb.com/title/tt2035599/?ref_=fn_tt_tt_1,10,English,Canada,Not Rated,1200000,2011,,7.4,,5000;', 'Color,Robert Kenner,120,94,11,2,Eric Schlosser,37,4417124,Documentary,Michael Pollan,\"Food, Inc.\\xa0\",42389,42,Barbara Kowalcyk,0,farming|flesh eating|food|food industry|gluttony,http://www.imdb.com/title/tt1286537/?ref_=fn_tt_tt_1,183,English,USA,PG,,2008,3,7.9,1.78,37000;', 'Color,Cristian Mungiu,233,113,163,27,Vlad Ivanov,131,1185783,Drama,Anamaria Marinca,\"4 Months, 3 Weeks and 2 Days\\xa0\",44763,264,Alexandru Potocean,0,female rear nudity|friend|hotel|rainy night|towel,http://www.imdb.com/title/tt1032846/?ref_=fn_tt_tt_1,172,Romanian,Romania,Not Rated,590000,2007,60,7.9,1.85,14000;', 'Color,Jamie Travis,115,88,15,567,Ari Graynor,938,1243961,Comedy,James Wolk,\"For a Good Time, Call...\\xa0\",13421,3770,Nia Vardalos,0,friend|friendship|gay|phone sex|sex,http://www.imdb.com/title/tt1996264/?ref_=fn_tt_tt_1,34,English,USA,R,850000,2012,904,6.0,2.35,0;', 'Color,Jesse Peretz,16,94,37,104,Eli Marienthal,318,40542,Drama|Romance,Robert John Burke,\"First Love, Last Rites\\xa0\",294,751,Natasha Gregson Wagner,0,listening to music|misfit|panties|red panties|sex,http://www.imdb.com/title/tt0128214/?ref_=fn_tt_tt_1,16,English,USA,R,300000,1997,157,5.5,,26;', ' Black and White,Eugène Lourié,67,80,7,21,Cecil Kellaway,57,5000000,Adventure|Horror|Sci-Fi,Kenneth Tobey,\"The Beast from 20,000 Fathoms\\xa0\",4812,205,Ross Elliott,0,arctic|beast|dinosaur|monster|rhedosaurus,http://www.imdb.com/title/tt0045546/?ref_=fn_tt_tt_1,88,English,USA,Approved,210000,1953,40,6.7,1.37,465;', 'Color,Richard Fleischer,69,127,130,51,Robert J. Wilke,618,,Adventure|Drama|Family|Fantasy|Sci-Fi,James Mason,\"20,000 Leagues Under the Sea\\xa0\",22124,800,Paul Lukas,0,captain|expedition|sea|submarine|whale,http://www.imdb.com/title/tt0046672/?ref_=fn_tt_tt_1,108,English,USA,Approved,5000000,1954,53,7.2,1.37,0;', 'Color,Stephen Langford,2,82,7,50,Gabriela Castillo,143,,Family,Kevin P. Farley,\"Dude, Where\\'s My Dog?!\\xa0\",73,417,Brandon Middleton,0,,http://www.imdb.com/title/tt3109200/?ref_=fn_tt_tt_1,4,English,USA,PG,20000,2014,134,3.2,1.85,178;', 'Color,Sut Jhally,16,80,3,0,Seth Ackerman,103,,Documentary,Noam Chomsky,\"Peace, Propaganda & the Promised Land\\xa0\",496,103,Arik Ascherman,3,arab israeli conflict|israel|media|middle east|palestine,http://www.imdb.com/title/tt0428959/?ref_=fn_tt_tt_1,13,English,USA,,70000,2004,0,8.3,,110;', 'Color,Julie Davis,5,86,12,117,Meredith Scott Lynn,238,33598,Comedy|Romance,Jack McGee,\"I Love You, Don\\'t Touch Me!\\xa0\",405,623,Tim DeZarn,1,female frontal nudity|female rear nudity|title directed by female|virgin|written and directed by cast member,http://www.imdb.com/title/tt0130019/?ref_=fn_tt_tt_1,15,English,USA,R,,1997,166,5.4,,97;', 'Color,Collin Joseph Neal,7,75,14,130,Thomas Brophy,252,,Horror|Thriller,Julianne Gabert,\"Run, Hide, Die\\xa0\",106,638,Ronee Collins,0,,http://www.imdb.com/title/tt2442662/?ref_=fn_tt_tt_1,5,English,USA,,50000,2012,132,3.7,2.35,225;']\n"
     ]
    }
   ],
   "source": [
    "lost_data = df['color'].unique().tolist()\n",
    "var = []\n",
    "\n",
    "for i in lost_data:\n",
    "    if len(i) > 30:\n",
    "        var.append(i)\n",
    "        \n",
    "print(var)"
   ]
  },
  {
   "cell_type": "markdown",
   "id": "9f0df9aa-2ffc-45a5-ac11-ec5b33dbfdd4",
   "metadata": {},
   "source": [
    "Удалим добавленные значения "
   ]
  },
  {
   "cell_type": "code",
   "execution_count": 10,
   "id": "87f48b31-39ea-4f9e-b1dd-d6847979db61",
   "metadata": {},
   "outputs": [],
   "source": [
    "df = df[df['color'].apply(lambda x: len(x) <= 30)]"
   ]
  },
  {
   "cell_type": "markdown",
   "id": "ff3d4d79-1090-4ee0-8b40-d7c2b0179a6b",
   "metadata": {},
   "source": [
    "Создадим содержимое нового csv файла, который будет основой для датасета из ошибочно записанных данных."
   ]
  },
  {
   "cell_type": "code",
   "execution_count": 11,
   "id": "8ff00b32-bde9-4b4d-afdf-996fe7222289",
   "metadata": {},
   "outputs": [
    {
     "name": "stdout",
     "output_type": "stream",
     "text": [
      "color,director_name,num_critic_for_reviews,duration,director_facebook_likes,actor_3_facebook_likes,actor_2_name,actor_1_facebook_likes,gross,genres,actor_1_name,movie_title,num_voted_users,cast_total_facebook_likes,actor_3_name,facenumber_in_poster,plot_keywords,movie_imdb_link,num_user_for_reviews,language,country,content_rating,budget,title_year,actor_2_facebook_likes,imdb_score,aspect_ratio,movie_facebook_likes;\n",
      "Color,Andrew Adamson,284,150,80,82,Kiran Shah,1000,291709845,Adventure|Family|Fantasy,Jim Broadbent,\"The Chronicles of Narnia: The Lion, the Witch and the Wardrobe \",286506,1317,Shane Rangi,5,hide and seek|lion|magic|professor|snow,http://www.imdb.com/title/tt0363771/?ref_=fn_tt_tt_1,1463,English,USA,PG,180000000,2005,190,6.9,2.35,0;\n",
      "Color,Pete Docter,250,92,0,773,John Ratzenberger,12000,289907418,Adventure|Animation|Comedy|Family|Fantasy,Steve Buscemi,\"Monsters, Inc. \",585659,15013,James Coburn,0,friend|little girl|monster|rival|scream,http://www.imdb.com/title/tt0198781/?ref_=fn_tt_tt_1,593,English,USA,G,115000000,2001,1000,8.1,1.85,0;\n",
      "Color,Alex Proyas,225,115,295,466,Bruce Greenwood,10000,144795350,Action|Mystery|Sci-Fi|Thriller,Will Smith,\"I, Robot \",387632,12068,Chi McBride,1,humanoid robot|man versus machine|prosthetic limb|robot as pathos|robot vs. robot,http://www.imdb.com/title/tt0343818/?ref_=fn_tt_tt_1,789,English,USA,PG-13,120000000,2004,981,7.1,2.35,0;\n",
      ",Christopher Barnard,,22,0,,,5,,Comedy,Mathew Buck,\"10,000 B.C.             \",6,5,,0,,http://www.imdb.com/title/tt1869849/?ref_=fn_tt_tt_1,,,,,,,,7.2,,0;\n",
      "Color,Stuart Beattie,308,92,72,568,Kevin Grevioux,623,19059018,Action|Fantasy|Sci-Fi|Thriller,Caitlin Stasey,\"I, Frankenstein \",65709,3165,Miranda Otto,0,army|creature|demon|frankenstein|gargoyle,http://www.imdb.com/title/tt1418377/?ref_=fn_tt_tt_1,194,English,Australia,PG-13,65000000,2014,593,5.1,2.35,15000;\n",
      "Color,,20,22,,271,Soleil Moon Frye,870,,Comedy|Family|Fantasy,Nate Richert,\"Sabrina, the Teenage Witch             \",24420,2433,Caroline Rhea,1,female protagonist|hereditary gift of witchcraft|magic|supernatural|witch,http://www.imdb.com/title/tt0115341/?ref_=fn_tt_tt_1,94,English,USA,TV-G,3000000,,558,6.6,1.33,990;\n",
      "Color,Anthony Russo,136,110,94,240,Billy Gardell,277,75604320,Comedy|Romance,Todd Stashwick,\"You, Me and Dupree \",68417,847,Amanda Detmer,1,best friend|foot fetish|houseguest|newlywed|wedding,http://www.imdb.com/title/tt0463034/?ref_=fn_tt_tt_1,195,English,USA,PG-13,54000000,2006,245,5.6,1.85,0;\n",
      "Color,Bobby Farrelly,155,116,101,79,Tony Cox,889,90567722,Comedy,Robert Forster,\"Me, Myself & Irene \",185878,1711,Rob Moran,1,dissociative identity disorder|limousine|multiple personality|police|rhode island,http://www.imdb.com/title/tt0183505/?ref_=fn_tt_tt_1,481,English,USA,R,51000000,2000,624,6.5,1.85,0;\n",
      "Color,Glenn Ficarra,310,118,43,7000,Emma Stone,33000,84244877,Comedy|Drama|Romance,Ryan Gosling,\"Crazy, Stupid, Love. \",375456,57426,Steve Carell,7,bar|divorce|friend|girl|male objectification,http://www.imdb.com/title/tt1570728/?ref_=fn_tt_tt_1,292,English,USA,PG-13,50000000,2011,15000,7.4,2.39,44000;\n",
      "Color,Melville Shavelson,8,111,5,559,Tom Bosley,6000,,Comedy|Family,Lucille Ball,\"Yours, Mine and Ours \",5888,7493,Tim Matheson,0,nurse|parent|sibling|widow|widower,http://www.imdb.com/title/tt0063829/?ref_=fn_tt_tt_1,61,English,USA,Unrated,2500000,1968,584,7.2,1.85,0;\n",
      "Color,John Hamburg,215,105,29,257,Jon Favreau,24000,71347010,Comedy|Romance,J.K. Simmons,\"I Love You, Man \",166194,28928,Jane Curtin,2,bromance|friend|gay brother|homosexual subtext|wedding,http://www.imdb.com/title/tt1155056/?ref_=fn_tt_tt_1,215,English,USA,R,40000000,2009,4000,7.1,1.85,0;\n",
      "Color,Taylor Hackford,12,330,138,672,Jesse Borrego,848,4496583,Crime|Drama,Delroy Lindo,\"Blood In, Blood Out \",23181,3227,Raymond Cruz,2,1970s|1980s|barrio|gang war|mexican,http://www.imdb.com/title/tt0106469/?ref_=fn_tt_tt_1,129,English,USA,R,35000000,1993,674,8.0,1.66,6000;\n",
      "Color,John Whitesell,88,113,14,534,Tony Curran,918,37911876,Action|Comedy|Crime,Brandon T. Jackson,\"Big Mommas: Like Father, Like Son \",19671,3500,Portia Doubleday,2,fbi agent|murder|performing arts school|scene during end credits|undercover,http://www.imdb.com/title/tt1464174/?ref_=fn_tt_tt_1,47,English,USA,PG-13,32000000,2011,845,4.4,2.35,0;\n",
      "Color,Miguel Arteta,119,81,44,3000,Steve Carell,35000,66950483,Comedy|Family,Bella Thorne,\"Alexander and the Terrible, Horrible, No Good, Very Bad Day \",29738,47677,Jennifer Garner,6,bad day|based on book|birthday|job interview|long title,http://www.imdb.com/title/tt1698641/?ref_=fn_tt_tt_1,85,English,USA,PG,28000000,2014,7000,6.2,2.39,12000;\n",
      "Color,Jay Roach,74,119,116,385,Mary McCormack,738,8888143,Comedy|Drama|Sport,Scott Grimes,\"Mystery, Alaska \",22250,2171,Ron Eldard,0,alaska|male nudity|nudity|sex|small town,http://www.imdb.com/title/tt0134618/?ref_=fn_tt_tt_1,123,English,Canada,R,28000000,1999,428,6.7,2.35,913;\n",
      "Color,Malcolm D. Lee,76,114,92,436,Mike Epps,940,42168445,Comedy|Drama|Romance,Mo'Nique,\"Welcome Home, Roscoe Jenkins \",10791,3565,Cedric the Entertainer,3,african american protagonist|comma in title|four word title|name in title|talk show host,http://www.imdb.com/title/tt0494652/?ref_=fn_tt_tt_1,39,English,USA,PG-13,35000000,2008,706,5.3,1.85,464;\n",
      "Color,Joel Coen,197,107,0,577,Tim Blake Nelson,1000,45506619,Adventure|Comedy|Crime|Music,Holly Hunter,\"O Brother, Where Art Thou? \",225102,3066,Daniel von Bargen,3,baby|bank|blind prophet|convict|sirens,http://www.imdb.com/title/tt0190590/?ref_=fn_tt_tt_1,862,English,UK,PG-13,26000000,2000,596,7.8,2.35,16000;\n",
      "Color,Charles Herman-Wurmfeld,133,95,0,643,Bruce McGill,934,89808372,Comedy,Mary Lynn Rajskub,\"Legally Blonde 2: Red, White & Blonde \",46417,3500,Bob Newhart,2,animal rights|congresswoman|doorman|transvestism|washington d.c.,http://www.imdb.com/title/tt0333780/?ref_=fn_tt_tt_1,297,English,USA,PG-13,45000000,2003,655,4.6,1.85,660;\n",
      "Color,James Bridges,28,107,21,418,Phoebe Cates,967,16118077,Drama,Dianne Wiest,\"Bright Lights, Big City \",5817,3067,Swoosie Kurtz,0,estranged wife|fashion show|magazine|new york city|writer,http://www.imdb.com/title/tt0094799/?ref_=fn_tt_tt_1,37,English,USA,R,25000000,1988,767,5.6,1.85,377;\n",
      "Color,James Mangold,133,127,446,898,Clea DuVall,11000,28871190,Biography|Drama,Angelina Jolie Pitt,\"Girl, Interrupted \",125421,13433,Vanessa Redgrave,0,1960s|father daughter incest|mental hospital|suicide|suicide attempt,http://www.imdb.com/title/tt0172493/?ref_=fn_tt_tt_1,385,English,USA,R,24000000,1999,1000,7.3,1.85,0;\n",
      "Color,Ethan Coen,423,106,1000,1000,Channing Tatum,19000,29997095,Comedy|Mystery,Scarlett Johansson,\"Hail, Caesar! \",60926,38494,Alden Ehrenreich,5,50s|film within a film|hollywood|illegitimate pregnancy|twins,http://www.imdb.com/title/tt0475290/?ref_=fn_tt_tt_1,302,English,UK,PG-13,22000000,2016,17000,6.4,1.85,23000;\n",
      "Color,Charlie Kaufman,245,124,0,631,Jennifer Jason Leigh,22000,3081925,Comedy|Drama|Romance,Philip Seymour Hoffman,\"Synecdoche, New York \",55842,24732,Samantha Morton,0,actress|director|play|theatre director|warehouse,http://www.imdb.com/title/tt0383028/?ref_=fn_tt_tt_1,274,English,USA,R,21000000,2008,1000,7.5,2.35,13000;\n",
      "Color,,,43,,211,Jenni 'Jwoww' Farley,341,,Comedy|Drama|Reality-TV|Romance,Nicole 'Snooki' Polizzi,\"Gone, Baby, Gone             \",29,1462,Paul 'Pauly D' DelVecchio,1,lifestyle,http://www.imdb.com/title/tt1697237/?ref_=fn_tt_tt_1,,English,,TV-14,,,230,6.6,1.33,0;\n",
      "Color,Chris Columbus,107,102,0,529,Marie Avgeropoulos,946,14793904,Comedy|Romance,Alan Ruck,\"I Love You, Beth Cooper \",28209,4072,Shawn Roberts,1,cheerleader|party|popular girl|speech|valedictorian,http://www.imdb.com/title/tt1032815/?ref_=fn_tt_tt_1,80,English,Canada,PG-13,18000000,2009,800,5.3,1.85,0;\n",
      "Color,Niki Caro,113,129,51,89,Valente Rodriguez,427,44469602,Biography|Drama|Sport,Morgan Saylor,\"McFarland, USA \",23480,952,Diana Maria Riva,0,coach|high school|place name in title|school|student,http://www.imdb.com/title/tt2097298/?ref_=fn_tt_tt_1,83,English,USA,PG,17000000,2015,234,7.4,2.35,21000;\n",
      "Color,Ang Lee,287,120,0,5,Pei-Pei Cheng,103,128067808,Action|Drama|Romance,Chen Chang,\"Crouching Tiger, Hidden Dragon \",217740,129,Sihung Lung,3,bare midriff|china|magical realism|martial arts|sword,http://www.imdb.com/title/tt0190332/?ref_=fn_tt_tt_1,1641,Mandarin,Taiwan,PG-13,15000000,2000,21,7.9,2.35,0;\n",
      "Color,Martin Scorsese,59,136,17000,213,Liza Minnelli,22000,,Drama|Music|Musical|Romance,Robert De Niro,\"New York, New York \",13548,23378,Mary Kay Place,0,love|musician|saxophonist|singer|songwriter,http://www.imdb.com/title/tt0076451/?ref_=fn_tt_tt_1,75,English,USA,PG,14000000,1977,740,6.7,1.66,932;\n",
      "Color,Barry Levinson,62,121,272,227,J.T. Walsh,49000,123922370,Biography|Comedy|Drama|War,Robin Williams,\"Good Morning, Vietnam \",98348,50141,Bruno Kirby,1,disc jockey|friendship|radio|vietnam|vietnamese,http://www.imdb.com/title/tt0093105/?ref_=fn_tt_tt_1,131,English,USA,R,13000000,1987,263,7.3,1.85,0;\n",
      "Color,Danny Leiner,106,83,8,612,Mary Lynn Rajskub,3000,46729374,Comedy|Mystery,Jennifer Garner,\"Dude, Where's My Car? \",116625,6454,Marla Sokoloff,2,bare chested male|gay kiss|homoeroticism|lesbian kiss|transsexual,http://www.imdb.com/title/tt0242423/?ref_=fn_tt_tt_1,469,English,USA,PG-13,13000000,2000,934,5.5,1.37,0;\n",
      "Color,Olivier Assayas,165,120,107,280,Miranda Richardson,12000,4857376,Comedy|Drama|Romance,Steve Buscemi,\"Paris, je t'aime \",63084,13208,Catalina Sandino Moreno,0,baby|divorce|oscar wilde|pigalle|tourist,http://www.imdb.com/title/tt0401711/?ref_=fn_tt_tt_1,123,French,France,R,13000000,2006,530,7.3,1.85,0;\n",
      "Color,Yimou Zhang,101,95,611,3,Ni Yan,9,190666,Comedy|Drama,Honglei Sun,\"A Woman, a Gun and a Noodle Shop \",2410,18,Dahong Ni,1,betrayal|husband wife relationship|murder|noodles|salary,http://www.imdb.com/title/tt1428556/?ref_=fn_tt_tt_1,20,Mandarin,China,R,,2009,4,5.7,2.35,784;\n",
      "Color,Neal Brennan,83,89,23,503,Noureen DeWulf,839,15102127,Comedy,Rob Riggle,\"The Goods: Live Hard, Sell Hard \",17790,3973,Charles Napier,5,fourth of july|looking at one's self in a mirror|mirror|sex toy|young version of character,http://www.imdb.com/title/tt1092633/?ref_=fn_tt_tt_1,59,English,USA,R,,2009,700,5.8,1.85,0;\n",
      "Color,David Schwimmer,168,100,0,231,Iddo Goldberg,427,5998971,Comedy|Romance|Sport,Dylan Moran,\"Run, Fatboy, Run \",58509,1022,India de Beaufort,0,blister|gym|marathon|training|wedding,http://www.imdb.com/title/tt0425413/?ref_=fn_tt_tt_1,143,English,UK,PG-13,,2007,269,6.6,2.35,0;\n",
      "Color,Jay Duplass,182,83,157,581,Evan Ross,2000,4244155,Comedy|Drama,Judy Greer,\"Jeff, Who Lives at Home \",56005,3374,Rae Dawn Chong,5,basement|errand|secret admirer|slacker|wrong number,http://www.imdb.com/title/tt1588334/?ref_=fn_tt_tt_1,112,English,USA,R,10000000,2011,616,6.5,1.85,0;\n",
      "Color,Joshua Seftel,79,107,0,91,Sergej Trifunovic,603,578527,Action|Comedy|Thriller,Bashar Rahal,\"War, Inc. \",20008,988,Ned Bellamy,3,assassin|corporation|pop star|reporter|satire,http://www.imdb.com/title/tt0884224/?ref_=fn_tt_tt_1,112,English,USA,R,10000000,2008,175,5.7,1.78,883;\n",
      "Color,Rafa Lara,12,125,21,36,Andrés Montiel,78,169379,Drama|History|War,Jorge Luis Moreno,\"Cinco de Mayo, La Batalla \",683,221,William Miller,1,,http://www.imdb.com/title/tt2553908/?ref_=fn_tt_tt_1,3,Spanish,Mexico,R,10000000,2013,61,6.2,,874;\n",
      "Color,Jee-woon Kim,152,135,419,7,Woo-sung Jung,398,128486,Action|Adventure|Comedy|Western,Kang-ho Song,\"The Good, the Bad, the Weird \",26156,569,Dal-su Oh,0,bounty hunter|manchuria|map|train|treasure,http://www.imdb.com/title/tt0901487/?ref_=fn_tt_tt_1,74,Korean,South Korea,R,10000000,2008,149,7.3,2.35,0;\n",
      "Color,Stanley Kramer,61,197,176,760,Sid Caesar,924,46300000,Action|Adventure|Comedy|Crime,Jonathan Winters,\"It's a Mad, Mad, Mad, Mad World \",29323,4109,Spencer Tracy,0,california|desert|dying words|money|race,http://www.imdb.com/title/tt0057193/?ref_=fn_tt_tt_1,344,English,USA,Approved,9400000,1963,898,7.6,2.76,0;\n",
      "Color,Martyn Pick,19,76,4,151,Steven Waddington,722,,Action|Animation|Fantasy|Horror|Mystery|Sci-Fi|Thriller,Sean Pertwee,\"Ultramarines: A Warhammer 40,000 Movie \",4990,1254,Donald Sumpter,0,grimdark|mutilated corpse|space marine|ultramarines|warhammer 40k,http://www.imdb.com/title/tt1679332/?ref_=fn_tt_tt_1,64,English,UK,R,,2010,212,5.7,1.85,0;\n",
      "Color,Adam Brooks,160,112,20,61,Sakina Jaffrey,16000,31973840,Comedy|Drama|Romance,Ryan Reynolds,\"Definitely, Maybe \",127760,16289,Paulina Gerzon,5,college|daughter|girl|sex|wisconsin,http://www.imdb.com/title/tt0832266/?ref_=fn_tt_tt_1,168,English,Germany,PG-13,,2008,109,7.2,2.35,0;\n",
      " Black and White,George Clooney,351,93,0,566,Tate Donovan,21000,31501218,Biography|Drama|History,Robert Downey Jr.,\"Good Night, and Good Luck. \",84070,22745,Alex Borstein,0,cbs|expose|fear|paranoia|reporter,http://www.imdb.com/title/tt0433383/?ref_=fn_tt_tt_1,526,English,USA,PG,7500000,2005,650,7.5,1.85,0;\n",
      "Color,Gabriele Muccino,36,125,125,11,Silvio Muccino,60,223878,Comedy|Drama|Romance,Laura Morante,\"Remember Me, My Love \",3548,132,Giulia Michelini,1,box office hit|dancer|sex scene|television|underage sex,http://www.imdb.com/title/tt0323807/?ref_=fn_tt_tt_1,21,Italian,Italy,R,5000000,2003,29,6.5,2.35,282;\n",
      "Color,S.R. Bindler,26,85,0,499,Scott Glenn,11000,36497,Comedy,Matthew McConaughey,\"Surfer, Dude \",7367,14599,Sarah Wright,0,barefoot|endorsement|surfboard|virtual reality|waves,http://www.imdb.com/title/tt0976247/?ref_=fn_tt_tt_1,37,English,USA,R,6000000,2008,826,4.7,1.85,850;\n",
      "Color,Richard Fleischer,69,127,130,51,Robert J. Wilke,617,,Adventure|Drama|Family|Fantasy|Sci-Fi,James Mason,\"20,000 Leagues Under the Sea \",22123,799,Paul Lukas,0,captain|expedition|sea|submarine|whale,http://www.imdb.com/title/tt0046672/?ref_=fn_tt_tt_1,108,English,USA,Approved,5000000,1954,53,7.2,1.37,0;\n",
      "Color,John Erick Dowdle,196,93,66,161,Edwin Hodge,1000,21197315,Horror|Mystery|Thriller,Ben Feldman,\"As Above, So Below \",49948,1410,Perdita Weeks,0,archeologist|catacomb|found footage|paris france|philosopher's stone,http://www.imdb.com/title/tt2870612/?ref_=fn_tt_tt_1,211,English,USA,R,5000000,2014,200,6.1,1.85,14000;\n",
      "Color,Feroz Abbas Khan,16,136,0,14,Bhoomika Chawla,75,240425,Biography|Drama|History,Akshaye Khanna,\"Gandhi, My Father \",1311,172,Darshan Jariwala,0,africa|hindu|india|muslim|south africa,http://www.imdb.com/title/tt0459293/?ref_=fn_tt_tt_1,25,Hindi,India,,,2007,45,7.4,2.35,133;\n",
      "Color,Nicholas Fackler,27,90,6,940,Ellen Burstyn,3000,124720,Drama|Romance,Adam Scott,\"Lovely, Still \",1560,4987,Martin Landau,0,christmas|fable|old man,http://www.imdb.com/title/tt1150947/?ref_=fn_tt_tt_1,15,English,USA,PG,5000000,2008,1000,7.3,1.85,777;\n",
      "Color,Jorge Ramírez Suárez,26,120,45,69,Adriana Barraza,623,100412,Drama,Hector Kotsifakis,\"Buen Día, Ramón \",2112,824,Arcelia Ramírez,0,,http://www.imdb.com/title/tt2876428/?ref_=fn_tt_tt_1,7,German,Mexico,PG-13,4000000,2013,85,7.7,2.35,0;\n",
      "Color,Jay Oliva,44,148,41,739,Mark Valley,2000,,Action|Animation|Crime|Sci-Fi|Thriller,Michael Emerson,\"Batman: The Dark Knight Returns, Part 2 \",30434,5526,Grey Griffin,0,batman|joker|mutant|tattoo on breast|the joker,http://www.imdb.com/title/tt2166834/?ref_=fn_tt_tt_1,55,English,USA,PG-13,3500000,2013,774,8.4,,5000;\n",
      "Color,Joe Cross,13,97,65,0,Joel Fuhrman,65,,Documentary,Joe Cross,\"Fat, Sick & Nearly Dead \",6429,67,Amy Badberg,2,fat|food|health|juice|obese,http://www.imdb.com/title/tt1227378/?ref_=fn_tt_tt_1,25,English,Australia,,2500000,2010,2,7.6,,10000;\n",
      "Color,Tim McCanlies,15,97,23,326,Michael O'Neill,982,565592,Comedy|Drama|Family,Ethan Embry,\"Dancer, Texas Pop. 81 \",2189,2580,Alexandra Holden,0,best friend|friendship|population|state in title|texas,http://www.imdb.com/title/tt0118925/?ref_=fn_tt_tt_1,63,English,USA,PG,,1998,599,6.8,1.85,500;\n",
      "Color,Gary Rogers,7,120,0,40,Kirby Heyborne,178,1098224,Adventure,Noah Danby,\"The Book of Mormon Movie, Volume 1: The Journey \",397,359,Bruce Newbold,1,jerusalem|journey|promised land|ship|wilderness,http://www.imdb.com/title/tt0349159/?ref_=fn_tt_tt_1,30,English,USA,PG-13,2000000,2003,69,3.3,1.85,32;\n",
      "Color,Simon Napier-Bell,,81,0,8,Tim Rice,674,,Documentary,Alice Cooper,\"To Be Frank, Sinatra at 100 \",7,712,Louis Walsh,0,,http://www.imdb.com/title/tt4704314/?ref_=fn_tt_tt_1,,English,UK,,2000000,2015,27,7.4,,0;\n",
      "Color,Mark Illsley,77,98,3,327,Illeana Douglas,349,1943649,Comedy|Crime|Romance,Ally Walker,\"Happy, Texas \",8697,2095,Jeremy Northam,3,banker|beauty pageant|escaped convict|gay|pageant,http://www.imdb.com/title/tt0162360/?ref_=fn_tt_tt_1,122,English,USA,PG-13,1700000,1999,347,6.3,1.85,374;\n",
      "Color,Guy Ritchie,116,120,0,452,Jason Flemyng,26000,3650677,Comedy|Crime,Jason Statham,\"Lock, Stock and Two Smoking Barrels \",414976,28294,Dexter Fletcher,1,antique|cockney accent|hatchet|money|shotgun,http://www.imdb.com/title/tt0120735/?ref_=fn_tt_tt_1,523,English,UK,R,960000,1998,1000,8.2,1.85,21000;\n",
      "Color,Steven Soderbergh,58,100,0,65,Laura San Giacomo,828,24741700,Drama,Peter Gallagher,\"Sex, Lies, and Videotape \",37785,1431,Steven Brill,2,affair|interview|marriage|sex|videotape,http://www.imdb.com/title/tt0098724/?ref_=fn_tt_tt_1,95,English,USA,R,1200000,1989,531,7.2,1.85,2000;\n",
      "Color,Sergio Leone,181,142,0,24,Luigi Pistilli,16000,6100000,Western,Clint Eastwood,\"The Good, the Bad and the Ugly \",503509,16089,Enzo Petito,3,civil war|hitman|outlaw|shootout|spaghetti western,http://www.imdb.com/title/tt0060196/?ref_=fn_tt_tt_1,780,Italian,Italy,Approved,1200000,1966,34,8.9,2.35,20000;\n",
      "Color,Léa Pool,23,97,4,,,,24784,Documentary,,\"Pink Ribbons, Inc. \",591,0,,0,breast cancer|comma in title|period in title|punctuation in title|three word title,http://www.imdb.com/title/tt2035599/?ref_=fn_tt_tt_1,10,English,Canada,Not Rated,1200000,2011,,7.4,,5000;\n",
      "Color,Robert Kenner,120,94,11,2,Eric Schlosser,37,4417124,Documentary,Michael Pollan,\"Food, Inc. \",42389,42,Barbara Kowalcyk,0,farming|flesh eating|food|food industry|gluttony,http://www.imdb.com/title/tt1286537/?ref_=fn_tt_tt_1,183,English,USA,PG,,2008,3,7.9,1.78,37000;\n",
      "Color,Cristian Mungiu,233,113,163,27,Vlad Ivanov,131,1185783,Drama,Anamaria Marinca,\"4 Months, 3 Weeks and 2 Days \",44763,264,Alexandru Potocean,0,female rear nudity|friend|hotel|rainy night|towel,http://www.imdb.com/title/tt1032846/?ref_=fn_tt_tt_1,172,Romanian,Romania,Not Rated,590000,2007,60,7.9,1.85,14000;\n",
      "Color,Jamie Travis,115,88,15,567,Ari Graynor,938,1243961,Comedy,James Wolk,\"For a Good Time, Call... \",13421,3770,Nia Vardalos,0,friend|friendship|gay|phone sex|sex,http://www.imdb.com/title/tt1996264/?ref_=fn_tt_tt_1,34,English,USA,R,850000,2012,904,6.0,2.35,0;\n",
      "Color,Jesse Peretz,16,94,37,104,Eli Marienthal,318,40542,Drama|Romance,Robert John Burke,\"First Love, Last Rites \",294,751,Natasha Gregson Wagner,0,listening to music|misfit|panties|red panties|sex,http://www.imdb.com/title/tt0128214/?ref_=fn_tt_tt_1,16,English,USA,R,300000,1997,157,5.5,,26;\n",
      " Black and White,Eugène Lourié,67,80,7,21,Cecil Kellaway,57,5000000,Adventure|Horror|Sci-Fi,Kenneth Tobey,\"The Beast from 20,000 Fathoms \",4812,205,Ross Elliott,0,arctic|beast|dinosaur|monster|rhedosaurus,http://www.imdb.com/title/tt0045546/?ref_=fn_tt_tt_1,88,English,USA,Approved,210000,1953,40,6.7,1.37,465;\n",
      "Color,Richard Fleischer,69,127,130,51,Robert J. Wilke,618,,Adventure|Drama|Family|Fantasy|Sci-Fi,James Mason,\"20,000 Leagues Under the Sea \",22124,800,Paul Lukas,0,captain|expedition|sea|submarine|whale,http://www.imdb.com/title/tt0046672/?ref_=fn_tt_tt_1,108,English,USA,Approved,5000000,1954,53,7.2,1.37,0;\n",
      "Color,Stephen Langford,2,82,7,50,Gabriela Castillo,143,,Family,Kevin P. Farley,\"Dude, Where's My Dog?! \",73,417,Brandon Middleton,0,,http://www.imdb.com/title/tt3109200/?ref_=fn_tt_tt_1,4,English,USA,PG,20000,2014,134,3.2,1.85,178;\n",
      "Color,Sut Jhally,16,80,3,0,Seth Ackerman,103,,Documentary,Noam Chomsky,\"Peace, Propaganda & the Promised Land \",496,103,Arik Ascherman,3,arab israeli conflict|israel|media|middle east|palestine,http://www.imdb.com/title/tt0428959/?ref_=fn_tt_tt_1,13,English,USA,,70000,2004,0,8.3,,110;\n",
      "Color,Julie Davis,5,86,12,117,Meredith Scott Lynn,238,33598,Comedy|Romance,Jack McGee,\"I Love You, Don't Touch Me! \",405,623,Tim DeZarn,1,female frontal nudity|female rear nudity|title directed by female|virgin|written and directed by cast member,http://www.imdb.com/title/tt0130019/?ref_=fn_tt_tt_1,15,English,USA,R,,1997,166,5.4,,97;\n",
      "Color,Collin Joseph Neal,7,75,14,130,Thomas Brophy,252,,Horror|Thriller,Julianne Gabert,\"Run, Hide, Die \",106,638,Ronee Collins,0,,http://www.imdb.com/title/tt2442662/?ref_=fn_tt_tt_1,5,English,USA,,50000,2012,132,3.7,2.35,225;\n"
     ]
    }
   ],
   "source": [
    "csv_content = ','.join(df.columns.to_list())\n",
    "csv_content += ';\\n'\n",
    "\n",
    "count = 0\n",
    "\n",
    "for i in var:\n",
    "    count += 1\n",
    "    csv_content += str(i)\n",
    "    if count != len(var):\n",
    "        csv_content += '\\n'\n",
    "\n",
    "print(csv_content)"
   ]
  },
  {
   "cell_type": "markdown",
   "id": "078d1fb5-33d6-4db4-88ec-814e322d35ea",
   "metadata": {},
   "source": [
    "Запишем содержимое в новый файл LostData.csv."
   ]
  },
  {
   "cell_type": "code",
   "execution_count": 12,
   "id": "179fd54f-6ed1-4af9-82a1-8a45a1382b59",
   "metadata": {},
   "outputs": [],
   "source": [
    "new_csv = open(\"..\\data\\LostData.csv\", \"w+\", encoding=\"utf-8\")\n",
    "new_csv.write(csv_content)\n",
    "new_csv.close()"
   ]
  },
  {
   "cell_type": "markdown",
   "id": "801913da-919d-47dc-bbbe-409469450b18",
   "metadata": {},
   "source": [
    "Создадим новый датафрейм на основе файла."
   ]
  },
  {
   "cell_type": "code",
   "execution_count": 13,
   "id": "b2674373-c57a-4c81-aff9-35ed309eede4",
   "metadata": {},
   "outputs": [
    {
     "data": {
      "text/html": [
       "<div>\n",
       "<style scoped>\n",
       "    .dataframe tbody tr th:only-of-type {\n",
       "        vertical-align: middle;\n",
       "    }\n",
       "\n",
       "    .dataframe tbody tr th {\n",
       "        vertical-align: top;\n",
       "    }\n",
       "\n",
       "    .dataframe thead th {\n",
       "        text-align: right;\n",
       "    }\n",
       "</style>\n",
       "<table border=\"1\" class=\"dataframe\">\n",
       "  <thead>\n",
       "    <tr style=\"text-align: right;\">\n",
       "      <th></th>\n",
       "      <th>color</th>\n",
       "      <th>director_name</th>\n",
       "      <th>num_critic_for_reviews</th>\n",
       "      <th>duration</th>\n",
       "      <th>director_facebook_likes</th>\n",
       "      <th>actor_3_facebook_likes</th>\n",
       "      <th>actor_2_name</th>\n",
       "      <th>actor_1_facebook_likes</th>\n",
       "      <th>gross</th>\n",
       "      <th>genres</th>\n",
       "      <th>...</th>\n",
       "      <th>num_user_for_reviews</th>\n",
       "      <th>language</th>\n",
       "      <th>country</th>\n",
       "      <th>content_rating</th>\n",
       "      <th>budget</th>\n",
       "      <th>title_year</th>\n",
       "      <th>actor_2_facebook_likes</th>\n",
       "      <th>imdb_score</th>\n",
       "      <th>aspect_ratio</th>\n",
       "      <th>movie_facebook_likes;</th>\n",
       "    </tr>\n",
       "  </thead>\n",
       "  <tbody>\n",
       "    <tr>\n",
       "      <th>0</th>\n",
       "      <td>Color</td>\n",
       "      <td>Andrew Adamson</td>\n",
       "      <td>284.0</td>\n",
       "      <td>150</td>\n",
       "      <td>80.0</td>\n",
       "      <td>82.0</td>\n",
       "      <td>Kiran Shah</td>\n",
       "      <td>1000.0</td>\n",
       "      <td>291709845.0</td>\n",
       "      <td>Adventure|Family|Fantasy</td>\n",
       "      <td>...</td>\n",
       "      <td>1463.0</td>\n",
       "      <td>English</td>\n",
       "      <td>USA</td>\n",
       "      <td>PG</td>\n",
       "      <td>180000000.0</td>\n",
       "      <td>2005.0</td>\n",
       "      <td>190.0</td>\n",
       "      <td>6.9</td>\n",
       "      <td>2.35</td>\n",
       "      <td>0;</td>\n",
       "    </tr>\n",
       "    <tr>\n",
       "      <th>1</th>\n",
       "      <td>Color</td>\n",
       "      <td>Pete Docter</td>\n",
       "      <td>250.0</td>\n",
       "      <td>92</td>\n",
       "      <td>0.0</td>\n",
       "      <td>773.0</td>\n",
       "      <td>John Ratzenberger</td>\n",
       "      <td>12000.0</td>\n",
       "      <td>289907418.0</td>\n",
       "      <td>Adventure|Animation|Comedy|Family|Fantasy</td>\n",
       "      <td>...</td>\n",
       "      <td>593.0</td>\n",
       "      <td>English</td>\n",
       "      <td>USA</td>\n",
       "      <td>G</td>\n",
       "      <td>115000000.0</td>\n",
       "      <td>2001.0</td>\n",
       "      <td>1000.0</td>\n",
       "      <td>8.1</td>\n",
       "      <td>1.85</td>\n",
       "      <td>0;</td>\n",
       "    </tr>\n",
       "    <tr>\n",
       "      <th>2</th>\n",
       "      <td>Color</td>\n",
       "      <td>Alex Proyas</td>\n",
       "      <td>225.0</td>\n",
       "      <td>115</td>\n",
       "      <td>295.0</td>\n",
       "      <td>466.0</td>\n",
       "      <td>Bruce Greenwood</td>\n",
       "      <td>10000.0</td>\n",
       "      <td>144795350.0</td>\n",
       "      <td>Action|Mystery|Sci-Fi|Thriller</td>\n",
       "      <td>...</td>\n",
       "      <td>789.0</td>\n",
       "      <td>English</td>\n",
       "      <td>USA</td>\n",
       "      <td>PG-13</td>\n",
       "      <td>120000000.0</td>\n",
       "      <td>2004.0</td>\n",
       "      <td>981.0</td>\n",
       "      <td>7.1</td>\n",
       "      <td>2.35</td>\n",
       "      <td>0;</td>\n",
       "    </tr>\n",
       "    <tr>\n",
       "      <th>3</th>\n",
       "      <td>NaN</td>\n",
       "      <td>Christopher Barnard</td>\n",
       "      <td>NaN</td>\n",
       "      <td>22</td>\n",
       "      <td>0.0</td>\n",
       "      <td>NaN</td>\n",
       "      <td>NaN</td>\n",
       "      <td>5.0</td>\n",
       "      <td>NaN</td>\n",
       "      <td>Comedy</td>\n",
       "      <td>...</td>\n",
       "      <td>NaN</td>\n",
       "      <td>NaN</td>\n",
       "      <td>NaN</td>\n",
       "      <td>NaN</td>\n",
       "      <td>NaN</td>\n",
       "      <td>NaN</td>\n",
       "      <td>NaN</td>\n",
       "      <td>7.2</td>\n",
       "      <td>NaN</td>\n",
       "      <td>0;</td>\n",
       "    </tr>\n",
       "    <tr>\n",
       "      <th>4</th>\n",
       "      <td>Color</td>\n",
       "      <td>Stuart Beattie</td>\n",
       "      <td>308.0</td>\n",
       "      <td>92</td>\n",
       "      <td>72.0</td>\n",
       "      <td>568.0</td>\n",
       "      <td>Kevin Grevioux</td>\n",
       "      <td>623.0</td>\n",
       "      <td>19059018.0</td>\n",
       "      <td>Action|Fantasy|Sci-Fi|Thriller</td>\n",
       "      <td>...</td>\n",
       "      <td>194.0</td>\n",
       "      <td>English</td>\n",
       "      <td>Australia</td>\n",
       "      <td>PG-13</td>\n",
       "      <td>65000000.0</td>\n",
       "      <td>2014.0</td>\n",
       "      <td>593.0</td>\n",
       "      <td>5.1</td>\n",
       "      <td>2.35</td>\n",
       "      <td>15000;</td>\n",
       "    </tr>\n",
       "    <tr>\n",
       "      <th>5</th>\n",
       "      <td>Color</td>\n",
       "      <td>NaN</td>\n",
       "      <td>20.0</td>\n",
       "      <td>22</td>\n",
       "      <td>NaN</td>\n",
       "      <td>271.0</td>\n",
       "      <td>Soleil Moon Frye</td>\n",
       "      <td>870.0</td>\n",
       "      <td>NaN</td>\n",
       "      <td>Comedy|Family|Fantasy</td>\n",
       "      <td>...</td>\n",
       "      <td>94.0</td>\n",
       "      <td>English</td>\n",
       "      <td>USA</td>\n",
       "      <td>TV-G</td>\n",
       "      <td>3000000.0</td>\n",
       "      <td>NaN</td>\n",
       "      <td>558.0</td>\n",
       "      <td>6.6</td>\n",
       "      <td>1.33</td>\n",
       "      <td>990;</td>\n",
       "    </tr>\n",
       "    <tr>\n",
       "      <th>6</th>\n",
       "      <td>Color</td>\n",
       "      <td>Anthony Russo</td>\n",
       "      <td>136.0</td>\n",
       "      <td>110</td>\n",
       "      <td>94.0</td>\n",
       "      <td>240.0</td>\n",
       "      <td>Billy Gardell</td>\n",
       "      <td>277.0</td>\n",
       "      <td>75604320.0</td>\n",
       "      <td>Comedy|Romance</td>\n",
       "      <td>...</td>\n",
       "      <td>195.0</td>\n",
       "      <td>English</td>\n",
       "      <td>USA</td>\n",
       "      <td>PG-13</td>\n",
       "      <td>54000000.0</td>\n",
       "      <td>2006.0</td>\n",
       "      <td>245.0</td>\n",
       "      <td>5.6</td>\n",
       "      <td>1.85</td>\n",
       "      <td>0;</td>\n",
       "    </tr>\n",
       "    <tr>\n",
       "      <th>7</th>\n",
       "      <td>Color</td>\n",
       "      <td>Bobby Farrelly</td>\n",
       "      <td>155.0</td>\n",
       "      <td>116</td>\n",
       "      <td>101.0</td>\n",
       "      <td>79.0</td>\n",
       "      <td>Tony Cox</td>\n",
       "      <td>889.0</td>\n",
       "      <td>90567722.0</td>\n",
       "      <td>Comedy</td>\n",
       "      <td>...</td>\n",
       "      <td>481.0</td>\n",
       "      <td>English</td>\n",
       "      <td>USA</td>\n",
       "      <td>R</td>\n",
       "      <td>51000000.0</td>\n",
       "      <td>2000.0</td>\n",
       "      <td>624.0</td>\n",
       "      <td>6.5</td>\n",
       "      <td>1.85</td>\n",
       "      <td>0;</td>\n",
       "    </tr>\n",
       "    <tr>\n",
       "      <th>8</th>\n",
       "      <td>Color</td>\n",
       "      <td>Glenn Ficarra</td>\n",
       "      <td>310.0</td>\n",
       "      <td>118</td>\n",
       "      <td>43.0</td>\n",
       "      <td>7000.0</td>\n",
       "      <td>Emma Stone</td>\n",
       "      <td>33000.0</td>\n",
       "      <td>84244877.0</td>\n",
       "      <td>Comedy|Drama|Romance</td>\n",
       "      <td>...</td>\n",
       "      <td>292.0</td>\n",
       "      <td>English</td>\n",
       "      <td>USA</td>\n",
       "      <td>PG-13</td>\n",
       "      <td>50000000.0</td>\n",
       "      <td>2011.0</td>\n",
       "      <td>15000.0</td>\n",
       "      <td>7.4</td>\n",
       "      <td>2.39</td>\n",
       "      <td>44000;</td>\n",
       "    </tr>\n",
       "    <tr>\n",
       "      <th>9</th>\n",
       "      <td>Color</td>\n",
       "      <td>Melville Shavelson</td>\n",
       "      <td>8.0</td>\n",
       "      <td>111</td>\n",
       "      <td>5.0</td>\n",
       "      <td>559.0</td>\n",
       "      <td>Tom Bosley</td>\n",
       "      <td>6000.0</td>\n",
       "      <td>NaN</td>\n",
       "      <td>Comedy|Family</td>\n",
       "      <td>...</td>\n",
       "      <td>61.0</td>\n",
       "      <td>English</td>\n",
       "      <td>USA</td>\n",
       "      <td>Unrated</td>\n",
       "      <td>2500000.0</td>\n",
       "      <td>1968.0</td>\n",
       "      <td>584.0</td>\n",
       "      <td>7.2</td>\n",
       "      <td>1.85</td>\n",
       "      <td>0;</td>\n",
       "    </tr>\n",
       "  </tbody>\n",
       "</table>\n",
       "<p>10 rows × 28 columns</p>\n",
       "</div>"
      ],
      "text/plain": [
       "   color        director_name  num_critic_for_reviews  duration  \\\n",
       "0  Color       Andrew Adamson                   284.0       150   \n",
       "1  Color          Pete Docter                   250.0        92   \n",
       "2  Color          Alex Proyas                   225.0       115   \n",
       "3    NaN  Christopher Barnard                     NaN        22   \n",
       "4  Color       Stuart Beattie                   308.0        92   \n",
       "5  Color                  NaN                    20.0        22   \n",
       "6  Color        Anthony Russo                   136.0       110   \n",
       "7  Color       Bobby Farrelly                   155.0       116   \n",
       "8  Color        Glenn Ficarra                   310.0       118   \n",
       "9  Color   Melville Shavelson                     8.0       111   \n",
       "\n",
       "   director_facebook_likes  actor_3_facebook_likes       actor_2_name  \\\n",
       "0                     80.0                    82.0         Kiran Shah   \n",
       "1                      0.0                   773.0  John Ratzenberger   \n",
       "2                    295.0                   466.0    Bruce Greenwood   \n",
       "3                      0.0                     NaN                NaN   \n",
       "4                     72.0                   568.0     Kevin Grevioux   \n",
       "5                      NaN                   271.0   Soleil Moon Frye   \n",
       "6                     94.0                   240.0      Billy Gardell   \n",
       "7                    101.0                    79.0           Tony Cox   \n",
       "8                     43.0                  7000.0         Emma Stone   \n",
       "9                      5.0                   559.0         Tom Bosley   \n",
       "\n",
       "   actor_1_facebook_likes        gross  \\\n",
       "0                  1000.0  291709845.0   \n",
       "1                 12000.0  289907418.0   \n",
       "2                 10000.0  144795350.0   \n",
       "3                     5.0          NaN   \n",
       "4                   623.0   19059018.0   \n",
       "5                   870.0          NaN   \n",
       "6                   277.0   75604320.0   \n",
       "7                   889.0   90567722.0   \n",
       "8                 33000.0   84244877.0   \n",
       "9                  6000.0          NaN   \n",
       "\n",
       "                                      genres  ... num_user_for_reviews  \\\n",
       "0                   Adventure|Family|Fantasy  ...               1463.0   \n",
       "1  Adventure|Animation|Comedy|Family|Fantasy  ...                593.0   \n",
       "2             Action|Mystery|Sci-Fi|Thriller  ...                789.0   \n",
       "3                                     Comedy  ...                  NaN   \n",
       "4             Action|Fantasy|Sci-Fi|Thriller  ...                194.0   \n",
       "5                      Comedy|Family|Fantasy  ...                 94.0   \n",
       "6                             Comedy|Romance  ...                195.0   \n",
       "7                                     Comedy  ...                481.0   \n",
       "8                       Comedy|Drama|Romance  ...                292.0   \n",
       "9                              Comedy|Family  ...                 61.0   \n",
       "\n",
       "  language    country  content_rating       budget  title_year  \\\n",
       "0  English        USA              PG  180000000.0      2005.0   \n",
       "1  English        USA               G  115000000.0      2001.0   \n",
       "2  English        USA           PG-13  120000000.0      2004.0   \n",
       "3      NaN        NaN             NaN          NaN         NaN   \n",
       "4  English  Australia           PG-13   65000000.0      2014.0   \n",
       "5  English        USA            TV-G    3000000.0         NaN   \n",
       "6  English        USA           PG-13   54000000.0      2006.0   \n",
       "7  English        USA               R   51000000.0      2000.0   \n",
       "8  English        USA           PG-13   50000000.0      2011.0   \n",
       "9  English        USA         Unrated    2500000.0      1968.0   \n",
       "\n",
       "  actor_2_facebook_likes imdb_score  aspect_ratio movie_facebook_likes;  \n",
       "0                  190.0        6.9          2.35                    0;  \n",
       "1                 1000.0        8.1          1.85                    0;  \n",
       "2                  981.0        7.1          2.35                    0;  \n",
       "3                    NaN        7.2           NaN                    0;  \n",
       "4                  593.0        5.1          2.35                15000;  \n",
       "5                  558.0        6.6          1.33                  990;  \n",
       "6                  245.0        5.6          1.85                    0;  \n",
       "7                  624.0        6.5          1.85                    0;  \n",
       "8                15000.0        7.4          2.39                44000;  \n",
       "9                  584.0        7.2          1.85                    0;  \n",
       "\n",
       "[10 rows x 28 columns]"
      ]
     },
     "execution_count": 13,
     "metadata": {},
     "output_type": "execute_result"
    }
   ],
   "source": [
    "new_df = pd.read_csv(\"..\\data\\LostData.csv\")\n",
    "new_df.head(10)"
   ]
  },
  {
   "cell_type": "markdown",
   "id": "461a3317-6ed9-48d7-b380-8518d661ee18",
   "metadata": {},
   "source": [
    "Сконкатенируем оба датасета."
   ]
  },
  {
   "cell_type": "code",
   "execution_count": 14,
   "id": "e1c1e331-572f-45ca-9226-2cf96b2d12cc",
   "metadata": {},
   "outputs": [
    {
     "name": "stdout",
     "output_type": "stream",
     "text": [
      "<class 'pandas.core.frame.DataFrame'>\n",
      "Index: 4998 entries, 0 to 67\n",
      "Data columns (total 29 columns):\n",
      " #   Column                     Non-Null Count  Dtype  \n",
      "---  ------                     --------------  -----  \n",
      " 0   color                      4997 non-null   object \n",
      " 1   director_name              4895 non-null   object \n",
      " 2   num_critic_for_reviews     4949 non-null   float64\n",
      " 3   duration                   4983 non-null   float64\n",
      " 4   director_facebook_likes    4895 non-null   float64\n",
      " 5   actor_3_facebook_likes     4975 non-null   float64\n",
      " 6   actor_2_name               4985 non-null   object \n",
      " 7   actor_1_facebook_likes     4991 non-null   float64\n",
      " 8   gross                      4124 non-null   float64\n",
      " 9   genres                     4998 non-null   object \n",
      " 10  actor_1_name               4991 non-null   object \n",
      " 11  movie_title                4998 non-null   object \n",
      " 12  num_voted_users            4998 non-null   float64\n",
      " 13  cast_total_facebook_likes  4998 non-null   float64\n",
      " 14  actor_3_name               4975 non-null   object \n",
      " 15  facenumber_in_poster       4985 non-null   float64\n",
      " 16  plot_keywords              4846 non-null   object \n",
      " 17  movie_imdb_link            4998 non-null   object \n",
      " 18  num_user_for_reviews       4977 non-null   float64\n",
      " 19  language                   4984 non-null   object \n",
      " 20  country                    4993 non-null   object \n",
      " 21  content_rating             4697 non-null   object \n",
      " 22  budget                     4511 non-null   float64\n",
      " 23  title_year                 4891 non-null   float64\n",
      " 24  actor_2_facebook_likes     4985 non-null   float64\n",
      " 25  imdb_score                 4998 non-null   float64\n",
      " 26  aspect_ratio               4671 non-null   float64\n",
      " 27  movie_facebook_likes       4930 non-null   object \n",
      " 28  movie_facebook_likes;      68 non-null     object \n",
      "dtypes: float64(15), object(14)\n",
      "memory usage: 1.1+ MB\n"
     ]
    }
   ],
   "source": [
    "df = pd.concat([df, new_df])\n",
    "df.info()"
   ]
  },
  {
   "cell_type": "markdown",
   "id": "c084f26a-4c55-4514-994b-ae774b26765e",
   "metadata": {},
   "source": [
    "Вычислим количество NaN значений в каждом столбце:"
   ]
  },
  {
   "cell_type": "code",
   "execution_count": 15,
   "id": "90ec04e5-7933-49f0-9b91-a70100bfb82d",
   "metadata": {},
   "outputs": [
    {
     "data": {
      "text/plain": [
       "color                           1\n",
       "director_name                 103\n",
       "num_critic_for_reviews         49\n",
       "duration                       15\n",
       "director_facebook_likes       103\n",
       "actor_3_facebook_likes         23\n",
       "actor_2_name                   13\n",
       "actor_1_facebook_likes          7\n",
       "gross                         874\n",
       "genres                          0\n",
       "actor_1_name                    7\n",
       "movie_title                     0\n",
       "num_voted_users                 0\n",
       "cast_total_facebook_likes       0\n",
       "actor_3_name                   23\n",
       "facenumber_in_poster           13\n",
       "plot_keywords                 152\n",
       "movie_imdb_link                 0\n",
       "num_user_for_reviews           21\n",
       "language                       14\n",
       "country                         5\n",
       "content_rating                301\n",
       "budget                        487\n",
       "title_year                    107\n",
       "actor_2_facebook_likes         13\n",
       "imdb_score                      0\n",
       "aspect_ratio                  327\n",
       "movie_facebook_likes           68\n",
       "movie_facebook_likes;        4930\n",
       "dtype: int64"
      ]
     },
     "execution_count": 15,
     "metadata": {},
     "output_type": "execute_result"
    }
   ],
   "source": [
    "df.isna().sum()      "
   ]
  },
  {
   "cell_type": "markdown",
   "id": "705d3fec-0e60-4f74-bb6c-8879388b23f5",
   "metadata": {},
   "source": [
    "Разделим NaN значения на числовые и строковые. Затем напишем функцию replace_value(), которая будет заменять пустые значения в соответствие с заданными списком заголовков и значением, и воспользуемся ей."
   ]
  },
  {
   "cell_type": "code",
   "execution_count": 16,
   "id": "8fd41781-898c-40fc-a243-d98da9efa6b6",
   "metadata": {},
   "outputs": [],
   "source": [
    "columns_to_replace_str = ['color', 'director_name', 'actor_2_name', 'genres', 'actor_1_name', 'movie_title', 'actor_3_name', \n",
    "                      'plot_keywords', 'movie_imdb_link', 'language', 'country', 'content_rating']\n",
    "\n",
    "def replace_value(df, columns, value):\n",
    "    for row in columns:\n",
    "        df[row] = df[row].fillna(value)\n",
    "    return df\n",
    "    \n",
    "df = replace_value(df, columns_to_replace_str, 'unknown')"
   ]
  },
  {
   "cell_type": "code",
   "execution_count": 17,
   "id": "559caa7c-adc9-42e5-8589-5f432d112cba",
   "metadata": {},
   "outputs": [
    {
     "name": "stdout",
     "output_type": "stream",
     "text": [
      "['num_critic_for_reviews', 'duration', 'director_facebook_likes', 'actor_3_facebook_likes', 'actor_1_facebook_likes', 'gross', 'num_voted_users', 'cast_total_facebook_likes', 'facenumber_in_poster', 'num_user_for_reviews', 'budget', 'title_year', 'actor_2_facebook_likes', 'imdb_score', 'aspect_ratio', 'movie_facebook_likes', 'movie_facebook_likes;']\n"
     ]
    }
   ],
   "source": [
    "temp = df.columns.values.tolist()\n",
    "columns_to_replace_num = []\n",
    "\n",
    "for column in temp:\n",
    "    if column not in columns_to_replace_str:\n",
    "        columns_to_replace_num.append(column)\n",
    "\n",
    "print(columns_to_replace_num)"
   ]
  },
  {
   "cell_type": "code",
   "execution_count": 18,
   "id": "a33d9309-492a-4224-897c-89daa374a942",
   "metadata": {},
   "outputs": [],
   "source": [
    "value = 0\n",
    "df = replace_value(df, columns_to_replace_num, value) "
   ]
  },
  {
   "cell_type": "markdown",
   "id": "ff56c975-1943-46ba-b3ea-9e6364a3c1da",
   "metadata": {},
   "source": [
    "Теперь значения NaN отсутствуют в датафрейме."
   ]
  },
  {
   "cell_type": "code",
   "execution_count": 19,
   "id": "7f79dea1-bf48-4993-9cbc-a4c40237a2a2",
   "metadata": {},
   "outputs": [
    {
     "data": {
      "text/plain": [
       "color                        0\n",
       "director_name                0\n",
       "num_critic_for_reviews       0\n",
       "duration                     0\n",
       "director_facebook_likes      0\n",
       "actor_3_facebook_likes       0\n",
       "actor_2_name                 0\n",
       "actor_1_facebook_likes       0\n",
       "gross                        0\n",
       "genres                       0\n",
       "actor_1_name                 0\n",
       "movie_title                  0\n",
       "num_voted_users              0\n",
       "cast_total_facebook_likes    0\n",
       "actor_3_name                 0\n",
       "facenumber_in_poster         0\n",
       "plot_keywords                0\n",
       "movie_imdb_link              0\n",
       "num_user_for_reviews         0\n",
       "language                     0\n",
       "country                      0\n",
       "content_rating               0\n",
       "budget                       0\n",
       "title_year                   0\n",
       "actor_2_facebook_likes       0\n",
       "imdb_score                   0\n",
       "aspect_ratio                 0\n",
       "movie_facebook_likes         0\n",
       "movie_facebook_likes;        0\n",
       "dtype: int64"
      ]
     },
     "execution_count": 19,
     "metadata": {},
     "output_type": "execute_result"
    }
   ],
   "source": [
    "df.isna().sum()"
   ]
  },
  {
   "cell_type": "markdown",
   "id": "f67654a2-936c-41cf-86b9-16406811b7a4",
   "metadata": {},
   "source": [
    "Поскольку явные дубликаты отсутствуют в датафрейме, перейдем к нахождению неявных. Для рассмотрения гипотез необходимо проверить на уникальность значения в Series content_rating."
   ]
  },
  {
   "cell_type": "code",
   "execution_count": 20,
   "id": "0a71f3c6-15e2-4a58-80ed-b2184c497363",
   "metadata": {
    "scrolled": true
   },
   "outputs": [
    {
     "data": {
      "text/plain": [
       "['Approved',\n",
       " 'G',\n",
       " 'GP',\n",
       " 'M',\n",
       " 'NC-17',\n",
       " 'Not Rated',\n",
       " 'PG',\n",
       " 'PG-13',\n",
       " 'Passed',\n",
       " 'R',\n",
       " 'TV-14',\n",
       " 'TV-G',\n",
       " 'TV-MA',\n",
       " 'TV-PG',\n",
       " 'TV-Y',\n",
       " 'TV-Y7',\n",
       " 'Unrated',\n",
       " 'X',\n",
       " 'unknown']"
      ]
     },
     "execution_count": 20,
     "metadata": {},
     "output_type": "execute_result"
    }
   ],
   "source": [
    "sorted (df['content_rating'].unique())"
   ]
  },
  {
   "cell_type": "markdown",
   "id": "2f7871d7-2c37-4d54-86af-f39f05e841da",
   "metadata": {},
   "source": [
    "Здесь рейтинги 'Not Rated', 'Unrated' являются синонимами определенного ранее 'unknown'. Помимо этого:\n",
    "'G' = 'Passed';\n",
    "'PG' = 'GP' = 'M';\n",
    "'NC-17' = 'X'"
   ]
  },
  {
   "cell_type": "code",
   "execution_count": 21,
   "id": "0bde048a-9489-45a9-af9e-552572246612",
   "metadata": {},
   "outputs": [],
   "source": [
    "def replace_same_ratings (wrong_ratings, correct_rating, df):\n",
    "    for wrong_rating in wrong_ratings:\n",
    "        df['content_rating'] = df['content_rating'].replace(wrong_rating, correct_rating)\n",
    "    return df"
   ]
  },
  {
   "cell_type": "code",
   "execution_count": 22,
   "id": "573f13f2-a37f-4eab-8eb5-02b55b1d08f8",
   "metadata": {},
   "outputs": [],
   "source": [
    "df = replace_same_ratings(['Passed', 'Approved'], 'G', df)\n",
    "df = replace_same_ratings(['GP', 'M'], 'PG', df)\n",
    "df = replace_same_ratings(['X'], 'NC-17', df)\n",
    "df = replace_same_ratings(['Not Rated', 'Unrated'], 'unknown', df)"
   ]
  },
  {
   "cell_type": "code",
   "execution_count": 23,
   "id": "d712a41f-2860-4e1c-86bf-d0ee5fcf11ad",
   "metadata": {},
   "outputs": [
    {
     "data": {
      "text/plain": [
       "['G',\n",
       " 'NC-17',\n",
       " 'PG',\n",
       " 'PG-13',\n",
       " 'R',\n",
       " 'TV-14',\n",
       " 'TV-G',\n",
       " 'TV-MA',\n",
       " 'TV-PG',\n",
       " 'TV-Y',\n",
       " 'TV-Y7',\n",
       " 'unknown']"
      ]
     },
     "execution_count": 23,
     "metadata": {},
     "output_type": "execute_result"
    }
   ],
   "source": [
    "sorted (df['content_rating'].unique())"
   ]
  },
  {
   "cell_type": "markdown",
   "id": "9c7e5458-c7a7-49cf-96d2-aa16fb93b0df",
   "metadata": {},
   "source": [
    "Приведем бюджеты и доходы разных годов к значению инфляциии на 2016 год. Для этого пропарсим сайт с необходимой таблицей"
   ]
  },
  {
   "cell_type": "code",
   "execution_count": 24,
   "id": "bc74ea5b-af7b-428f-b7da-e4c1c406aba5",
   "metadata": {},
   "outputs": [
    {
     "data": {
      "text/html": [
       "<div>\n",
       "<style scoped>\n",
       "    .dataframe tbody tr th:only-of-type {\n",
       "        vertical-align: middle;\n",
       "    }\n",
       "\n",
       "    .dataframe tbody tr th {\n",
       "        vertical-align: top;\n",
       "    }\n",
       "\n",
       "    .dataframe thead th {\n",
       "        text-align: right;\n",
       "    }\n",
       "</style>\n",
       "<table border=\"1\" class=\"dataframe\">\n",
       "  <thead>\n",
       "    <tr style=\"text-align: right;\">\n",
       "      <th></th>\n",
       "      <th>avg_annual_cpi</th>\n",
       "      <th>year</th>\n",
       "    </tr>\n",
       "  </thead>\n",
       "  <tbody>\n",
       "    <tr>\n",
       "      <th>0</th>\n",
       "      <td>9.9</td>\n",
       "      <td>1913</td>\n",
       "    </tr>\n",
       "    <tr>\n",
       "      <th>1</th>\n",
       "      <td>10.0</td>\n",
       "      <td>1914</td>\n",
       "    </tr>\n",
       "    <tr>\n",
       "      <th>2</th>\n",
       "      <td>10.1</td>\n",
       "      <td>1915</td>\n",
       "    </tr>\n",
       "    <tr>\n",
       "      <th>3</th>\n",
       "      <td>10.9</td>\n",
       "      <td>1916</td>\n",
       "    </tr>\n",
       "    <tr>\n",
       "      <th>4</th>\n",
       "      <td>12.8</td>\n",
       "      <td>1917</td>\n",
       "    </tr>\n",
       "    <tr>\n",
       "      <th>5</th>\n",
       "      <td>15.1</td>\n",
       "      <td>1918</td>\n",
       "    </tr>\n",
       "    <tr>\n",
       "      <th>6</th>\n",
       "      <td>17.3</td>\n",
       "      <td>1919</td>\n",
       "    </tr>\n",
       "    <tr>\n",
       "      <th>7</th>\n",
       "      <td>20.0</td>\n",
       "      <td>1920</td>\n",
       "    </tr>\n",
       "    <tr>\n",
       "      <th>8</th>\n",
       "      <td>17.9</td>\n",
       "      <td>1921</td>\n",
       "    </tr>\n",
       "    <tr>\n",
       "      <th>9</th>\n",
       "      <td>16.8</td>\n",
       "      <td>1922</td>\n",
       "    </tr>\n",
       "    <tr>\n",
       "      <th>10</th>\n",
       "      <td>17.1</td>\n",
       "      <td>1923</td>\n",
       "    </tr>\n",
       "    <tr>\n",
       "      <th>11</th>\n",
       "      <td>17.1</td>\n",
       "      <td>1924</td>\n",
       "    </tr>\n",
       "    <tr>\n",
       "      <th>12</th>\n",
       "      <td>17.5</td>\n",
       "      <td>1925</td>\n",
       "    </tr>\n",
       "    <tr>\n",
       "      <th>13</th>\n",
       "      <td>17.7</td>\n",
       "      <td>1926</td>\n",
       "    </tr>\n",
       "    <tr>\n",
       "      <th>14</th>\n",
       "      <td>17.4</td>\n",
       "      <td>1927</td>\n",
       "    </tr>\n",
       "    <tr>\n",
       "      <th>15</th>\n",
       "      <td>17.1</td>\n",
       "      <td>1928</td>\n",
       "    </tr>\n",
       "    <tr>\n",
       "      <th>16</th>\n",
       "      <td>17.1</td>\n",
       "      <td>1929</td>\n",
       "    </tr>\n",
       "    <tr>\n",
       "      <th>17</th>\n",
       "      <td>16.7</td>\n",
       "      <td>1930</td>\n",
       "    </tr>\n",
       "    <tr>\n",
       "      <th>18</th>\n",
       "      <td>15.2</td>\n",
       "      <td>1931</td>\n",
       "    </tr>\n",
       "    <tr>\n",
       "      <th>19</th>\n",
       "      <td>13.7</td>\n",
       "      <td>1932</td>\n",
       "    </tr>\n",
       "    <tr>\n",
       "      <th>20</th>\n",
       "      <td>13.0</td>\n",
       "      <td>1933</td>\n",
       "    </tr>\n",
       "    <tr>\n",
       "      <th>21</th>\n",
       "      <td>13.4</td>\n",
       "      <td>1934</td>\n",
       "    </tr>\n",
       "    <tr>\n",
       "      <th>22</th>\n",
       "      <td>13.7</td>\n",
       "      <td>1935</td>\n",
       "    </tr>\n",
       "    <tr>\n",
       "      <th>23</th>\n",
       "      <td>13.9</td>\n",
       "      <td>1936</td>\n",
       "    </tr>\n",
       "    <tr>\n",
       "      <th>24</th>\n",
       "      <td>14.4</td>\n",
       "      <td>1937</td>\n",
       "    </tr>\n",
       "    <tr>\n",
       "      <th>25</th>\n",
       "      <td>14.1</td>\n",
       "      <td>1938</td>\n",
       "    </tr>\n",
       "    <tr>\n",
       "      <th>26</th>\n",
       "      <td>13.9</td>\n",
       "      <td>1939</td>\n",
       "    </tr>\n",
       "    <tr>\n",
       "      <th>27</th>\n",
       "      <td>14.0</td>\n",
       "      <td>1940</td>\n",
       "    </tr>\n",
       "    <tr>\n",
       "      <th>28</th>\n",
       "      <td>14.7</td>\n",
       "      <td>1941</td>\n",
       "    </tr>\n",
       "    <tr>\n",
       "      <th>29</th>\n",
       "      <td>16.3</td>\n",
       "      <td>1942</td>\n",
       "    </tr>\n",
       "  </tbody>\n",
       "</table>\n",
       "</div>"
      ],
      "text/plain": [
       "    avg_annual_cpi  year\n",
       "0              9.9  1913\n",
       "1             10.0  1914\n",
       "2             10.1  1915\n",
       "3             10.9  1916\n",
       "4             12.8  1917\n",
       "5             15.1  1918\n",
       "6             17.3  1919\n",
       "7             20.0  1920\n",
       "8             17.9  1921\n",
       "9             16.8  1922\n",
       "10            17.1  1923\n",
       "11            17.1  1924\n",
       "12            17.5  1925\n",
       "13            17.7  1926\n",
       "14            17.4  1927\n",
       "15            17.1  1928\n",
       "16            17.1  1929\n",
       "17            16.7  1930\n",
       "18            15.2  1931\n",
       "19            13.7  1932\n",
       "20            13.0  1933\n",
       "21            13.4  1934\n",
       "22            13.7  1935\n",
       "23            13.9  1936\n",
       "24            14.4  1937\n",
       "25            14.1  1938\n",
       "26            13.9  1939\n",
       "27            14.0  1940\n",
       "28            14.7  1941\n",
       "29            16.3  1942"
      ]
     },
     "execution_count": 24,
     "metadata": {},
     "output_type": "execute_result"
    }
   ],
   "source": [
    "from bs4 import BeautifulSoup\n",
    "import requests\n",
    "\n",
    "url = 'https://www.usinflationcalculator.com/inflation/consumer-price-index-and-annual-percent-changes-from-1913-to-2008/'\n",
    "\n",
    "req = requests.get(url)\n",
    "data = req.text\n",
    "soup = BeautifulSoup(data, 'html.parser')\n",
    "\n",
    "table = soup.find('table')\n",
    "rows = table.tbody.findAll('tr')\n",
    "\n",
    "years = []\n",
    "cpis = []\n",
    "\n",
    "for row in rows:\n",
    "    year = row.findAll('td')[0].get_text()\n",
    "    if year.isdigit() and int(year) < 2017:\n",
    "        years.append(int(year))\n",
    "        cpis.append(float(row.findAll('td')[13].get_text()))\n",
    "        \n",
    "cpi_table = pd.DataFrame({\n",
    "    'avg_annual_cpi': cpis,\n",
    "    'year': years, \n",
    "})\n",
    "\n",
    "cpi_table.head(30)"
   ]
  },
  {
   "cell_type": "markdown",
   "id": "693d3e23-c8e9-4cf1-95af-46ac8343d2d8",
   "metadata": {},
   "source": [
    "Экспортируем таблицу в .csv файл"
   ]
  },
  {
   "cell_type": "code",
   "execution_count": 25,
   "id": "b2563e8d-2dd4-4f44-9e4b-40222785752d",
   "metadata": {},
   "outputs": [],
   "source": [
    "cpi_table.to_csv ('../data/Lab1_Ziabrew_CPI.csv', index= False )"
   ]
  },
  {
   "cell_type": "markdown",
   "id": "104f2412-7f12-45dc-b9ca-e0081f58130a",
   "metadata": {},
   "source": [
    "Запишем функцию перевода валюты"
   ]
  },
  {
   "cell_type": "code",
   "execution_count": 26,
   "id": "18da1426-083a-422d-afc6-0cf865ab38f6",
   "metadata": {},
   "outputs": [],
   "source": [
    "def get_real_value(nominal_amt, old_cpi, new_cpi):\n",
    "    real_value = (nominal_amt * new_cpi) / old_cpi\n",
    "    return real_value"
   ]
  },
  {
   "cell_type": "markdown",
   "id": "4f23620b-718f-44e9-8518-6fedd54bb6f4",
   "metadata": {},
   "source": [
    "Вычислим cpi 2016"
   ]
  },
  {
   "cell_type": "code",
   "execution_count": 27,
   "id": "1c215e42-6031-480f-830f-8a93e7715896",
   "metadata": {},
   "outputs": [
    {
     "name": "stdout",
     "output_type": "stream",
     "text": [
      "240.007\n"
     ]
    }
   ],
   "source": [
    "CPI_2016 = (cpi_table[cpi_table['year'] == 2016]['avg_annual_cpi'].squeeze())\n",
    "\n",
    "print(CPI_2016)"
   ]
  },
  {
   "cell_type": "markdown",
   "id": "61363b64-f2b2-4d50-9014-7088c471a697",
   "metadata": {},
   "source": [
    "Проверим, в скольких строках датасета неизвестен год выпуска фильма:"
   ]
  },
  {
   "cell_type": "code",
   "execution_count": 28,
   "id": "9d0cbd5e-8d8c-416a-9e72-e80838204b6e",
   "metadata": {},
   "outputs": [
    {
     "name": "stdout",
     "output_type": "stream",
     "text": [
      "107\n"
     ]
    }
   ],
   "source": [
    "print(len(df[df['title_year'] == 0.0]))"
   ]
  },
  {
   "cell_type": "markdown",
   "id": "5f1b6234-a23c-4c63-b3e9-24c4e47524fd",
   "metadata": {},
   "source": [
    "Поскольку наличие таких строк сильно усложняет работу с реальным бюджетом фильма, с учетом их количества проще от них избавиться."
   ]
  },
  {
   "cell_type": "code",
   "execution_count": 29,
   "id": "cb773287-e032-4847-8bf3-aad9cd3fa480",
   "metadata": {},
   "outputs": [],
   "source": [
    "df = df[df['title_year'] != 0.0]"
   ]
  },
  {
   "cell_type": "markdown",
   "id": "f454eeaf-98ec-4031-9dc1-e549b5951f99",
   "metadata": {},
   "source": [
    "Вычисление новых сборов и бюджета"
   ]
  },
  {
   "cell_type": "code",
   "execution_count": 30,
   "id": "37fcef05-8868-4ebe-9fba-7f0d7eaa8a3e",
   "metadata": {},
   "outputs": [],
   "source": [
    "real_domestic_gross = []\n",
    "real_budget_values = []\n",
    "\n",
    "for index, row in df.iterrows():\n",
    "    gross =  row['gross']\n",
    "    budget = row['budget']\n",
    "    year = row['title_year']\n",
    "    cpi = cpi_table[cpi_table['year'] == int(year)]['avg_annual_cpi'].squeeze()\n",
    "\n",
    "    real_gross = get_real_value(gross, cpi, CPI_2016)\n",
    "    real_budget = get_real_value(budget, cpi, CPI_2016)\n",
    "    real_domestic_gross.append(real_gross)\n",
    "    real_budget_values.append(real_budget)\n",
    "\n",
    "df['real_domestic_gross'] = real_domestic_gross\n",
    "df['real_budget'] = real_budget_values"
   ]
  },
  {
   "cell_type": "markdown",
   "id": "b835e75b-fa14-419e-9b61-8d9ff17f3192",
   "metadata": {},
   "source": [
    "Вычисление коэффициента прибыльности проката"
   ]
  },
  {
   "cell_type": "code",
   "execution_count": 31,
   "id": "3381b8cf-9259-4f46-a9ad-6ffe51058fc8",
   "metadata": {},
   "outputs": [],
   "source": [
    "profits = []\n",
    "roi_vals = []\n",
    "\n",
    "for index, row in df.iterrows():\n",
    "    \n",
    "    if (row['real_domestic_gross'] == 0 or row['real_budget'] == 0):\n",
    "        profits.append(0)\n",
    "        roi_vals.append(0)\n",
    "        continue\n",
    "    \n",
    "    profit = row['real_domestic_gross'] - row['real_budget']\n",
    "    budget = row['real_budget']\n",
    "    num = profit - budget\n",
    "    den = budget\n",
    "    roi = num/den\n",
    "    \n",
    "    profits.append(profit)\n",
    "    roi_vals.append(roi)\n",
    "\n",
    "df['profit'] = profits\n",
    "df['roi'] = roi_vals\n"
   ]
  },
  {
   "cell_type": "markdown",
   "id": "466e22d0-3875-46f7-97fc-e9e0d3a912e4",
   "metadata": {},
   "source": [
    "Экспортируем обработанный датафрейм в .csv файл"
   ]
  },
  {
   "cell_type": "code",
   "execution_count": 32,
   "id": "0a4f477d-e272-4046-8046-6892f95c09a4",
   "metadata": {},
   "outputs": [],
   "source": [
    "df.to_csv ('../data/Lab1_Ziabrew_MO-221.csv', index= False )"
   ]
  },
  {
   "cell_type": "markdown",
   "id": "3498a8c0-59d0-4098-b707-8661aaf2d592",
   "metadata": {},
   "source": [
    "# Гипотеза 1: Окупаемость фильма тем больше, чем меньше возрастной рейтинг фильма."
   ]
  },
  {
   "cell_type": "markdown",
   "id": "cea92b9a-9a08-43ee-a4da-1fb2a4a90508",
   "metadata": {},
   "source": [
    "Избавимся от фильмов с неизвестной окупаемостью"
   ]
  },
  {
   "cell_type": "code",
   "execution_count": 33,
   "id": "0f4a96f2-aa80-4213-a7b8-37b9587363b4",
   "metadata": {},
   "outputs": [
    {
     "name": "stdout",
     "output_type": "stream",
     "text": [
      "<class 'pandas.core.frame.DataFrame'>\n",
      "Index: 3857 entries, 0 to 62\n",
      "Data columns (total 33 columns):\n",
      " #   Column                     Non-Null Count  Dtype  \n",
      "---  ------                     --------------  -----  \n",
      " 0   color                      3857 non-null   object \n",
      " 1   director_name              3857 non-null   object \n",
      " 2   num_critic_for_reviews     3857 non-null   float64\n",
      " 3   duration                   3857 non-null   float64\n",
      " 4   director_facebook_likes    3857 non-null   float64\n",
      " 5   actor_3_facebook_likes     3857 non-null   float64\n",
      " 6   actor_2_name               3857 non-null   object \n",
      " 7   actor_1_facebook_likes     3857 non-null   float64\n",
      " 8   gross                      3857 non-null   float64\n",
      " 9   genres                     3857 non-null   object \n",
      " 10  actor_1_name               3857 non-null   object \n",
      " 11  movie_title                3857 non-null   object \n",
      " 12  num_voted_users            3857 non-null   float64\n",
      " 13  cast_total_facebook_likes  3857 non-null   float64\n",
      " 14  actor_3_name               3857 non-null   object \n",
      " 15  facenumber_in_poster       3857 non-null   float64\n",
      " 16  plot_keywords              3857 non-null   object \n",
      " 17  movie_imdb_link            3857 non-null   object \n",
      " 18  num_user_for_reviews       3857 non-null   float64\n",
      " 19  language                   3857 non-null   object \n",
      " 20  country                    3857 non-null   object \n",
      " 21  content_rating             3857 non-null   object \n",
      " 22  budget                     3857 non-null   float64\n",
      " 23  title_year                 3857 non-null   float64\n",
      " 24  actor_2_facebook_likes     3857 non-null   float64\n",
      " 25  imdb_score                 3857 non-null   float64\n",
      " 26  aspect_ratio               3857 non-null   float64\n",
      " 27  movie_facebook_likes       3857 non-null   object \n",
      " 28  movie_facebook_likes;      3857 non-null   object \n",
      " 29  real_domestic_gross        3857 non-null   float64\n",
      " 30  real_budget                3857 non-null   float64\n",
      " 31  profit                     3857 non-null   float64\n",
      " 32  roi                        3857 non-null   float64\n",
      "dtypes: float64(19), object(14)\n",
      "memory usage: 1.0+ MB\n"
     ]
    }
   ],
   "source": [
    "roidf = df[df['roi'] != 0]\n",
    "roidf.info()"
   ]
  },
  {
   "cell_type": "markdown",
   "id": "f03feae7-bcc5-4aca-b6d4-f6a616cee0aa",
   "metadata": {},
   "source": [
    "Рассмотрим полученный датасет на наличие выбросов"
   ]
  },
  {
   "cell_type": "code",
   "execution_count": 34,
   "id": "97ebab82-4835-4f7b-9893-0eebe226abc3",
   "metadata": {},
   "outputs": [
    {
     "data": {
      "text/plain": [
       "count    3857.000000\n",
       "mean        4.247754\n",
       "std       130.169327\n",
       "min        -1.999982\n",
       "25%        -1.549085\n",
       "50%        -0.930105\n",
       "75%         0.223810\n",
       "max      7192.485533\n",
       "Name: roi, dtype: float64"
      ]
     },
     "execution_count": 34,
     "metadata": {},
     "output_type": "execute_result"
    }
   ],
   "source": [
    "roidf['roi'].describe()"
   ]
  },
  {
   "cell_type": "markdown",
   "id": "2daa5b14-332c-4416-966a-98978d42ea5e",
   "metadata": {},
   "source": [
    "Здесь значение 7192.485533 является выбросом. Воспользуемся методом межквартильного диапазона для очистки newdf от выбросов"
   ]
  },
  {
   "cell_type": "code",
   "execution_count": 35,
   "id": "5f3d9e3c-ed22-4ef6-8bc0-fffad6fc1172",
   "metadata": {},
   "outputs": [
    {
     "name": "stdout",
     "output_type": "stream",
     "text": [
      "-4.208425785714287\n",
      "2.88315070952381\n"
     ]
    },
    {
     "data": {
      "text/plain": [
       "count    3479.000000\n",
       "mean       -0.778273\n",
       "std         1.081820\n",
       "min        -1.999982\n",
       "25%        -1.598834\n",
       "50%        -1.060347\n",
       "75%        -0.225392\n",
       "max         2.877829\n",
       "Name: roi, dtype: float64"
      ]
     },
     "execution_count": 35,
     "metadata": {},
     "output_type": "execute_result"
    }
   ],
   "source": [
    "Q1 = roidf['roi'].quantile(q=0.25)\n",
    "Q3 = roidf['roi'].quantile(q=0.75)\n",
    "IQR = Q3 - Q1\n",
    "min = Q1-1.5*IQR\n",
    "max = Q3+1.5*IQR\n",
    "print(min)\n",
    "print(max)\n",
    "\n",
    "roidf_clean = roidf[roidf['roi'] > min]\n",
    "roidf_clean = roidf[roidf['roi'] < max]\n",
    "\n",
    "roidf_clean['roi'].describe()"
   ]
  },
  {
   "cell_type": "markdown",
   "id": "df13ce3f-6e5e-448c-b5b1-54a3eb49fcd7",
   "metadata": {},
   "source": [
    "Теперь выведем нужную статистику"
   ]
  },
  {
   "cell_type": "code",
   "execution_count": 36,
   "id": "b27a4363-630c-4419-ac8e-fb59444b0ae3",
   "metadata": {},
   "outputs": [
    {
     "data": {
      "text/plain": [
       "content_rating\n",
       "unknown   -1.668866\n",
       "R         -0.846855\n",
       "PG-13     -0.716407\n",
       "NC-17     -0.607269\n",
       "PG        -0.594416\n",
       "G         -0.531637\n",
       "Name: roi, dtype: float64"
      ]
     },
     "execution_count": 36,
     "metadata": {},
     "output_type": "execute_result"
    }
   ],
   "source": [
    "roidf_clean.groupby('content_rating')['roi'].mean().sort_values()"
   ]
  },
  {
   "cell_type": "markdown",
   "id": "b2368a54-c1f6-4b86-9df7-5c1a7bffb942",
   "metadata": {},
   "source": [
    "Отсюда видно, что со снижением возрастного рейтинга доходность фильмов в целом повышается. Гипотезу можно считать подтвержденной."
   ]
  },
  {
   "cell_type": "markdown",
   "id": "533c0f43-d68e-4a37-b5de-28ad3663e429",
   "metadata": {},
   "source": [
    "# Гипотеза 2: Фильмы с элементами драмы чаще всех имеют IMDB рейтинг выше 8. "
   ]
  },
  {
   "cell_type": "markdown",
   "id": "c4ddcd0e-d6c8-47ac-bc7a-8feee1390716",
   "metadata": {},
   "source": [
    "Необходимо понять, какие фильмы включают в себе элементы драмы, а какие нет. Для этого введем датафрейм, равный исходному и отсеим фильмы, рейтинг которых меньше 8"
   ]
  },
  {
   "cell_type": "code",
   "execution_count": 37,
   "id": "9a01ca3e-d73f-4aab-890a-2d379c0767fe",
   "metadata": {},
   "outputs": [],
   "source": [
    "genre_df = df\n",
    "genre_df = genre_df[genre_df['imdb_score'] >= 8]"
   ]
  },
  {
   "cell_type": "markdown",
   "id": "b17ba3b2-7b2d-41ef-82d2-23596466f9ae",
   "metadata": {},
   "source": [
    "Напишем функцию, определяющую наличие нужного признака."
   ]
  },
  {
   "cell_type": "code",
   "execution_count": 38,
   "id": "802ffcff-0a00-457c-b94b-7a463e68d34b",
   "metadata": {},
   "outputs": [],
   "source": [
    "def isdrama(row):\n",
    "    if row['genres'].find('Drama') != -1:\n",
    "        return 'drama'\n",
    "    else:\n",
    "        return 'not drama'"
   ]
  },
  {
   "cell_type": "markdown",
   "id": "56da27a2-de4d-4e12-bf15-d81bf788bf86",
   "metadata": {},
   "source": [
    "Введем новый столбец isdrama, определяющий драматический характер фильма"
   ]
  },
  {
   "cell_type": "code",
   "execution_count": 39,
   "id": "fa686643-d6a2-40fc-9775-04453a077102",
   "metadata": {},
   "outputs": [
    {
     "name": "stderr",
     "output_type": "stream",
     "text": [
      "C:\\Users\\ziabr\\AppData\\Local\\Temp\\ipykernel_2636\\3491964351.py:1: SettingWithCopyWarning: \n",
      "A value is trying to be set on a copy of a slice from a DataFrame.\n",
      "Try using .loc[row_indexer,col_indexer] = value instead\n",
      "\n",
      "See the caveats in the documentation: https://pandas.pydata.org/pandas-docs/stable/user_guide/indexing.html#returning-a-view-versus-a-copy\n",
      "  genre_df['isdrama'] = genre_df.apply(isdrama, axis = 1)\n"
     ]
    }
   ],
   "source": [
    "genre_df['isdrama'] = genre_df.apply(isdrama, axis = 1)"
   ]
  },
  {
   "cell_type": "markdown",
   "id": "2e6e4898-cba2-4c1d-8fbc-6d82bb4d56f0",
   "metadata": {},
   "source": [
    "Сгруппируем по рейтингу imdb и суммируем по количеству значений"
   ]
  },
  {
   "cell_type": "code",
   "execution_count": 40,
   "id": "5ac6950f-fada-453c-9823-978f276d1ccb",
   "metadata": {},
   "outputs": [
    {
     "data": {
      "text/plain": [
       "isdrama\n",
       "drama        193\n",
       "not drama     96\n",
       "Name: imdb_score, dtype: int64"
      ]
     },
     "execution_count": 40,
     "metadata": {},
     "output_type": "execute_result"
    }
   ],
   "source": [
    "genre_df.groupby('isdrama')['imdb_score'].count()"
   ]
  },
  {
   "cell_type": "markdown",
   "id": "c6762f35-c428-48a5-b027-c131188878e9",
   "metadata": {},
   "source": [
    "Отсюда явно видно, что драматические фильмы имеют практически двоекратное преимущество среди фильмов, оцененных в 8 и более баллов. Гипотеза подтверждена."
   ]
  },
  {
   "cell_type": "markdown",
   "id": "f0edad33-7d5c-4f8f-b57e-a0452d69ac5b",
   "metadata": {},
   "source": [
    "# Гипотеза 3: Фильмы с бюджетом выше среднего (по миру) имеют в среднем более высокую продолжительность, чем остальные."
   ]
  },
  {
   "cell_type": "markdown",
   "id": "58350c1b-62bb-4f7f-85a6-32d02540587c",
   "metadata": {},
   "source": [
    "Введем новый датафрейм"
   ]
  },
  {
   "cell_type": "code",
   "execution_count": 41,
   "id": "a6949349-74b3-47fe-a8be-b6f1f1efe5d9",
   "metadata": {},
   "outputs": [],
   "source": [
    "drt_df1 = df"
   ]
  },
  {
   "cell_type": "markdown",
   "id": "cbf33cb8-4f51-4b00-ad41-2a2d962e8721",
   "metadata": {},
   "source": [
    "Отсеем фильмы с бюджетом менее медианы "
   ]
  },
  {
   "cell_type": "code",
   "execution_count": 42,
   "id": "4c3579dc-7c66-41b2-a301-9200c4b64431",
   "metadata": {},
   "outputs": [],
   "source": [
    "med = drt_df1['budget'].median()\n",
    "drt_df1 = drt_df1[drt_df1['budget'] >= med]"
   ]
  },
  {
   "cell_type": "markdown",
   "id": "292766b3-101f-4849-9ec0-9a45213973f1",
   "metadata": {},
   "source": [
    "Теперь отсеем фильмы с бюджетом более медианы. Для этого введем еще один датафрейм"
   ]
  },
  {
   "cell_type": "code",
   "execution_count": 43,
   "id": "07a6cca0-c3d2-42b3-ab43-c47fd848c255",
   "metadata": {},
   "outputs": [],
   "source": [
    "drt_df2 = df"
   ]
  },
  {
   "cell_type": "markdown",
   "id": "9b3ecb7a-f330-4701-848f-8bcac942ec63",
   "metadata": {},
   "source": [
    "Аналогично"
   ]
  },
  {
   "cell_type": "code",
   "execution_count": 44,
   "id": "04963b32-fbbf-4e94-9288-5d4a5d165cac",
   "metadata": {},
   "outputs": [],
   "source": [
    "drt_df2 = drt_df2[drt_df2['budget'] <= med]"
   ]
  },
  {
   "cell_type": "markdown",
   "id": "db2857aa-f4c7-43ab-9734-9558025099e0",
   "metadata": {},
   "source": [
    "Теперь вычислим для каждого датафрейма среднюю продолжительность фильма и выведем частное двух значений"
   ]
  },
  {
   "cell_type": "code",
   "execution_count": 45,
   "id": "1d27ffb7-459a-460e-8f78-a7036219ae1e",
   "metadata": {},
   "outputs": [
    {
     "name": "stdout",
     "output_type": "stream",
     "text": [
      "1.1163108932914265\n"
     ]
    }
   ],
   "source": [
    "big_budget_dur = drt_df1['duration'].mean()\n",
    "small_budget_dur = drt_df2['duration'].mean()\n",
    "print(big_budget_dur/small_budget_dur)"
   ]
  },
  {
   "cell_type": "markdown",
   "id": "380c3660-cbf9-4b67-b23d-bb3228324a14",
   "metadata": {},
   "source": [
    "По величине значения можно понять, что какой-то существенной тенденции не наблюдается, поэтому гипотеза опровержена."
   ]
  },
  {
   "cell_type": "markdown",
   "id": "429756fa-c9a8-4547-947d-679a910de808",
   "metadata": {},
   "source": [
    "# Заключение"
   ]
  },
  {
   "cell_type": "markdown",
   "id": "8d3dbf2a-069a-4d7b-94cd-3141429bad68",
   "metadata": {},
   "source": [
    "Были проверены следующие три гипотезы:"
   ]
  },
  {
   "cell_type": "markdown",
   "id": "7f01fc31-960f-48c0-adc0-554633895c33",
   "metadata": {},
   "source": [
    "1. Окупаемость фильма тем больше, чем меньше возрастной рейтинг фильма.\n",
    "2. Фильмы с элементами драмы чаще всех имеют IMDB рейтинг выше 8.\n",
    "3. Фильмы с бюджетом выше среднего (по миру) имеют в среднем более высокую продолжительность, чем остальные."
   ]
  },
  {
   "cell_type": "markdown",
   "id": "5e8d1ad4-e14f-4aa0-b555-9f9ecabe40b3",
   "metadata": {},
   "source": [
    "Проанализировав данные, мы пришли к выводу:"
   ]
  },
  {
   "cell_type": "markdown",
   "id": "ef55b81b-fc7a-44df-8f27-9e6704248ece",
   "metadata": {},
   "source": [
    "1. С убывание возрастного рейтинга окупаемость действительно повышается, исключая аномалию в виде PG-13.\n",
    "\n",
    "*Первая гипотеза* почти полностью подтвердилась.\n",
    "\n",
    "2. Драм среди фильмов с высоким рейтингом IMDB действительно подавляющее большинство.\n",
    "\n",
    "*Вторая гипотеза* полностью подтвердилась.\n",
    "\n",
    "3. Длительность высокобюджетной ленты в целом не отличается от длительности низкобюджетной, поскольку разница на уровне погрешности.\n",
    "*Третья гипотеза* отвергается. "
   ]
  },
  {
   "cell_type": "markdown",
   "id": "82155bf8-f01c-4ddf-ab68-80f756e3645b",
   "metadata": {},
   "source": [
    "# Дополнительное задание"
   ]
  },
  {
   "cell_type": "code",
   "execution_count": null,
   "id": "94b3dad0-8f20-456f-9061-4314a9edf105",
   "metadata": {},
   "outputs": [],
   "source": [
    "pvt = pd.pivot_table(df_from_pr, index=[\"city\", \"day\"], values=['time'], aggfunc= \"count\")\n",
    "pvt = pvt.query('day == [\"Monday\", \"Wednesday\", \"Friday\"]')\n",
    "pvt = pvt.sort_values(by=['time'], ascending=False) \n",
    "pvt"
   ]
  }
 ],
 "metadata": {
  "kernelspec": {
   "display_name": "Python 3 (ipykernel)",
   "language": "python",
   "name": "python3"
  },
  "language_info": {
   "codemirror_mode": {
    "name": "ipython",
    "version": 3
   },
   "file_extension": ".py",
   "mimetype": "text/x-python",
   "name": "python",
   "nbconvert_exporter": "python",
   "pygments_lexer": "ipython3",
   "version": "3.9.0"
  }
 },
 "nbformat": 4,
 "nbformat_minor": 5
}

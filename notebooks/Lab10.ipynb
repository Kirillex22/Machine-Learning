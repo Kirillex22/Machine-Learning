{
 "cells": [
  {
   "cell_type": "code",
   "execution_count": 103,
   "id": "68c251d9-1f35-4b26-89a7-fddeb5fa4083",
   "metadata": {},
   "outputs": [],
   "source": [
    "import pandas as pd\n",
    "import numpy as np"
   ]
  },
  {
   "cell_type": "markdown",
   "id": "52b316ee-f48e-440e-8e77-437ae7ad27a7",
   "metadata": {},
   "source": [
    "# Предобработка"
   ]
  },
  {
   "cell_type": "code",
   "execution_count": 104,
   "id": "56a2fff9-f411-4d44-bd66-a9919678d6d2",
   "metadata": {},
   "outputs": [
    {
     "data": {
      "text/html": [
       "<div>\n",
       "<style scoped>\n",
       "    .dataframe tbody tr th:only-of-type {\n",
       "        vertical-align: middle;\n",
       "    }\n",
       "\n",
       "    .dataframe tbody tr th {\n",
       "        vertical-align: top;\n",
       "    }\n",
       "\n",
       "    .dataframe thead th {\n",
       "        text-align: right;\n",
       "    }\n",
       "</style>\n",
       "<table border=\"1\" class=\"dataframe\">\n",
       "  <thead>\n",
       "    <tr style=\"text-align: right;\">\n",
       "      <th></th>\n",
       "      <th>v1</th>\n",
       "      <th>v2</th>\n",
       "      <th>Unnamed: 2</th>\n",
       "      <th>Unnamed: 3</th>\n",
       "      <th>Unnamed: 4</th>\n",
       "    </tr>\n",
       "  </thead>\n",
       "  <tbody>\n",
       "    <tr>\n",
       "      <th>0</th>\n",
       "      <td>ham</td>\n",
       "      <td>Go until jurong point, crazy.. Available only ...</td>\n",
       "      <td>NaN</td>\n",
       "      <td>NaN</td>\n",
       "      <td>NaN</td>\n",
       "    </tr>\n",
       "    <tr>\n",
       "      <th>1</th>\n",
       "      <td>ham</td>\n",
       "      <td>Ok lar... Joking wif u oni...</td>\n",
       "      <td>NaN</td>\n",
       "      <td>NaN</td>\n",
       "      <td>NaN</td>\n",
       "    </tr>\n",
       "    <tr>\n",
       "      <th>2</th>\n",
       "      <td>spam</td>\n",
       "      <td>Free entry in 2 a wkly comp to win FA Cup fina...</td>\n",
       "      <td>NaN</td>\n",
       "      <td>NaN</td>\n",
       "      <td>NaN</td>\n",
       "    </tr>\n",
       "    <tr>\n",
       "      <th>3</th>\n",
       "      <td>ham</td>\n",
       "      <td>U dun say so early hor... U c already then say...</td>\n",
       "      <td>NaN</td>\n",
       "      <td>NaN</td>\n",
       "      <td>NaN</td>\n",
       "    </tr>\n",
       "    <tr>\n",
       "      <th>4</th>\n",
       "      <td>ham</td>\n",
       "      <td>Nah I don't think he goes to usf, he lives aro...</td>\n",
       "      <td>NaN</td>\n",
       "      <td>NaN</td>\n",
       "      <td>NaN</td>\n",
       "    </tr>\n",
       "    <tr>\n",
       "      <th>5</th>\n",
       "      <td>spam</td>\n",
       "      <td>FreeMsg Hey there darling it's been 3 week's n...</td>\n",
       "      <td>NaN</td>\n",
       "      <td>NaN</td>\n",
       "      <td>NaN</td>\n",
       "    </tr>\n",
       "    <tr>\n",
       "      <th>6</th>\n",
       "      <td>ham</td>\n",
       "      <td>Even my brother is not like to speak with me. ...</td>\n",
       "      <td>NaN</td>\n",
       "      <td>NaN</td>\n",
       "      <td>NaN</td>\n",
       "    </tr>\n",
       "    <tr>\n",
       "      <th>7</th>\n",
       "      <td>ham</td>\n",
       "      <td>As per your request 'Melle Melle (Oru Minnamin...</td>\n",
       "      <td>NaN</td>\n",
       "      <td>NaN</td>\n",
       "      <td>NaN</td>\n",
       "    </tr>\n",
       "    <tr>\n",
       "      <th>8</th>\n",
       "      <td>spam</td>\n",
       "      <td>WINNER!! As a valued network customer you have...</td>\n",
       "      <td>NaN</td>\n",
       "      <td>NaN</td>\n",
       "      <td>NaN</td>\n",
       "    </tr>\n",
       "    <tr>\n",
       "      <th>9</th>\n",
       "      <td>spam</td>\n",
       "      <td>Had your mobile 11 months or more? U R entitle...</td>\n",
       "      <td>NaN</td>\n",
       "      <td>NaN</td>\n",
       "      <td>NaN</td>\n",
       "    </tr>\n",
       "  </tbody>\n",
       "</table>\n",
       "</div>"
      ],
      "text/plain": [
       "     v1                                                 v2 Unnamed: 2  \\\n",
       "0   ham  Go until jurong point, crazy.. Available only ...        NaN   \n",
       "1   ham                      Ok lar... Joking wif u oni...        NaN   \n",
       "2  spam  Free entry in 2 a wkly comp to win FA Cup fina...        NaN   \n",
       "3   ham  U dun say so early hor... U c already then say...        NaN   \n",
       "4   ham  Nah I don't think he goes to usf, he lives aro...        NaN   \n",
       "5  spam  FreeMsg Hey there darling it's been 3 week's n...        NaN   \n",
       "6   ham  Even my brother is not like to speak with me. ...        NaN   \n",
       "7   ham  As per your request 'Melle Melle (Oru Minnamin...        NaN   \n",
       "8  spam  WINNER!! As a valued network customer you have...        NaN   \n",
       "9  spam  Had your mobile 11 months or more? U R entitle...        NaN   \n",
       "\n",
       "  Unnamed: 3 Unnamed: 4  \n",
       "0        NaN        NaN  \n",
       "1        NaN        NaN  \n",
       "2        NaN        NaN  \n",
       "3        NaN        NaN  \n",
       "4        NaN        NaN  \n",
       "5        NaN        NaN  \n",
       "6        NaN        NaN  \n",
       "7        NaN        NaN  \n",
       "8        NaN        NaN  \n",
       "9        NaN        NaN  "
      ]
     },
     "execution_count": 104,
     "metadata": {},
     "output_type": "execute_result"
    }
   ],
   "source": [
    "df = pd.read_csv('../data/spam.csv', encoding = 'latin-1')\n",
    "df.head(10)"
   ]
  },
  {
   "cell_type": "code",
   "execution_count": 105,
   "id": "004b26f6-6d64-4b1a-a4da-ce81b1ef72c2",
   "metadata": {},
   "outputs": [
    {
     "data": {
      "text/plain": [
       "v1               0\n",
       "v2               0\n",
       "Unnamed: 2    5522\n",
       "Unnamed: 3    5560\n",
       "Unnamed: 4    5566\n",
       "dtype: int64"
      ]
     },
     "execution_count": 105,
     "metadata": {},
     "output_type": "execute_result"
    }
   ],
   "source": [
    "df.isna().sum()"
   ]
  },
  {
   "cell_type": "code",
   "execution_count": 106,
   "id": "b456f401-4ba8-473c-b1ba-c7743513e58e",
   "metadata": {},
   "outputs": [],
   "source": [
    "df.drop(columns = ['Unnamed: 2', 'Unnamed: 3','Unnamed: 4'], inplace = True)"
   ]
  },
  {
   "cell_type": "code",
   "execution_count": 107,
   "id": "db89d6bc-daa8-4bee-9419-1dc92ee9e927",
   "metadata": {},
   "outputs": [
    {
     "data": {
      "text/html": [
       "<div>\n",
       "<style scoped>\n",
       "    .dataframe tbody tr th:only-of-type {\n",
       "        vertical-align: middle;\n",
       "    }\n",
       "\n",
       "    .dataframe tbody tr th {\n",
       "        vertical-align: top;\n",
       "    }\n",
       "\n",
       "    .dataframe thead th {\n",
       "        text-align: right;\n",
       "    }\n",
       "</style>\n",
       "<table border=\"1\" class=\"dataframe\">\n",
       "  <thead>\n",
       "    <tr style=\"text-align: right;\">\n",
       "      <th></th>\n",
       "      <th>v1</th>\n",
       "      <th>v2</th>\n",
       "    </tr>\n",
       "  </thead>\n",
       "  <tbody>\n",
       "    <tr>\n",
       "      <th>0</th>\n",
       "      <td>ham</td>\n",
       "      <td>Go until jurong point, crazy.. Available only ...</td>\n",
       "    </tr>\n",
       "    <tr>\n",
       "      <th>1</th>\n",
       "      <td>ham</td>\n",
       "      <td>Ok lar... Joking wif u oni...</td>\n",
       "    </tr>\n",
       "    <tr>\n",
       "      <th>2</th>\n",
       "      <td>spam</td>\n",
       "      <td>Free entry in 2 a wkly comp to win FA Cup fina...</td>\n",
       "    </tr>\n",
       "    <tr>\n",
       "      <th>3</th>\n",
       "      <td>ham</td>\n",
       "      <td>U dun say so early hor... U c already then say...</td>\n",
       "    </tr>\n",
       "    <tr>\n",
       "      <th>4</th>\n",
       "      <td>ham</td>\n",
       "      <td>Nah I don't think he goes to usf, he lives aro...</td>\n",
       "    </tr>\n",
       "    <tr>\n",
       "      <th>5</th>\n",
       "      <td>spam</td>\n",
       "      <td>FreeMsg Hey there darling it's been 3 week's n...</td>\n",
       "    </tr>\n",
       "    <tr>\n",
       "      <th>6</th>\n",
       "      <td>ham</td>\n",
       "      <td>Even my brother is not like to speak with me. ...</td>\n",
       "    </tr>\n",
       "    <tr>\n",
       "      <th>7</th>\n",
       "      <td>ham</td>\n",
       "      <td>As per your request 'Melle Melle (Oru Minnamin...</td>\n",
       "    </tr>\n",
       "    <tr>\n",
       "      <th>8</th>\n",
       "      <td>spam</td>\n",
       "      <td>WINNER!! As a valued network customer you have...</td>\n",
       "    </tr>\n",
       "    <tr>\n",
       "      <th>9</th>\n",
       "      <td>spam</td>\n",
       "      <td>Had your mobile 11 months or more? U R entitle...</td>\n",
       "    </tr>\n",
       "  </tbody>\n",
       "</table>\n",
       "</div>"
      ],
      "text/plain": [
       "     v1                                                 v2\n",
       "0   ham  Go until jurong point, crazy.. Available only ...\n",
       "1   ham                      Ok lar... Joking wif u oni...\n",
       "2  spam  Free entry in 2 a wkly comp to win FA Cup fina...\n",
       "3   ham  U dun say so early hor... U c already then say...\n",
       "4   ham  Nah I don't think he goes to usf, he lives aro...\n",
       "5  spam  FreeMsg Hey there darling it's been 3 week's n...\n",
       "6   ham  Even my brother is not like to speak with me. ...\n",
       "7   ham  As per your request 'Melle Melle (Oru Minnamin...\n",
       "8  spam  WINNER!! As a valued network customer you have...\n",
       "9  spam  Had your mobile 11 months or more? U R entitle..."
      ]
     },
     "execution_count": 107,
     "metadata": {},
     "output_type": "execute_result"
    }
   ],
   "source": [
    "df.head(10)"
   ]
  },
  {
   "cell_type": "code",
   "execution_count": 108,
   "id": "69344be6-dcf6-40fc-8ece-3e68972e6223",
   "metadata": {},
   "outputs": [],
   "source": [
    "df.rename(columns = {'v1': 'status', 'v2': 'raw_text'}, inplace = True)\n",
    "df['status'] = df['status'].map({'ham': 1, 'spam': 0})"
   ]
  },
  {
   "cell_type": "code",
   "execution_count": 109,
   "id": "a0a9f049-f0de-4847-bc59-2620c0879e7c",
   "metadata": {},
   "outputs": [],
   "source": [
    "import re"
   ]
  },
  {
   "cell_type": "code",
   "execution_count": 110,
   "id": "c6b249c1-08e3-4d0a-85c2-3b013e577c5e",
   "metadata": {},
   "outputs": [],
   "source": [
    "df['processed_text'] = df['raw_text'].apply(\n",
    "    lambda x: re.sub('[^a-zA-Z]', ' ', x).lower()   \n",
    ")"
   ]
  },
  {
   "cell_type": "code",
   "execution_count": 111,
   "id": "c6f4cea8-da8a-47cb-8471-f4e99c562bde",
   "metadata": {},
   "outputs": [
    {
     "data": {
      "text/html": [
       "<div>\n",
       "<style scoped>\n",
       "    .dataframe tbody tr th:only-of-type {\n",
       "        vertical-align: middle;\n",
       "    }\n",
       "\n",
       "    .dataframe tbody tr th {\n",
       "        vertical-align: top;\n",
       "    }\n",
       "\n",
       "    .dataframe thead th {\n",
       "        text-align: right;\n",
       "    }\n",
       "</style>\n",
       "<table border=\"1\" class=\"dataframe\">\n",
       "  <thead>\n",
       "    <tr style=\"text-align: right;\">\n",
       "      <th></th>\n",
       "      <th>status</th>\n",
       "      <th>raw_text</th>\n",
       "      <th>processed_text</th>\n",
       "    </tr>\n",
       "  </thead>\n",
       "  <tbody>\n",
       "    <tr>\n",
       "      <th>0</th>\n",
       "      <td>1</td>\n",
       "      <td>Go until jurong point, crazy.. Available only ...</td>\n",
       "      <td>go until jurong point  crazy   available only ...</td>\n",
       "    </tr>\n",
       "    <tr>\n",
       "      <th>1</th>\n",
       "      <td>1</td>\n",
       "      <td>Ok lar... Joking wif u oni...</td>\n",
       "      <td>ok lar    joking wif u oni</td>\n",
       "    </tr>\n",
       "    <tr>\n",
       "      <th>2</th>\n",
       "      <td>0</td>\n",
       "      <td>Free entry in 2 a wkly comp to win FA Cup fina...</td>\n",
       "      <td>free entry in   a wkly comp to win fa cup fina...</td>\n",
       "    </tr>\n",
       "    <tr>\n",
       "      <th>3</th>\n",
       "      <td>1</td>\n",
       "      <td>U dun say so early hor... U c already then say...</td>\n",
       "      <td>u dun say so early hor    u c already then say</td>\n",
       "    </tr>\n",
       "    <tr>\n",
       "      <th>4</th>\n",
       "      <td>1</td>\n",
       "      <td>Nah I don't think he goes to usf, he lives aro...</td>\n",
       "      <td>nah i don t think he goes to usf  he lives aro...</td>\n",
       "    </tr>\n",
       "    <tr>\n",
       "      <th>5</th>\n",
       "      <td>0</td>\n",
       "      <td>FreeMsg Hey there darling it's been 3 week's n...</td>\n",
       "      <td>freemsg hey there darling it s been   week s n...</td>\n",
       "    </tr>\n",
       "    <tr>\n",
       "      <th>6</th>\n",
       "      <td>1</td>\n",
       "      <td>Even my brother is not like to speak with me. ...</td>\n",
       "      <td>even my brother is not like to speak with me  ...</td>\n",
       "    </tr>\n",
       "    <tr>\n",
       "      <th>7</th>\n",
       "      <td>1</td>\n",
       "      <td>As per your request 'Melle Melle (Oru Minnamin...</td>\n",
       "      <td>as per your request  melle melle  oru minnamin...</td>\n",
       "    </tr>\n",
       "    <tr>\n",
       "      <th>8</th>\n",
       "      <td>0</td>\n",
       "      <td>WINNER!! As a valued network customer you have...</td>\n",
       "      <td>winner   as a valued network customer you have...</td>\n",
       "    </tr>\n",
       "    <tr>\n",
       "      <th>9</th>\n",
       "      <td>0</td>\n",
       "      <td>Had your mobile 11 months or more? U R entitle...</td>\n",
       "      <td>had your mobile    months or more  u r entitle...</td>\n",
       "    </tr>\n",
       "    <tr>\n",
       "      <th>10</th>\n",
       "      <td>1</td>\n",
       "      <td>I'm gonna be home soon and i don't want to tal...</td>\n",
       "      <td>i m gonna be home soon and i don t want to tal...</td>\n",
       "    </tr>\n",
       "    <tr>\n",
       "      <th>11</th>\n",
       "      <td>0</td>\n",
       "      <td>SIX chances to win CASH! From 100 to 20,000 po...</td>\n",
       "      <td>six chances to win cash  from     to        po...</td>\n",
       "    </tr>\n",
       "    <tr>\n",
       "      <th>12</th>\n",
       "      <td>0</td>\n",
       "      <td>URGENT! You have won a 1 week FREE membership ...</td>\n",
       "      <td>urgent  you have won a   week free membership ...</td>\n",
       "    </tr>\n",
       "    <tr>\n",
       "      <th>13</th>\n",
       "      <td>1</td>\n",
       "      <td>I've been searching for the right words to tha...</td>\n",
       "      <td>i ve been searching for the right words to tha...</td>\n",
       "    </tr>\n",
       "    <tr>\n",
       "      <th>14</th>\n",
       "      <td>1</td>\n",
       "      <td>I HAVE A DATE ON SUNDAY WITH WILL!!</td>\n",
       "      <td>i have a date on sunday with will</td>\n",
       "    </tr>\n",
       "    <tr>\n",
       "      <th>15</th>\n",
       "      <td>0</td>\n",
       "      <td>XXXMobileMovieClub: To use your credit, click ...</td>\n",
       "      <td>xxxmobilemovieclub  to use your credit  click ...</td>\n",
       "    </tr>\n",
       "    <tr>\n",
       "      <th>16</th>\n",
       "      <td>1</td>\n",
       "      <td>Oh k...i'm watching here:)</td>\n",
       "      <td>oh k   i m watching here</td>\n",
       "    </tr>\n",
       "    <tr>\n",
       "      <th>17</th>\n",
       "      <td>1</td>\n",
       "      <td>Eh u remember how 2 spell his name... Yes i di...</td>\n",
       "      <td>eh u remember how   spell his name    yes i di...</td>\n",
       "    </tr>\n",
       "    <tr>\n",
       "      <th>18</th>\n",
       "      <td>1</td>\n",
       "      <td>Fine if thatåÕs the way u feel. ThatåÕs the wa...</td>\n",
       "      <td>fine if that  s the way u feel  that  s the wa...</td>\n",
       "    </tr>\n",
       "    <tr>\n",
       "      <th>19</th>\n",
       "      <td>0</td>\n",
       "      <td>England v Macedonia - dont miss the goals/team...</td>\n",
       "      <td>england v macedonia   dont miss the goals team...</td>\n",
       "    </tr>\n",
       "  </tbody>\n",
       "</table>\n",
       "</div>"
      ],
      "text/plain": [
       "    status                                           raw_text  \\\n",
       "0        1  Go until jurong point, crazy.. Available only ...   \n",
       "1        1                      Ok lar... Joking wif u oni...   \n",
       "2        0  Free entry in 2 a wkly comp to win FA Cup fina...   \n",
       "3        1  U dun say so early hor... U c already then say...   \n",
       "4        1  Nah I don't think he goes to usf, he lives aro...   \n",
       "5        0  FreeMsg Hey there darling it's been 3 week's n...   \n",
       "6        1  Even my brother is not like to speak with me. ...   \n",
       "7        1  As per your request 'Melle Melle (Oru Minnamin...   \n",
       "8        0  WINNER!! As a valued network customer you have...   \n",
       "9        0  Had your mobile 11 months or more? U R entitle...   \n",
       "10       1  I'm gonna be home soon and i don't want to tal...   \n",
       "11       0  SIX chances to win CASH! From 100 to 20,000 po...   \n",
       "12       0  URGENT! You have won a 1 week FREE membership ...   \n",
       "13       1  I've been searching for the right words to tha...   \n",
       "14       1                I HAVE A DATE ON SUNDAY WITH WILL!!   \n",
       "15       0  XXXMobileMovieClub: To use your credit, click ...   \n",
       "16       1                         Oh k...i'm watching here:)   \n",
       "17       1  Eh u remember how 2 spell his name... Yes i di...   \n",
       "18       1  Fine if thatåÕs the way u feel. ThatåÕs the wa...   \n",
       "19       0  England v Macedonia - dont miss the goals/team...   \n",
       "\n",
       "                                       processed_text  \n",
       "0   go until jurong point  crazy   available only ...  \n",
       "1                       ok lar    joking wif u oni     \n",
       "2   free entry in   a wkly comp to win fa cup fina...  \n",
       "3   u dun say so early hor    u c already then say     \n",
       "4   nah i don t think he goes to usf  he lives aro...  \n",
       "5   freemsg hey there darling it s been   week s n...  \n",
       "6   even my brother is not like to speak with me  ...  \n",
       "7   as per your request  melle melle  oru minnamin...  \n",
       "8   winner   as a valued network customer you have...  \n",
       "9   had your mobile    months or more  u r entitle...  \n",
       "10  i m gonna be home soon and i don t want to tal...  \n",
       "11  six chances to win cash  from     to        po...  \n",
       "12  urgent  you have won a   week free membership ...  \n",
       "13  i ve been searching for the right words to tha...  \n",
       "14                i have a date on sunday with will    \n",
       "15  xxxmobilemovieclub  to use your credit  click ...  \n",
       "16                         oh k   i m watching here    \n",
       "17  eh u remember how   spell his name    yes i di...  \n",
       "18  fine if that  s the way u feel  that  s the wa...  \n",
       "19  england v macedonia   dont miss the goals team...  "
      ]
     },
     "execution_count": 111,
     "metadata": {},
     "output_type": "execute_result"
    }
   ],
   "source": [
    "df.head(20)"
   ]
  },
  {
   "cell_type": "markdown",
   "id": "91af9498-87b9-4027-affa-739f63738fc9",
   "metadata": {},
   "source": [
    "# Токенезация"
   ]
  },
  {
   "cell_type": "code",
   "execution_count": 112,
   "id": "91e48709-baaf-4d3d-bb36-3abbc4ac3cc5",
   "metadata": {},
   "outputs": [],
   "source": [
    "import spacy\n",
    "nlp = spacy.load(\"en_core_web_sm\")"
   ]
  },
  {
   "cell_type": "code",
   "execution_count": 113,
   "id": "19db507e-09cc-498f-b2fe-013f392a63e1",
   "metadata": {},
   "outputs": [],
   "source": [
    "df['tockens'] = df['processed_text'].apply(\n",
    "    lambda x: [token for token in nlp(x)]\n",
    ")"
   ]
  },
  {
   "cell_type": "code",
   "execution_count": 114,
   "id": "04eed0f6-4968-45f1-8fe3-64fe5b8063aa",
   "metadata": {},
   "outputs": [
    {
     "data": {
      "text/html": [
       "<div>\n",
       "<style scoped>\n",
       "    .dataframe tbody tr th:only-of-type {\n",
       "        vertical-align: middle;\n",
       "    }\n",
       "\n",
       "    .dataframe tbody tr th {\n",
       "        vertical-align: top;\n",
       "    }\n",
       "\n",
       "    .dataframe thead th {\n",
       "        text-align: right;\n",
       "    }\n",
       "</style>\n",
       "<table border=\"1\" class=\"dataframe\">\n",
       "  <thead>\n",
       "    <tr style=\"text-align: right;\">\n",
       "      <th></th>\n",
       "      <th>status</th>\n",
       "      <th>raw_text</th>\n",
       "      <th>processed_text</th>\n",
       "      <th>tockens</th>\n",
       "    </tr>\n",
       "  </thead>\n",
       "  <tbody>\n",
       "    <tr>\n",
       "      <th>0</th>\n",
       "      <td>1</td>\n",
       "      <td>Go until jurong point, crazy.. Available only ...</td>\n",
       "      <td>go until jurong point  crazy   available only ...</td>\n",
       "      <td>[go, until, jurong, point,  , crazy,   , avail...</td>\n",
       "    </tr>\n",
       "    <tr>\n",
       "      <th>1</th>\n",
       "      <td>1</td>\n",
       "      <td>Ok lar... Joking wif u oni...</td>\n",
       "      <td>ok lar    joking wif u oni</td>\n",
       "      <td>[ok, lar,    , joking, wif, u, oni,   ]</td>\n",
       "    </tr>\n",
       "    <tr>\n",
       "      <th>2</th>\n",
       "      <td>0</td>\n",
       "      <td>Free entry in 2 a wkly comp to win FA Cup fina...</td>\n",
       "      <td>free entry in   a wkly comp to win fa cup fina...</td>\n",
       "      <td>[free, entry, in,   , a, wkly, comp, to, win, ...</td>\n",
       "    </tr>\n",
       "    <tr>\n",
       "      <th>3</th>\n",
       "      <td>1</td>\n",
       "      <td>U dun say so early hor... U c already then say...</td>\n",
       "      <td>u dun say so early hor    u c already then say</td>\n",
       "      <td>[u, dun, say, so, early, hor,    , u, c, alrea...</td>\n",
       "    </tr>\n",
       "    <tr>\n",
       "      <th>4</th>\n",
       "      <td>1</td>\n",
       "      <td>Nah I don't think he goes to usf, he lives aro...</td>\n",
       "      <td>nah i don t think he goes to usf  he lives aro...</td>\n",
       "      <td>[nah, i, don, t, think, he, goes, to, usf,  , ...</td>\n",
       "    </tr>\n",
       "  </tbody>\n",
       "</table>\n",
       "</div>"
      ],
      "text/plain": [
       "   status                                           raw_text  \\\n",
       "0       1  Go until jurong point, crazy.. Available only ...   \n",
       "1       1                      Ok lar... Joking wif u oni...   \n",
       "2       0  Free entry in 2 a wkly comp to win FA Cup fina...   \n",
       "3       1  U dun say so early hor... U c already then say...   \n",
       "4       1  Nah I don't think he goes to usf, he lives aro...   \n",
       "\n",
       "                                      processed_text  \\\n",
       "0  go until jurong point  crazy   available only ...   \n",
       "1                      ok lar    joking wif u oni      \n",
       "2  free entry in   a wkly comp to win fa cup fina...   \n",
       "3  u dun say so early hor    u c already then say      \n",
       "4  nah i don t think he goes to usf  he lives aro...   \n",
       "\n",
       "                                             tockens  \n",
       "0  [go, until, jurong, point,  , crazy,   , avail...  \n",
       "1            [ok, lar,    , joking, wif, u, oni,   ]  \n",
       "2  [free, entry, in,   , a, wkly, comp, to, win, ...  \n",
       "3  [u, dun, say, so, early, hor,    , u, c, alrea...  \n",
       "4  [nah, i, don, t, think, he, goes, to, usf,  , ...  "
      ]
     },
     "execution_count": 114,
     "metadata": {},
     "output_type": "execute_result"
    }
   ],
   "source": [
    "df.head()"
   ]
  },
  {
   "cell_type": "markdown",
   "id": "cfe051b0-d242-45f3-bb4d-d915f70d1161",
   "metadata": {},
   "source": [
    "# Удаление стоп-слов"
   ]
  },
  {
   "cell_type": "code",
   "execution_count": 115,
   "id": "dd186c15-54e3-4141-bc35-74c361c7a7e5",
   "metadata": {},
   "outputs": [],
   "source": [
    "stopwords = nlp.Defaults.stop_words"
   ]
  },
  {
   "cell_type": "code",
   "execution_count": 116,
   "id": "11c2cd8e-1414-45e0-83ed-a75be54690e1",
   "metadata": {},
   "outputs": [],
   "source": [
    "df['clear_tockenlist'] = df['tockens'].apply(\n",
    "    lambda x: [token for token in x if token.lower_ not in stopwords]\n",
    ")"
   ]
  },
  {
   "cell_type": "code",
   "execution_count": 117,
   "id": "732440f0-44ed-4bd1-9324-171d54d4958b",
   "metadata": {},
   "outputs": [
    {
     "data": {
      "text/html": [
       "<div>\n",
       "<style scoped>\n",
       "    .dataframe tbody tr th:only-of-type {\n",
       "        vertical-align: middle;\n",
       "    }\n",
       "\n",
       "    .dataframe tbody tr th {\n",
       "        vertical-align: top;\n",
       "    }\n",
       "\n",
       "    .dataframe thead th {\n",
       "        text-align: right;\n",
       "    }\n",
       "</style>\n",
       "<table border=\"1\" class=\"dataframe\">\n",
       "  <thead>\n",
       "    <tr style=\"text-align: right;\">\n",
       "      <th></th>\n",
       "      <th>status</th>\n",
       "      <th>raw_text</th>\n",
       "      <th>processed_text</th>\n",
       "      <th>tockens</th>\n",
       "      <th>clear_tockenlist</th>\n",
       "    </tr>\n",
       "  </thead>\n",
       "  <tbody>\n",
       "    <tr>\n",
       "      <th>0</th>\n",
       "      <td>1</td>\n",
       "      <td>Go until jurong point, crazy.. Available only ...</td>\n",
       "      <td>go until jurong point  crazy   available only ...</td>\n",
       "      <td>[go, until, jurong, point,  , crazy,   , avail...</td>\n",
       "      <td>[jurong, point,  , crazy,   , available, bugis...</td>\n",
       "    </tr>\n",
       "    <tr>\n",
       "      <th>1</th>\n",
       "      <td>1</td>\n",
       "      <td>Ok lar... Joking wif u oni...</td>\n",
       "      <td>ok lar    joking wif u oni</td>\n",
       "      <td>[ok, lar,    , joking, wif, u, oni,   ]</td>\n",
       "      <td>[ok, lar,    , joking, wif, u, oni,   ]</td>\n",
       "    </tr>\n",
       "    <tr>\n",
       "      <th>2</th>\n",
       "      <td>0</td>\n",
       "      <td>Free entry in 2 a wkly comp to win FA Cup fina...</td>\n",
       "      <td>free entry in   a wkly comp to win fa cup fina...</td>\n",
       "      <td>[free, entry, in,   , a, wkly, comp, to, win, ...</td>\n",
       "      <td>[free, entry,   , wkly, comp, win, fa, cup, fi...</td>\n",
       "    </tr>\n",
       "    <tr>\n",
       "      <th>3</th>\n",
       "      <td>1</td>\n",
       "      <td>U dun say so early hor... U c already then say...</td>\n",
       "      <td>u dun say so early hor    u c already then say</td>\n",
       "      <td>[u, dun, say, so, early, hor,    , u, c, alrea...</td>\n",
       "      <td>[u, dun, early, hor,    , u, c,   ]</td>\n",
       "    </tr>\n",
       "    <tr>\n",
       "      <th>4</th>\n",
       "      <td>1</td>\n",
       "      <td>Nah I don't think he goes to usf, he lives aro...</td>\n",
       "      <td>nah i don t think he goes to usf  he lives aro...</td>\n",
       "      <td>[nah, i, don, t, think, he, goes, to, usf,  , ...</td>\n",
       "      <td>[nah, don, t, think, goes, usf,  , lives]</td>\n",
       "    </tr>\n",
       "    <tr>\n",
       "      <th>...</th>\n",
       "      <td>...</td>\n",
       "      <td>...</td>\n",
       "      <td>...</td>\n",
       "      <td>...</td>\n",
       "      <td>...</td>\n",
       "    </tr>\n",
       "    <tr>\n",
       "      <th>5567</th>\n",
       "      <td>0</td>\n",
       "      <td>This is the 2nd time we have tried 2 contact u...</td>\n",
       "      <td>this is the  nd time we have tried   contact u...</td>\n",
       "      <td>[this, is, the,  , nd, time, we, have, tried, ...</td>\n",
       "      <td>[ , nd, time, tried,   , contact, u,  , u, won...</td>\n",
       "    </tr>\n",
       "    <tr>\n",
       "      <th>5568</th>\n",
       "      <td>1</td>\n",
       "      <td>Will Ì_ b going to esplanade fr home?</td>\n",
       "      <td>will    b going to esplanade fr home</td>\n",
       "      <td>[will,    , b, going, to, esplanade, fr, home]</td>\n",
       "      <td>[   , b, going, esplanade, fr, home]</td>\n",
       "    </tr>\n",
       "    <tr>\n",
       "      <th>5569</th>\n",
       "      <td>1</td>\n",
       "      <td>Pity, * was in mood for that. So...any other s...</td>\n",
       "      <td>pity    was in mood for that  so   any other s...</td>\n",
       "      <td>[pity,    , was, in, mood, for, that,  , so,  ...</td>\n",
       "      <td>[pity,    , mood,  ,   , suggestions]</td>\n",
       "    </tr>\n",
       "    <tr>\n",
       "      <th>5570</th>\n",
       "      <td>1</td>\n",
       "      <td>The guy did some bitching but I acted like i'd...</td>\n",
       "      <td>the guy did some bitching but i acted like i d...</td>\n",
       "      <td>[the, guy, did, some, bitching, but, i, acted,...</td>\n",
       "      <td>[guy, bitching, acted, like, d, interested, bu...</td>\n",
       "    </tr>\n",
       "    <tr>\n",
       "      <th>5571</th>\n",
       "      <td>1</td>\n",
       "      <td>Rofl. Its true to its name</td>\n",
       "      <td>rofl  its true to its name</td>\n",
       "      <td>[rofl,  , its, true, to, its, name]</td>\n",
       "      <td>[rofl,  , true]</td>\n",
       "    </tr>\n",
       "  </tbody>\n",
       "</table>\n",
       "<p>5572 rows × 5 columns</p>\n",
       "</div>"
      ],
      "text/plain": [
       "      status                                           raw_text  \\\n",
       "0          1  Go until jurong point, crazy.. Available only ...   \n",
       "1          1                      Ok lar... Joking wif u oni...   \n",
       "2          0  Free entry in 2 a wkly comp to win FA Cup fina...   \n",
       "3          1  U dun say so early hor... U c already then say...   \n",
       "4          1  Nah I don't think he goes to usf, he lives aro...   \n",
       "...      ...                                                ...   \n",
       "5567       0  This is the 2nd time we have tried 2 contact u...   \n",
       "5568       1              Will Ì_ b going to esplanade fr home?   \n",
       "5569       1  Pity, * was in mood for that. So...any other s...   \n",
       "5570       1  The guy did some bitching but I acted like i'd...   \n",
       "5571       1                         Rofl. Its true to its name   \n",
       "\n",
       "                                         processed_text  \\\n",
       "0     go until jurong point  crazy   available only ...   \n",
       "1                         ok lar    joking wif u oni      \n",
       "2     free entry in   a wkly comp to win fa cup fina...   \n",
       "3     u dun say so early hor    u c already then say      \n",
       "4     nah i don t think he goes to usf  he lives aro...   \n",
       "...                                                 ...   \n",
       "5567  this is the  nd time we have tried   contact u...   \n",
       "5568              will    b going to esplanade fr home    \n",
       "5569  pity    was in mood for that  so   any other s...   \n",
       "5570  the guy did some bitching but i acted like i d...   \n",
       "5571                         rofl  its true to its name   \n",
       "\n",
       "                                                tockens  \\\n",
       "0     [go, until, jurong, point,  , crazy,   , avail...   \n",
       "1               [ok, lar,    , joking, wif, u, oni,   ]   \n",
       "2     [free, entry, in,   , a, wkly, comp, to, win, ...   \n",
       "3     [u, dun, say, so, early, hor,    , u, c, alrea...   \n",
       "4     [nah, i, don, t, think, he, goes, to, usf,  , ...   \n",
       "...                                                 ...   \n",
       "5567  [this, is, the,  , nd, time, we, have, tried, ...   \n",
       "5568     [will,    , b, going, to, esplanade, fr, home]   \n",
       "5569  [pity,    , was, in, mood, for, that,  , so,  ...   \n",
       "5570  [the, guy, did, some, bitching, but, i, acted,...   \n",
       "5571                [rofl,  , its, true, to, its, name]   \n",
       "\n",
       "                                       clear_tockenlist  \n",
       "0     [jurong, point,  , crazy,   , available, bugis...  \n",
       "1               [ok, lar,    , joking, wif, u, oni,   ]  \n",
       "2     [free, entry,   , wkly, comp, win, fa, cup, fi...  \n",
       "3                   [u, dun, early, hor,    , u, c,   ]  \n",
       "4             [nah, don, t, think, goes, usf,  , lives]  \n",
       "...                                                 ...  \n",
       "5567  [ , nd, time, tried,   , contact, u,  , u, won...  \n",
       "5568               [   , b, going, esplanade, fr, home]  \n",
       "5569              [pity,    , mood,  ,   , suggestions]  \n",
       "5570  [guy, bitching, acted, like, d, interested, bu...  \n",
       "5571                                    [rofl,  , true]  \n",
       "\n",
       "[5572 rows x 5 columns]"
      ]
     },
     "execution_count": 117,
     "metadata": {},
     "output_type": "execute_result"
    }
   ],
   "source": [
    "df"
   ]
  },
  {
   "cell_type": "markdown",
   "id": "a8b869e9-ecf3-4088-bf4c-61aa7fd4065a",
   "metadata": {},
   "source": [
    "# Лемматизация"
   ]
  },
  {
   "cell_type": "code",
   "execution_count": 118,
   "id": "ec0dbea6-d9ae-4a39-8167-6fc9be664039",
   "metadata": {},
   "outputs": [],
   "source": [
    "df['normalized_tockenlist'] = df['clear_tockenlist'].apply(\n",
    "    lambda x: [token.lemma_ for token in x]\n",
    ")"
   ]
  },
  {
   "cell_type": "code",
   "execution_count": 119,
   "id": "05e3c15e-7670-4799-91c0-31ca4cdf1378",
   "metadata": {},
   "outputs": [
    {
     "data": {
      "text/html": [
       "<div>\n",
       "<style scoped>\n",
       "    .dataframe tbody tr th:only-of-type {\n",
       "        vertical-align: middle;\n",
       "    }\n",
       "\n",
       "    .dataframe tbody tr th {\n",
       "        vertical-align: top;\n",
       "    }\n",
       "\n",
       "    .dataframe thead th {\n",
       "        text-align: right;\n",
       "    }\n",
       "</style>\n",
       "<table border=\"1\" class=\"dataframe\">\n",
       "  <thead>\n",
       "    <tr style=\"text-align: right;\">\n",
       "      <th></th>\n",
       "      <th>status</th>\n",
       "      <th>raw_text</th>\n",
       "      <th>processed_text</th>\n",
       "      <th>tockens</th>\n",
       "      <th>clear_tockenlist</th>\n",
       "      <th>normalized_tockenlist</th>\n",
       "    </tr>\n",
       "  </thead>\n",
       "  <tbody>\n",
       "    <tr>\n",
       "      <th>0</th>\n",
       "      <td>1</td>\n",
       "      <td>Go until jurong point, crazy.. Available only ...</td>\n",
       "      <td>go until jurong point  crazy   available only ...</td>\n",
       "      <td>[go, until, jurong, point,  , crazy,   , avail...</td>\n",
       "      <td>[jurong, point,  , crazy,   , available, bugis...</td>\n",
       "      <td>[jurong, point,  , crazy,   , available, bugis...</td>\n",
       "    </tr>\n",
       "    <tr>\n",
       "      <th>1</th>\n",
       "      <td>1</td>\n",
       "      <td>Ok lar... Joking wif u oni...</td>\n",
       "      <td>ok lar    joking wif u oni</td>\n",
       "      <td>[ok, lar,    , joking, wif, u, oni,   ]</td>\n",
       "      <td>[ok, lar,    , joking, wif, u, oni,   ]</td>\n",
       "      <td>[ok, lar,    , joke, wif, u, oni,   ]</td>\n",
       "    </tr>\n",
       "    <tr>\n",
       "      <th>2</th>\n",
       "      <td>0</td>\n",
       "      <td>Free entry in 2 a wkly comp to win FA Cup fina...</td>\n",
       "      <td>free entry in   a wkly comp to win fa cup fina...</td>\n",
       "      <td>[free, entry, in,   , a, wkly, comp, to, win, ...</td>\n",
       "      <td>[free, entry,   , wkly, comp, win, fa, cup, fi...</td>\n",
       "      <td>[free, entry,   , wkly, comp, win, fa, cup, fi...</td>\n",
       "    </tr>\n",
       "    <tr>\n",
       "      <th>3</th>\n",
       "      <td>1</td>\n",
       "      <td>U dun say so early hor... U c already then say...</td>\n",
       "      <td>u dun say so early hor    u c already then say</td>\n",
       "      <td>[u, dun, say, so, early, hor,    , u, c, alrea...</td>\n",
       "      <td>[u, dun, early, hor,    , u, c,   ]</td>\n",
       "      <td>[u, dun, early, hor,    , u, c,   ]</td>\n",
       "    </tr>\n",
       "    <tr>\n",
       "      <th>4</th>\n",
       "      <td>1</td>\n",
       "      <td>Nah I don't think he goes to usf, he lives aro...</td>\n",
       "      <td>nah i don t think he goes to usf  he lives aro...</td>\n",
       "      <td>[nah, i, don, t, think, he, goes, to, usf,  , ...</td>\n",
       "      <td>[nah, don, t, think, goes, usf,  , lives]</td>\n",
       "      <td>[nah, don, t, think, go, usf,  , live]</td>\n",
       "    </tr>\n",
       "    <tr>\n",
       "      <th>...</th>\n",
       "      <td>...</td>\n",
       "      <td>...</td>\n",
       "      <td>...</td>\n",
       "      <td>...</td>\n",
       "      <td>...</td>\n",
       "      <td>...</td>\n",
       "    </tr>\n",
       "    <tr>\n",
       "      <th>5567</th>\n",
       "      <td>0</td>\n",
       "      <td>This is the 2nd time we have tried 2 contact u...</td>\n",
       "      <td>this is the  nd time we have tried   contact u...</td>\n",
       "      <td>[this, is, the,  , nd, time, we, have, tried, ...</td>\n",
       "      <td>[ , nd, time, tried,   , contact, u,  , u, won...</td>\n",
       "      <td>[ , nd, time, try,   , contact, u,  , u, win, ...</td>\n",
       "    </tr>\n",
       "    <tr>\n",
       "      <th>5568</th>\n",
       "      <td>1</td>\n",
       "      <td>Will Ì_ b going to esplanade fr home?</td>\n",
       "      <td>will    b going to esplanade fr home</td>\n",
       "      <td>[will,    , b, going, to, esplanade, fr, home]</td>\n",
       "      <td>[   , b, going, esplanade, fr, home]</td>\n",
       "      <td>[   , b, go, esplanade, fr, home]</td>\n",
       "    </tr>\n",
       "    <tr>\n",
       "      <th>5569</th>\n",
       "      <td>1</td>\n",
       "      <td>Pity, * was in mood for that. So...any other s...</td>\n",
       "      <td>pity    was in mood for that  so   any other s...</td>\n",
       "      <td>[pity,    , was, in, mood, for, that,  , so,  ...</td>\n",
       "      <td>[pity,    , mood,  ,   , suggestions]</td>\n",
       "      <td>[pity,    , mood,  ,   , suggestion]</td>\n",
       "    </tr>\n",
       "    <tr>\n",
       "      <th>5570</th>\n",
       "      <td>1</td>\n",
       "      <td>The guy did some bitching but I acted like i'd...</td>\n",
       "      <td>the guy did some bitching but i acted like i d...</td>\n",
       "      <td>[the, guy, did, some, bitching, but, i, acted,...</td>\n",
       "      <td>[guy, bitching, acted, like, d, interested, bu...</td>\n",
       "      <td>[guy, bitching, act, like, d, interested, buy,...</td>\n",
       "    </tr>\n",
       "    <tr>\n",
       "      <th>5571</th>\n",
       "      <td>1</td>\n",
       "      <td>Rofl. Its true to its name</td>\n",
       "      <td>rofl  its true to its name</td>\n",
       "      <td>[rofl,  , its, true, to, its, name]</td>\n",
       "      <td>[rofl,  , true]</td>\n",
       "      <td>[rofl,  , true]</td>\n",
       "    </tr>\n",
       "  </tbody>\n",
       "</table>\n",
       "<p>5572 rows × 6 columns</p>\n",
       "</div>"
      ],
      "text/plain": [
       "      status                                           raw_text  \\\n",
       "0          1  Go until jurong point, crazy.. Available only ...   \n",
       "1          1                      Ok lar... Joking wif u oni...   \n",
       "2          0  Free entry in 2 a wkly comp to win FA Cup fina...   \n",
       "3          1  U dun say so early hor... U c already then say...   \n",
       "4          1  Nah I don't think he goes to usf, he lives aro...   \n",
       "...      ...                                                ...   \n",
       "5567       0  This is the 2nd time we have tried 2 contact u...   \n",
       "5568       1              Will Ì_ b going to esplanade fr home?   \n",
       "5569       1  Pity, * was in mood for that. So...any other s...   \n",
       "5570       1  The guy did some bitching but I acted like i'd...   \n",
       "5571       1                         Rofl. Its true to its name   \n",
       "\n",
       "                                         processed_text  \\\n",
       "0     go until jurong point  crazy   available only ...   \n",
       "1                         ok lar    joking wif u oni      \n",
       "2     free entry in   a wkly comp to win fa cup fina...   \n",
       "3     u dun say so early hor    u c already then say      \n",
       "4     nah i don t think he goes to usf  he lives aro...   \n",
       "...                                                 ...   \n",
       "5567  this is the  nd time we have tried   contact u...   \n",
       "5568              will    b going to esplanade fr home    \n",
       "5569  pity    was in mood for that  so   any other s...   \n",
       "5570  the guy did some bitching but i acted like i d...   \n",
       "5571                         rofl  its true to its name   \n",
       "\n",
       "                                                tockens  \\\n",
       "0     [go, until, jurong, point,  , crazy,   , avail...   \n",
       "1               [ok, lar,    , joking, wif, u, oni,   ]   \n",
       "2     [free, entry, in,   , a, wkly, comp, to, win, ...   \n",
       "3     [u, dun, say, so, early, hor,    , u, c, alrea...   \n",
       "4     [nah, i, don, t, think, he, goes, to, usf,  , ...   \n",
       "...                                                 ...   \n",
       "5567  [this, is, the,  , nd, time, we, have, tried, ...   \n",
       "5568     [will,    , b, going, to, esplanade, fr, home]   \n",
       "5569  [pity,    , was, in, mood, for, that,  , so,  ...   \n",
       "5570  [the, guy, did, some, bitching, but, i, acted,...   \n",
       "5571                [rofl,  , its, true, to, its, name]   \n",
       "\n",
       "                                       clear_tockenlist  \\\n",
       "0     [jurong, point,  , crazy,   , available, bugis...   \n",
       "1               [ok, lar,    , joking, wif, u, oni,   ]   \n",
       "2     [free, entry,   , wkly, comp, win, fa, cup, fi...   \n",
       "3                   [u, dun, early, hor,    , u, c,   ]   \n",
       "4             [nah, don, t, think, goes, usf,  , lives]   \n",
       "...                                                 ...   \n",
       "5567  [ , nd, time, tried,   , contact, u,  , u, won...   \n",
       "5568               [   , b, going, esplanade, fr, home]   \n",
       "5569              [pity,    , mood,  ,   , suggestions]   \n",
       "5570  [guy, bitching, acted, like, d, interested, bu...   \n",
       "5571                                    [rofl,  , true]   \n",
       "\n",
       "                                  normalized_tockenlist  \n",
       "0     [jurong, point,  , crazy,   , available, bugis...  \n",
       "1                 [ok, lar,    , joke, wif, u, oni,   ]  \n",
       "2     [free, entry,   , wkly, comp, win, fa, cup, fi...  \n",
       "3                   [u, dun, early, hor,    , u, c,   ]  \n",
       "4                [nah, don, t, think, go, usf,  , live]  \n",
       "...                                                 ...  \n",
       "5567  [ , nd, time, try,   , contact, u,  , u, win, ...  \n",
       "5568                  [   , b, go, esplanade, fr, home]  \n",
       "5569               [pity,    , mood,  ,   , suggestion]  \n",
       "5570  [guy, bitching, act, like, d, interested, buy,...  \n",
       "5571                                    [rofl,  , true]  \n",
       "\n",
       "[5572 rows x 6 columns]"
      ]
     },
     "execution_count": 119,
     "metadata": {},
     "output_type": "execute_result"
    }
   ],
   "source": [
    "df"
   ]
  },
  {
   "cell_type": "markdown",
   "id": "fa48ee9e-7ea5-45e4-8537-54c45aef2b57",
   "metadata": {},
   "source": [
    "# Векторизация"
   ]
  },
  {
   "cell_type": "code",
   "execution_count": 120,
   "id": "0c9eee97-d0d4-4430-b0fe-2ce9260a6f4a",
   "metadata": {},
   "outputs": [],
   "source": [
    "corpus = []\n",
    "for i in df['normalized_tockenlist']:\n",
    "    text = ' '.join([str(row) for row in i])\n",
    "    corpus.append(text)"
   ]
  },
  {
   "cell_type": "code",
   "execution_count": 121,
   "id": "74d00a80-2e14-4151-81f1-3be3ad0937b9",
   "metadata": {},
   "outputs": [
    {
     "name": "stdout",
     "output_type": "stream",
     "text": [
      "['jurong point   crazy    available bugis n great world la e buffet     cine get amore wat   ', 'ok lar     joke wif u oni   ', 'free entry    wkly comp win fa cup final tkts    st        text fa        receive entry question std txt rate t c s apply                s', 'u dun early hor     u c   ', 'nah don t think go usf   live', 'freemsg hey darle s    week s word   d like fun   tb ok   xxx std chgs send          rcv', 'brother like speak   treat like aids patent', 'request   melle melle   oru minnaminunginte nurungu vettam    set callertune caller   press     copy friend callertune', 'winner    value network customer select receivea        prize reward   claim               claim code kl      valid     hour', 'mobile     month   u r entitle update late colour mobile camera free   mobile update co free            ']\n"
     ]
    }
   ],
   "source": [
    "print(corpus[:10])"
   ]
  },
  {
   "cell_type": "markdown",
   "id": "73c3e242-b851-4905-ae15-2eb0051a3d5d",
   "metadata": {},
   "source": [
    "# Bag of words"
   ]
  },
  {
   "cell_type": "code",
   "execution_count": 122,
   "id": "52cb4095-da6d-446f-8d0b-b4f39e10b0d0",
   "metadata": {},
   "outputs": [],
   "source": [
    "from sklearn.feature_extraction.text import CountVectorizer\n",
    "count_vectorizer = CountVectorizer(ngram_range=(1,4))"
   ]
  },
  {
   "cell_type": "code",
   "execution_count": 123,
   "id": "c4a74edf-8b73-4273-9822-3db457c2b186",
   "metadata": {},
   "outputs": [
    {
     "data": {
      "text/plain": [
       "(5572, 79901)"
      ]
     },
     "execution_count": 123,
     "metadata": {},
     "output_type": "execute_result"
    }
   ],
   "source": [
    "bow = count_vectorizer.fit_transform(corpus)\n",
    "bow.shape"
   ]
  },
  {
   "cell_type": "code",
   "execution_count": 124,
   "id": "95a5b252-08d8-4da7-bf13-6964a91c4766",
   "metadata": {},
   "outputs": [
    {
     "data": {
      "text/plain": [
       "matrix([[0, 0, 0, ..., 0, 0, 0],\n",
       "        [0, 0, 0, ..., 0, 0, 0],\n",
       "        [0, 0, 0, ..., 0, 0, 0],\n",
       "        ...,\n",
       "        [0, 0, 0, ..., 0, 0, 0],\n",
       "        [0, 0, 0, ..., 0, 0, 0],\n",
       "        [0, 0, 0, ..., 0, 0, 0]], dtype=int64)"
      ]
     },
     "execution_count": 124,
     "metadata": {},
     "output_type": "execute_result"
    }
   ],
   "source": [
    "bow.todense()"
   ]
  },
  {
   "cell_type": "markdown",
   "id": "3d62d267-0ebc-4315-a337-71e030eec7f2",
   "metadata": {},
   "source": [
    "# TD-IDF"
   ]
  },
  {
   "cell_type": "code",
   "execution_count": 125,
   "id": "a6e25ba1-03c6-4766-be7c-99cccbb11da2",
   "metadata": {},
   "outputs": [],
   "source": [
    "from sklearn.feature_extraction.text import TfidfVectorizer"
   ]
  },
  {
   "cell_type": "code",
   "execution_count": 126,
   "id": "4037a087-cde6-4cb2-8266-521dfd43fadb",
   "metadata": {},
   "outputs": [
    {
     "data": {
      "text/plain": [
       "(5572, 79901)"
      ]
     },
     "execution_count": 126,
     "metadata": {},
     "output_type": "execute_result"
    }
   ],
   "source": [
    "model = TfidfVectorizer(ngram_range=(1,4))\n",
    "tfidf = model.fit_transform(corpus)\n",
    "tfidf.shape"
   ]
  },
  {
   "cell_type": "code",
   "execution_count": 127,
   "id": "c2a09c6e-d830-47a1-aafb-1f4546a1de27",
   "metadata": {},
   "outputs": [
    {
     "data": {
      "text/plain": [
       "matrix([[0., 0., 0., ..., 0., 0., 0.],\n",
       "        [0., 0., 0., ..., 0., 0., 0.],\n",
       "        [0., 0., 0., ..., 0., 0., 0.],\n",
       "        ...,\n",
       "        [0., 0., 0., ..., 0., 0., 0.],\n",
       "        [0., 0., 0., ..., 0., 0., 0.],\n",
       "        [0., 0., 0., ..., 0., 0., 0.]])"
      ]
     },
     "execution_count": 127,
     "metadata": {},
     "output_type": "execute_result"
    }
   ],
   "source": [
    "tfidf.todense()"
   ]
  },
  {
   "cell_type": "markdown",
   "id": "fb0a3f5a-897d-40cb-a407-f0d108d0fae0",
   "metadata": {},
   "source": [
    "# Понижение размерности"
   ]
  },
  {
   "cell_type": "code",
   "execution_count": 128,
   "id": "dbd59168-410d-463e-84eb-13b2c7f916f6",
   "metadata": {},
   "outputs": [],
   "source": [
    "y = df['status']"
   ]
  },
  {
   "cell_type": "code",
   "execution_count": 129,
   "id": "d3d9b5a3-b268-4be2-b965-90a58e3108fb",
   "metadata": {},
   "outputs": [
    {
     "data": {
      "text/plain": [
       "(5572, 60)"
      ]
     },
     "execution_count": 129,
     "metadata": {},
     "output_type": "execute_result"
    }
   ],
   "source": [
    "from sklearn.feature_selection import SelectKBest\n",
    "skb_bow = SelectKBest(k=60)\n",
    "X_bow = skb_bow.fit_transform(bow, y)\n",
    "X_bow.shape"
   ]
  },
  {
   "cell_type": "code",
   "execution_count": 130,
   "id": "655ba14b-bebf-4ca4-bc41-7fdfff060899",
   "metadata": {},
   "outputs": [
    {
     "data": {
      "text/plain": [
       "(5572, 60)"
      ]
     },
     "execution_count": 130,
     "metadata": {},
     "output_type": "execute_result"
    }
   ],
   "source": [
    "skb_td = SelectKBest(k=60)\n",
    "X_td = skb_td.fit_transform(tfidf, y)\n",
    "X_td.shape"
   ]
  },
  {
   "cell_type": "code",
   "execution_count": 131,
   "id": "b6fef0f7-7658-4237-8326-21c5605dd87e",
   "metadata": {},
   "outputs": [],
   "source": [
    "#from sklearn.decomposition import PCA\n",
    "\n",
    "#pca_bow = PCA(n_components=60)\n",
    "#X_bow = pca_bow.fit_transform(bow, y)\n",
    "\n",
    "#pca_td = PCA(n_components=60)\n",
    "#X_td = pca_td.fit_transform(tfidf, y)"
   ]
  },
  {
   "cell_type": "markdown",
   "id": "1664141e-0e0f-45c4-ba5c-e3f89cc7e03a",
   "metadata": {},
   "source": [
    "# Train/test split"
   ]
  },
  {
   "cell_type": "code",
   "execution_count": 132,
   "id": "d13cc00d-a638-44bc-880c-054451eec742",
   "metadata": {},
   "outputs": [],
   "source": [
    "from sklearn.model_selection import train_test_split"
   ]
  },
  {
   "cell_type": "code",
   "execution_count": 133,
   "id": "96519b21-834f-4007-a06d-7ffdd88a2e6d",
   "metadata": {},
   "outputs": [],
   "source": [
    "X_train_bow, X_test_bow, y_train_bow, y_test_bow = train_test_split(X_bow,y, test_size=0.2)\n",
    "X_train_td, X_test_td, y_train_td, y_test_td = train_test_split(X_td, y, test_size=0.2)"
   ]
  },
  {
   "cell_type": "markdown",
   "id": "c1969658-5ebc-4f87-8a5a-e026f6cf9487",
   "metadata": {},
   "source": [
    "# Обучение моделей"
   ]
  },
  {
   "cell_type": "code",
   "execution_count": 134,
   "id": "318379cd-6609-469e-8fef-b7e08e8a2da7",
   "metadata": {},
   "outputs": [],
   "source": [
    "from sklearn.neighbors import KNeighborsClassifier\n",
    "from sklearn.svm import SVC\n",
    "from sklearn.ensemble import BaggingClassifier\n",
    "from sklearn.metrics import accuracy_score,precision_score,confusion_matrix,classification_report"
   ]
  },
  {
   "cell_type": "code",
   "execution_count": 135,
   "id": "50ec4fb2-c89d-46e8-b65e-1ed337762738",
   "metadata": {},
   "outputs": [],
   "source": [
    "classifiers = {\n",
    "    'KNN': KNeighborsClassifier(n_neighbors=4),\n",
    "    'SVC' : SVC(),\n",
    "    'Bagging': BaggingClassifier()\n",
    "}\n",
    "\n",
    "def opt_estimator(X_train, X_test, y_train, y_test):\n",
    "    for index, (name, classifier) in enumerate(classifiers.items()):\n",
    "        classifier.fit(X_train.toarray(), np.ravel(y_train))\n",
    "        y_pred = classifier.predict(X_test.toarray())\n",
    "        current_ac = accuracy_score(y_test, y_pred)\n",
    "        print(classification_report(y_test_bow, y_pred), '\\n\\n')"
   ]
  },
  {
   "cell_type": "markdown",
   "id": "1a861f33-d007-42b8-8b51-cc328e941f1b",
   "metadata": {},
   "source": [
    "## Bag of words"
   ]
  },
  {
   "cell_type": "code",
   "execution_count": 136,
   "id": "a44a82e3-2b36-442e-97d8-8adcd8a3a88f",
   "metadata": {},
   "outputs": [
    {
     "name": "stdout",
     "output_type": "stream",
     "text": [
      "              precision    recall  f1-score   support\n",
      "\n",
      "           0       0.90      0.79      0.84       145\n",
      "           1       0.97      0.99      0.98       970\n",
      "\n",
      "    accuracy                           0.96      1115\n",
      "   macro avg       0.93      0.89      0.91      1115\n",
      "weighted avg       0.96      0.96      0.96      1115\n",
      " \n",
      "\n",
      "\n",
      "              precision    recall  f1-score   support\n",
      "\n",
      "           0       0.88      0.88      0.88       145\n",
      "           1       0.98      0.98      0.98       970\n",
      "\n",
      "    accuracy                           0.97      1115\n",
      "   macro avg       0.93      0.93      0.93      1115\n",
      "weighted avg       0.97      0.97      0.97      1115\n",
      " \n",
      "\n",
      "\n",
      "              precision    recall  f1-score   support\n",
      "\n",
      "           0       0.92      0.81      0.86       145\n",
      "           1       0.97      0.99      0.98       970\n",
      "\n",
      "    accuracy                           0.97      1115\n",
      "   macro avg       0.95      0.90      0.92      1115\n",
      "weighted avg       0.97      0.97      0.97      1115\n",
      " \n",
      "\n",
      "\n"
     ]
    }
   ],
   "source": [
    "opt_estimator(X_train_bow, X_test_bow, y_train_bow, y_test_bow)"
   ]
  },
  {
   "cell_type": "markdown",
   "id": "cc0bbd6f-4e8e-44a8-ac15-85828905fec2",
   "metadata": {},
   "source": [
    "## TD-IDF"
   ]
  },
  {
   "cell_type": "code",
   "execution_count": 137,
   "id": "b103d61d-613f-4f13-8efe-80579f938b9e",
   "metadata": {},
   "outputs": [
    {
     "name": "stdout",
     "output_type": "stream",
     "text": [
      "              precision    recall  f1-score   support\n",
      "\n",
      "           0       0.14      0.14      0.14       145\n",
      "           1       0.87      0.87      0.87       970\n",
      "\n",
      "    accuracy                           0.77      1115\n",
      "   macro avg       0.51      0.51      0.51      1115\n",
      "weighted avg       0.78      0.77      0.78      1115\n",
      " \n",
      "\n",
      "\n",
      "              precision    recall  f1-score   support\n",
      "\n",
      "           0       0.13      0.13      0.13       145\n",
      "           1       0.87      0.87      0.87       970\n",
      "\n",
      "    accuracy                           0.77      1115\n",
      "   macro avg       0.50      0.50      0.50      1115\n",
      "weighted avg       0.77      0.77      0.77      1115\n",
      " \n",
      "\n",
      "\n",
      "              precision    recall  f1-score   support\n",
      "\n",
      "           0       0.13      0.14      0.13       145\n",
      "           1       0.87      0.86      0.87       970\n",
      "\n",
      "    accuracy                           0.77      1115\n",
      "   macro avg       0.50      0.50      0.50      1115\n",
      "weighted avg       0.77      0.77      0.77      1115\n",
      " \n",
      "\n",
      "\n"
     ]
    }
   ],
   "source": [
    "opt_estimator(X_train_td, X_test_td, y_train_td, y_test_td)"
   ]
  },
  {
   "cell_type": "markdown",
   "id": "d3070ad1-0218-4091-988e-a756ed8e9884",
   "metadata": {},
   "source": [
    "# Тематическое моделирование"
   ]
  },
  {
   "cell_type": "code",
   "execution_count": 138,
   "id": "b37f83ef-16d9-4a7d-810a-c155605742ba",
   "metadata": {},
   "outputs": [],
   "source": [
    "from sklearn.decomposition import LatentDirichletAllocation"
   ]
  },
  {
   "cell_type": "markdown",
   "id": "3c854c06-62d3-4e7e-a471-d57429e7d223",
   "metadata": {},
   "source": [
    "# Bag of words"
   ]
  },
  {
   "cell_type": "code",
   "execution_count": 139,
   "id": "3466c62e-3459-4c90-af9f-92b4f8c748c6",
   "metadata": {},
   "outputs": [],
   "source": [
    "lda_bow = LatentDirichletAllocation(n_components=5, max_iter=20,\n",
    "                                learning_method='online',\n",
    "                                learning_offset=50)"
   ]
  },
  {
   "cell_type": "code",
   "execution_count": 140,
   "id": "c514f210-c3ac-424c-9f3f-15b2dd88a567",
   "metadata": {},
   "outputs": [],
   "source": [
    "lda_top_bow = lda_bow.fit_transform(bow)"
   ]
  },
  {
   "cell_type": "code",
   "execution_count": 147,
   "id": "f6694b28-a967-448c-8db9-37fd5d369916",
   "metadata": {},
   "outputs": [
    {
     "name": "stdout",
     "output_type": "stream",
     "text": [
      "Тема  0 :  0.4279582285280306 %\n",
      "Тема  1 :  0.427667384837064 %\n",
      "Тема  2 :  0.42969024484301777 %\n",
      "Тема  3 :  0.4322933225128951 %\n",
      "Тема  4 :  98.282390819279 %\n"
     ]
    }
   ],
   "source": [
    "for i,topic in enumerate(lda_top_bow[0]):\n",
    "  print(\"Тема \",i,\": \",topic*100,\"%\")"
   ]
  },
  {
   "cell_type": "code",
   "execution_count": 148,
   "id": "f6639602-8129-4ef0-9f03-3d3930ca2e37",
   "metadata": {},
   "outputs": [
    {
     "name": "stdout",
     "output_type": "stream",
     "text": [
      "Содержание темы 0: \n",
      "free text txt stop mobile win reply ur new www \n",
      "\n",
      "Содержание темы 1: \n",
      "gt lt lt gt want like get time send tell don \n",
      "\n",
      "Содержание темы 2: \n",
      "love come day good not miss like sorry get need \n",
      "\n",
      "Содержание темы 3: \n",
      "go ok lor home time ur not wat da get \n",
      "\n",
      "Содержание темы 4: \n",
      "know let send yeah not ask number ur get text \n",
      "\n"
     ]
    }
   ],
   "source": [
    "for i, comp in enumerate(lda_bow.components_):\n",
    "    vocab_comp = zip(count_vectorizer.get_feature_names_out(), comp)\n",
    "    sorted_words = sorted(vocab_comp, key= lambda x:x[1], reverse=True)[:10]\n",
    "    print(\"Содержание темы \"+str(i)+\": \")\n",
    "    for t in sorted_words:\n",
    "        print(t[0],end=\" \")\n",
    "    print(\"\\n\")"
   ]
  },
  {
   "cell_type": "markdown",
   "id": "35091beb-2605-4d1f-8b71-cf026afa5b94",
   "metadata": {},
   "source": [
    "# TF-IDF"
   ]
  },
  {
   "cell_type": "code",
   "execution_count": 143,
   "id": "b85f9ed1-8ecc-4334-adb9-a3ff198f649a",
   "metadata": {},
   "outputs": [],
   "source": [
    "lda_tfidf = LatentDirichletAllocation(n_components=5, max_iter=20,\n",
    "                                learning_method='online',\n",
    "                                learning_offset=50)"
   ]
  },
  {
   "cell_type": "code",
   "execution_count": 144,
   "id": "5073ae99-0ac5-4196-be7d-c17f0cb79528",
   "metadata": {},
   "outputs": [],
   "source": [
    "lda_top_tfidf = lda_tfidf.fit_transform(tfidf)"
   ]
  },
  {
   "cell_type": "code",
   "execution_count": 149,
   "id": "94e1a78b-9344-4d49-a64b-63aa862eb9af",
   "metadata": {},
   "outputs": [
    {
     "name": "stdout",
     "output_type": "stream",
     "text": [
      "Тема  0 :  4.274925682548418 %\n",
      "Тема  1 :  82.8632108637139 %\n",
      "Тема  2 :  4.297487048821645 %\n",
      "Тема  3 :  4.30727808983062 %\n",
      "Тема  4 :  4.257098315085401 %\n"
     ]
    }
   ],
   "source": [
    "for i,topic in enumerate(lda_top_tfidf[5000]):\n",
    "  print(\"Тема \",i,\": \",topic*100,\"%\")"
   ]
  },
  {
   "cell_type": "code",
   "execution_count": 150,
   "id": "8fe3e281-3aaa-492a-aae7-2d19bd474879",
   "metadata": {},
   "outputs": [
    {
     "name": "stdout",
     "output_type": "stream",
     "text": [
      "Содержание темы 0: \n",
      "lt gt lt gt free send message min mobile text phone \n",
      "\n",
      "Содержание темы 1: \n",
      "thank wait special great sir day work lol sent nope \n",
      "\n",
      "Содержание темы 2: \n",
      "ok ll lor later sorry come home go wat get \n",
      "\n",
      "Содержание темы 3: \n",
      "come time know not day dear ur love think good \n",
      "\n",
      "Содержание темы 4: \n",
      "check mean door fine get library story simple person story answer \n",
      "\n"
     ]
    }
   ],
   "source": [
    "for i, comp in enumerate(lda_tfidf.components_):\n",
    "    vocab_comp = zip(model.get_feature_names_out(), comp)\n",
    "    sorted_words = sorted(vocab_comp, key= lambda x:x[1], reverse=True)[:10]\n",
    "    print(\"Содержание темы \"+str(i)+\": \")\n",
    "    for t in sorted_words:\n",
    "        print(t[0],end=\" \")\n",
    "    print(\"\\n\")"
   ]
  },
  {
   "cell_type": "code",
   "execution_count": null,
   "id": "4a430c72-bc78-45a7-aac4-100b0afc6d8c",
   "metadata": {},
   "outputs": [],
   "source": []
  }
 ],
 "metadata": {
  "kernelspec": {
   "display_name": "Python 3 (ipykernel)",
   "language": "python",
   "name": "python3"
  },
  "language_info": {
   "codemirror_mode": {
    "name": "ipython",
    "version": 3
   },
   "file_extension": ".py",
   "mimetype": "text/x-python",
   "name": "python",
   "nbconvert_exporter": "python",
   "pygments_lexer": "ipython3",
   "version": "3.9.0"
  }
 },
 "nbformat": 4,
 "nbformat_minor": 5
}

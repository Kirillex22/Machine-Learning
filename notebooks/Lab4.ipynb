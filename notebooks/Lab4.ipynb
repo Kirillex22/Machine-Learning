{
 "cells": [
  {
   "cell_type": "code",
   "execution_count": 1,
   "id": "75245654-967b-4108-ab98-ce210b125d00",
   "metadata": {},
   "outputs": [
    {
     "ename": "NameError",
     "evalue": "name 'sys' is not defined",
     "output_type": "error",
     "traceback": [
      "\u001b[1;31m---------------------------------------------------------------------------\u001b[0m",
      "\u001b[1;31mNameError\u001b[0m                                 Traceback (most recent call last)",
      "Cell \u001b[1;32mIn[1], line 28\u001b[0m\n\u001b[0;32m     25\u001b[0m \u001b[38;5;28;01mfrom\u001b[39;00m \u001b[38;5;21;01msklearn\u001b[39;00m\u001b[38;5;21;01m.\u001b[39;00m\u001b[38;5;21;01mmodel_selection\u001b[39;00m \u001b[38;5;28;01mimport\u001b[39;00m RandomizedSearchCV\n\u001b[0;32m     26\u001b[0m \u001b[38;5;28;01mfrom\u001b[39;00m \u001b[38;5;21;01msklearn\u001b[39;00m\u001b[38;5;21;01m.\u001b[39;00m\u001b[38;5;21;01mmetrics\u001b[39;00m \u001b[38;5;28;01mimport\u001b[39;00m accuracy_score,precision_score,confusion_matrix,classification_report, precision_recall_curve\n\u001b[1;32m---> 28\u001b[0m \u001b[43msys\u001b[49m\u001b[38;5;241m.\u001b[39mpath\u001b[38;5;241m.\u001b[39mappend(\u001b[38;5;124m\"\u001b[39m\u001b[38;5;124m..\u001b[39m\u001b[38;5;124m\"\u001b[39m)\n\u001b[0;32m     30\u001b[0m \u001b[38;5;28;01mfrom\u001b[39;00m \u001b[38;5;21;01mmodels\u001b[39;00m\u001b[38;5;21;01m.\u001b[39;00m\u001b[38;5;21;01mClassificationMetrics\u001b[39;00m \u001b[38;5;28;01mimport\u001b[39;00m myBinaryConfusionMatrix, myClassificationReport\n\u001b[0;32m     31\u001b[0m \u001b[38;5;28;01mfrom\u001b[39;00m \u001b[38;5;21;01mmodels\u001b[39;00m\u001b[38;5;21;01m.\u001b[39;00m\u001b[38;5;21;01mkneighbors\u001b[39;00m \u001b[38;5;28;01mimport\u001b[39;00m kNN\n",
      "\u001b[1;31mNameError\u001b[0m: name 'sys' is not defined"
     ]
    }
   ],
   "source": [
    "import pandas as pd\n",
    "import numpy as np\n",
    "import seaborn as sns\n",
    "import matplotlib\n",
    "import matplotlib.pyplot as plt\n",
    "import\n",
    "\n",
    "from sklearn.metrics import f1_score, classification_report\n",
    "from sklearn.linear_model import LogisticRegression\n",
    "from sklearn.linear_model import LinearRegression,  RidgeClassifier\n",
    "from sklearn.model_selection import train_test_split\n",
    "from sklearn.neighbors import KNeighborsClassifier\n",
    "from sklearn.preprocessing import OneHotEncoder\n",
    "from sklearn.preprocessing import StandardScaler\n",
    "from sklearn.preprocessing import OrdinalEncoder\n",
    "from sklearn.compose import ColumnTransformer\n",
    "from sklearn.preprocessing import LabelEncoder\n",
    "from sklearn.model_selection import GridSearchCV, RandomizedSearchCV\n",
    "from sklearn.metrics import roc_curve, roc_auc_score\n",
    "from sklearn.metrics import confusion_matrix\n",
    "from imblearn.under_sampling import NearMiss\n",
    "from sklearn.naive_bayes import GaussianNB, MultinomialNB\n",
    "from matplotlib.colors import ListedColormap\n",
    "from sklearn.svm import SVC\n",
    "from sklearn.linear_model import SGDClassifier\n",
    "from sklearn.model_selection import RandomizedSearchCV\n",
    "from sklearn.metrics import accuracy_score,precision_score,confusion_matrix,classification_report, precision_recall_curve\n",
    "\n",
    "sys.path.append(\"..\")\n",
    "\n",
    "from models.ClassificationMetrics import myBinaryConfusionMatrix, myClassificationReport\n",
    "from models.kneighbors import kNN"
   ]
  },
  {
   "cell_type": "markdown",
   "id": "bd1d6b66-d371-4908-83b5-2395370b4500",
   "metadata": {},
   "source": [
    "# Загрузка датасета"
   ]
  },
  {
   "cell_type": "markdown",
   "id": "c47f550d-d57d-48a0-b8da-afc85123d903",
   "metadata": {},
   "source": [
    "Инициализируем датасет "
   ]
  },
  {
   "cell_type": "code",
   "execution_count": null,
   "id": "a57aa6e5-8cd7-466f-9235-1dab483dc45c",
   "metadata": {},
   "outputs": [],
   "source": [
    "data = pd.read_csv('../data/weatherAUS.csv')\n",
    "pd.set_option('display.max_columns', 30)\n",
    "data"
   ]
  },
  {
   "cell_type": "markdown",
   "id": "3e6289a4-b5b4-4ed3-a6db-d797b7af0426",
   "metadata": {},
   "source": [
    "Заметим, что в датасете есть пропуски. Рассмотрим процент пропусков в каждом из столбцов:"
   ]
  },
  {
   "cell_type": "code",
   "execution_count": null,
   "id": "b2d27ab4-6055-48a8-b8f2-f14ca98c4b34",
   "metadata": {},
   "outputs": [],
   "source": [
    "data.info()"
   ]
  },
  {
   "cell_type": "code",
   "execution_count": null,
   "id": "38be0dfa-ecc5-4865-8799-3c2fe9ffc2d4",
   "metadata": {},
   "outputs": [],
   "source": [
    "(data.isna().sum()/data.shape[0]*100).sort_values(ascending=False)"
   ]
  },
  {
   "cell_type": "markdown",
   "id": "720e9b28-88b3-4012-b9ef-d27b2762cdc3",
   "metadata": {},
   "source": [
    "# Подготовка данных"
   ]
  },
  {
   "cell_type": "markdown",
   "id": "c76c89e9-3de1-413d-ba1d-1a893acaba04",
   "metadata": {},
   "source": [
    "## Обработка пропущенных значений"
   ]
  },
  {
   "cell_type": "markdown",
   "id": "f2292d20-4f14-4962-a011-d35e28f8197a",
   "metadata": {},
   "source": [
    "Проверим число явных дубликатов:"
   ]
  },
  {
   "cell_type": "code",
   "execution_count": null,
   "id": "50033cef-8686-440d-ac61-ca1510760120",
   "metadata": {},
   "outputs": [],
   "source": [
    "data.duplicated().sum()"
   ]
  },
  {
   "cell_type": "markdown",
   "id": "d288b8d1-7ee3-4049-a92c-196124ca4b11",
   "metadata": {},
   "source": [
    "Поскольку процент пропусков в Sunshine, Evaporation, Cloud3pm, Cloud9am несоразмерно велик по сравнению с любым другим столбцом, рассмотрим их отдельно. Поэтому для начала заполним модой данные в остальных столбцах, кроме RainTomorrow. Все пропуски в нем удалим для достоверности целевого признака."
   ]
  },
  {
   "cell_type": "code",
   "execution_count": null,
   "id": "b5396447-8894-4faa-8b15-4021d383df9b",
   "metadata": {},
   "outputs": [],
   "source": [
    "data.dropna(inplace = True, subset=['RainTomorrow'])"
   ]
  },
  {
   "cell_type": "code",
   "execution_count": null,
   "id": "7e685e09-89cd-4039-a049-cb1156e827e4",
   "metadata": {},
   "outputs": [],
   "source": [
    "columns = ['Pressure9am', 'Pressure3pm', 'WindDir9am', 'WindGustDir',      \n",
    "            'WindGustSpeed', 'Humidity3pm', 'WindDir3pm', 'Temp3pm',   \n",
    "            'Rainfall', 'RainToday', 'WindSpeed3pm', 'Humidity9am', \n",
    "            'Temp9am', 'WindSpeed9am', 'MinTemp',  'MaxTemp']  \n",
    "\n",
    "for column in columns:\n",
    "    mode = data[column].mode().iat[0]\n",
    "    data[column].fillna(mode, inplace = True)"
   ]
  },
  {
   "cell_type": "code",
   "execution_count": null,
   "id": "2af96473-2463-483a-86ab-6e32bf3a3188",
   "metadata": {},
   "outputs": [],
   "source": [
    "(data.isna().sum()/data.shape[0]*100).sort_values(ascending=False)"
   ]
  },
  {
   "cell_type": "markdown",
   "id": "8add3fe2-e4c7-42e9-96e2-1a4b4bc5625b",
   "metadata": {},
   "source": [
    "Рассмотрим гистограммы, чтобы оценить результат действий:"
   ]
  },
  {
   "cell_type": "code",
   "execution_count": null,
   "id": "a33138ea-4bab-4198-bdec-59810d473c7a",
   "metadata": {},
   "outputs": [],
   "source": [
    "data.info()"
   ]
  },
  {
   "cell_type": "code",
   "execution_count": null,
   "id": "aea40e2d-d80e-4766-beed-df8c3fc25c00",
   "metadata": {},
   "outputs": [],
   "source": [
    "columns.remove('WindGustDir')\n",
    "columns.remove('WindDir9am')\n",
    "columns.remove('WindDir3pm')\n",
    "columns.remove('RainToday')\n",
    "\n",
    "for column in columns:\n",
    "    data.hist(column, bins = 50)"
   ]
  },
  {
   "cell_type": "markdown",
   "id": "974050d6-1b0d-4783-9e81-4fe236a40728",
   "metadata": {},
   "source": [
    "Аномалии возникли в Pressure9am, Pressure3pm, Humindity3pm, Rainfall, Humindity9am. Можно заметить, что без них распределение близко к нормальному. В то же время удаление проблемных данных приведет к значительному уменьшению размера выборки. Поэтому принято решение оставить датасет в текущем виде."
   ]
  },
  {
   "cell_type": "markdown",
   "id": "6ffe716d-d7c2-42e0-a765-2f8ed64df4fa",
   "metadata": {},
   "source": [
    "Рассмотрим  Sunshine, Evaporation, Cloud3pm, Cloud9am:"
   ]
  },
  {
   "cell_type": "code",
   "execution_count": null,
   "id": "a48255f5-5454-4f1d-8422-ab4cca4b4b0a",
   "metadata": {},
   "outputs": [],
   "source": [
    "columns = ['Sunshine', 'Evaporation', 'Cloud3pm', 'Cloud9am']\n",
    "for column in columns:\n",
    "    data.hist(column, bins = 50)"
   ]
  },
  {
   "cell_type": "code",
   "execution_count": null,
   "id": "445c69d4-96f1-484e-a02e-629e6af2cb46",
   "metadata": {},
   "outputs": [],
   "source": [
    "for column in columns:\n",
    "    mode = data[column].mode().iat[0]\n",
    "    data[column].fillna(mode, inplace = True)\n",
    "\n",
    "for column in columns:\n",
    "    data.hist(column, bins = 50)"
   ]
  },
  {
   "cell_type": "markdown",
   "id": "0b0b47b5-6e16-41f5-b46e-59b26da53e48",
   "metadata": {},
   "source": [
    "Поскольку заполнение пропусков в столбце Sunshine сильно искажает исходный вид данных, собирая результаты большинства наблюдений в окрестности нуля (т.е. делая почти все дни в Австралии пасмурными), это сделает признак малоинформативным. В то же время общее распределение данных в Evaporation сильно не меняется, а Cloud3pm и Cloud9am это происходит в целом умеренно (другие данные хорошо различимы на фоне моды). Поэтому от столбца Sunshine проще всего избавиться."
   ]
  },
  {
   "cell_type": "code",
   "execution_count": null,
   "id": "7fc4f76d-056f-45e3-8b59-a54ca0223a3b",
   "metadata": {},
   "outputs": [],
   "source": [
    "data.drop(['Sunshine'], axis=1, inplace = True)"
   ]
  },
  {
   "cell_type": "code",
   "execution_count": null,
   "id": "881eb5e5-2c97-4f39-ac37-f6c3a0154daf",
   "metadata": {},
   "outputs": [],
   "source": [
    "(data.isna().sum()/data.shape[0]*100).sort_values(ascending=False)"
   ]
  },
  {
   "cell_type": "markdown",
   "id": "0a52d160-bd9b-44c3-9dea-54df2c668c78",
   "metadata": {},
   "source": [
    "## Кодирование категориальных признаков"
   ]
  },
  {
   "cell_type": "code",
   "execution_count": null,
   "id": "d0e3ed15-cf9e-4ae9-a863-53a42dd761ee",
   "metadata": {},
   "outputs": [],
   "source": [
    "cat_columns = ['Location', 'RainToday', 'WindDir3pm', 'WindDir9am', 'WindGustDir', 'RainTomorrow']"
   ]
  },
  {
   "cell_type": "code",
   "execution_count": null,
   "id": "0382f59f-df44-4f5f-8acf-4e9894bd7bd8",
   "metadata": {},
   "outputs": [],
   "source": [
    "for column in cat_columns:\n",
    "    print(data[column].unique())"
   ]
  },
  {
   "cell_type": "markdown",
   "id": "400d619d-03e1-4c2d-a097-24187b6630a5",
   "metadata": {},
   "source": [
    "Применим к Location и всем Wind... порядковое кодирование"
   ]
  },
  {
   "cell_type": "code",
   "execution_count": null,
   "id": "43c409c9-63b3-447e-b846-7ec3fb7185ee",
   "metadata": {},
   "outputs": [],
   "source": [
    "ordinal_features = ['Location', 'WindDir9am', 'WindGustDir', 'WindDir3pm', 'RainToday']\n",
    "ordinal_encoder = OrdinalEncoder()\n",
    "\n",
    "ct = ColumnTransformer(transformers=[\n",
    "     ('ord', ordinal_encoder, ordinal_features)\n",
    "])\n",
    "\n",
    "ct.set_output(transform='pandas')\n",
    "encoded_features = ct.fit_transform(data)\n",
    "encoded_features.head(20)"
   ]
  },
  {
   "cell_type": "code",
   "execution_count": null,
   "id": "a6fee2ed-2e5e-4881-a6b7-187687531984",
   "metadata": {},
   "outputs": [],
   "source": [
    "encoded_features.info()"
   ]
  },
  {
   "cell_type": "markdown",
   "id": "fb203e29-5c36-442f-b9ba-9f61cc90fd6e",
   "metadata": {},
   "source": [
    "Закодируем целевой признак и добавим в фрейм к уже обработанным значениям"
   ]
  },
  {
   "cell_type": "code",
   "execution_count": null,
   "id": "aab8adb2-8913-4125-90d6-c964ac3f6c6e",
   "metadata": {},
   "outputs": [],
   "source": [
    "label_encoder = LabelEncoder()\n",
    "encoded_label = label_encoder.fit_transform(data['RainTomorrow'])\n",
    "encoded_data = encoded_features.assign(RainTomorrow=encoded_label)\n",
    "encoded_data.head()"
   ]
  },
  {
   "cell_type": "code",
   "execution_count": null,
   "id": "ca876263-1ccf-4527-87fb-4a806e100fb3",
   "metadata": {},
   "outputs": [],
   "source": [
    "encoded_data.info()"
   ]
  },
  {
   "cell_type": "markdown",
   "id": "b2520abf-230f-4e9e-8f2a-ac4f574c0c91",
   "metadata": {},
   "source": [
    "Удалим обработанные ранее столбцы из исходного фрейма"
   ]
  },
  {
   "cell_type": "code",
   "execution_count": null,
   "id": "b89f40ac-8037-492b-a2b4-aaa647c37511",
   "metadata": {},
   "outputs": [],
   "source": [
    "data.drop(cat_columns, axis = 1, inplace = True)\n",
    "data.head()"
   ]
  },
  {
   "cell_type": "code",
   "execution_count": null,
   "id": "ad7c6f6d-e31c-4005-84ab-6007c947bd83",
   "metadata": {},
   "outputs": [],
   "source": [
    "data.info()"
   ]
  },
  {
   "cell_type": "markdown",
   "id": "c6afbb70-401a-4737-9305-40213c6b547b",
   "metadata": {},
   "source": [
    "Произведем конкатенацию столбцов исходного фрейма и фрейма с обработанными данными"
   ]
  },
  {
   "cell_type": "code",
   "execution_count": null,
   "id": "ba61790c-53ad-40c0-8bfd-a9f03f429043",
   "metadata": {},
   "outputs": [],
   "source": [
    "data = pd.concat([data.reset_index(drop = True), encoded_data.reset_index(drop = True)], axis = 1)\n",
    "data.head()"
   ]
  },
  {
   "cell_type": "markdown",
   "id": "f345a357-48bd-44a8-8d22-803bdd4e7c26",
   "metadata": {},
   "source": [
    "Поскольку столбец с датой неинформативен в своем исходном виде, преобразуем значения в соответствующие месяца"
   ]
  },
  {
   "cell_type": "code",
   "execution_count": null,
   "id": "a77adf21-0c59-4040-8b2e-8433b8023c21",
   "metadata": {},
   "outputs": [],
   "source": [
    "data['Date'] = pd.Series(pd.to_datetime(data['Date'].values).month)"
   ]
  },
  {
   "cell_type": "code",
   "execution_count": null,
   "id": "85229701-4b12-456d-9fe4-2f6c73c01cb0",
   "metadata": {},
   "outputs": [],
   "source": [
    "data['Date'].unique()"
   ]
  },
  {
   "cell_type": "code",
   "execution_count": null,
   "id": "f626f1a2-4275-4962-b58b-7729dc7e54b4",
   "metadata": {},
   "outputs": [],
   "source": [
    "data.head(30)"
   ]
  },
  {
   "cell_type": "code",
   "execution_count": null,
   "id": "c4cd666c-2a57-4df0-a692-db0b33af282a",
   "metadata": {},
   "outputs": [],
   "source": [
    "data.to_csv ('../data/rainAUS_prepared', index= False)"
   ]
  },
  {
   "cell_type": "markdown",
   "id": "a1283995-7a88-4dca-a612-28d911f0b5cf",
   "metadata": {},
   "source": [
    "# Разделение выборки"
   ]
  },
  {
   "cell_type": "markdown",
   "id": "56affe5e-e0a7-4cbd-aadd-76ede34be2e8",
   "metadata": {},
   "source": [
    "Выделим столбец с целевым признаком, "
   ]
  },
  {
   "cell_type": "code",
   "execution_count": 27,
   "id": "2a5ecd20-0adf-47cd-8aef-39e08977245f",
   "metadata": {},
   "outputs": [],
   "source": [
    "y = data['RainTomorrow']\n",
    "X = data.drop(['RainTomorrow'], axis=1)"
   ]
  },
  {
   "cell_type": "code",
   "execution_count": 28,
   "id": "10548b9c-f98d-4ff1-b708-f35473b249de",
   "metadata": {},
   "outputs": [
    {
     "data": {
      "text/plain": [
       "0         0\n",
       "1         0\n",
       "2         0\n",
       "3         0\n",
       "4         0\n",
       "         ..\n",
       "142188    0\n",
       "142189    0\n",
       "142190    0\n",
       "142191    0\n",
       "142192    0\n",
       "Name: RainTomorrow, Length: 142193, dtype: int32"
      ]
     },
     "execution_count": 28,
     "metadata": {},
     "output_type": "execute_result"
    }
   ],
   "source": [
    "y"
   ]
  },
  {
   "cell_type": "markdown",
   "id": "a0490ab0-3cd9-4273-8d68-d0e55503a005",
   "metadata": {},
   "source": [
    "Проверим уровень дизбаланса между классами "
   ]
  },
  {
   "cell_type": "code",
   "execution_count": 29,
   "id": "f210fded-20cb-4b70-b777-6c5f1a6ecada",
   "metadata": {},
   "outputs": [],
   "source": [
    "yes = data[data['RainTomorrow'] == 1]['RainTomorrow'].count()\n"
   ]
  },
  {
   "cell_type": "code",
   "execution_count": 30,
   "id": "cf5c5545-0bc7-4a9f-b627-399a5b8b6264",
   "metadata": {},
   "outputs": [],
   "source": [
    "no = data['RainTomorrow'].count() - yes"
   ]
  },
  {
   "cell_type": "code",
   "execution_count": 31,
   "id": "a861479d-5b9e-4f36-8e22-83297c1e7e2e",
   "metadata": {
    "scrolled": true
   },
   "outputs": [
    {
     "name": "stdout",
     "output_type": "stream",
     "text": [
      "29%\n"
     ]
    }
   ],
   "source": [
    "print(f'{round((yes/no)*100)}%')"
   ]
  },
  {
   "cell_type": "markdown",
   "id": "51f91b05-fc1a-4a86-840d-9975818609ec",
   "metadata": {},
   "source": [
    "Разделим датасеты на тренировочные и тестовые выборки, используя ресемплирование для train"
   ]
  },
  {
   "cell_type": "code",
   "execution_count": 32,
   "id": "afff8053-8738-420c-97d0-1de04849d771",
   "metadata": {},
   "outputs": [],
   "source": [
    "nm = NearMiss()"
   ]
  },
  {
   "cell_type": "code",
   "execution_count": 33,
   "id": "6a76c6a8-aee3-465a-889c-f616d883c956",
   "metadata": {},
   "outputs": [],
   "source": [
    "X_train, X_test, y_train, y_test = train_test_split(X, y, test_size=0.2)"
   ]
  },
  {
   "cell_type": "code",
   "execution_count": 34,
   "id": "db86311e-ad86-4fed-b6ff-2213268fb30a",
   "metadata": {},
   "outputs": [
    {
     "data": {
      "text/plain": [
       "((113754, 21), (113754,), (28439, 21), (28439,))"
      ]
     },
     "execution_count": 34,
     "metadata": {},
     "output_type": "execute_result"
    }
   ],
   "source": [
    "X_train.shape, y_train.shape, X_test.shape, y_test.shape"
   ]
  },
  {
   "cell_type": "code",
   "execution_count": 35,
   "id": "00a7b8c7-3eb4-4ce9-a5b6-a1ef723e89bb",
   "metadata": {},
   "outputs": [],
   "source": [
    "X_train, y_train = nm.fit_resample(X_train, y_train.ravel())"
   ]
  },
  {
   "cell_type": "code",
   "execution_count": 36,
   "id": "3a008513-b0c9-4e8d-9e85-b96af38dd5fa",
   "metadata": {},
   "outputs": [
    {
     "data": {
      "text/plain": [
       "((50972, 21), (50972,), (28439, 21), (28439,))"
      ]
     },
     "execution_count": 36,
     "metadata": {},
     "output_type": "execute_result"
    }
   ],
   "source": [
    "X_train.shape, y_train.shape, X_test.shape, y_test.shape"
   ]
  },
  {
   "cell_type": "markdown",
   "id": "0ee2278f-4a88-4cdd-8b12-58c5d0cc0f29",
   "metadata": {},
   "source": [
    "# Масштабирование"
   ]
  },
  {
   "cell_type": "code",
   "execution_count": 37,
   "id": "0e454161-c692-4dd7-ab64-f387d817f8cf",
   "metadata": {},
   "outputs": [],
   "source": [
    "scaler = StandardScaler()"
   ]
  },
  {
   "cell_type": "code",
   "execution_count": 38,
   "id": "eb435cda-bd0f-4464-aad2-02d1377ee9e0",
   "metadata": {},
   "outputs": [
    {
     "data": {
      "text/html": [
       "<style>#sk-container-id-1 {color: black;}#sk-container-id-1 pre{padding: 0;}#sk-container-id-1 div.sk-toggleable {background-color: white;}#sk-container-id-1 label.sk-toggleable__label {cursor: pointer;display: block;width: 100%;margin-bottom: 0;padding: 0.3em;box-sizing: border-box;text-align: center;}#sk-container-id-1 label.sk-toggleable__label-arrow:before {content: \"▸\";float: left;margin-right: 0.25em;color: #696969;}#sk-container-id-1 label.sk-toggleable__label-arrow:hover:before {color: black;}#sk-container-id-1 div.sk-estimator:hover label.sk-toggleable__label-arrow:before {color: black;}#sk-container-id-1 div.sk-toggleable__content {max-height: 0;max-width: 0;overflow: hidden;text-align: left;background-color: #f0f8ff;}#sk-container-id-1 div.sk-toggleable__content pre {margin: 0.2em;color: black;border-radius: 0.25em;background-color: #f0f8ff;}#sk-container-id-1 input.sk-toggleable__control:checked~div.sk-toggleable__content {max-height: 200px;max-width: 100%;overflow: auto;}#sk-container-id-1 input.sk-toggleable__control:checked~label.sk-toggleable__label-arrow:before {content: \"▾\";}#sk-container-id-1 div.sk-estimator input.sk-toggleable__control:checked~label.sk-toggleable__label {background-color: #d4ebff;}#sk-container-id-1 div.sk-label input.sk-toggleable__control:checked~label.sk-toggleable__label {background-color: #d4ebff;}#sk-container-id-1 input.sk-hidden--visually {border: 0;clip: rect(1px 1px 1px 1px);clip: rect(1px, 1px, 1px, 1px);height: 1px;margin: -1px;overflow: hidden;padding: 0;position: absolute;width: 1px;}#sk-container-id-1 div.sk-estimator {font-family: monospace;background-color: #f0f8ff;border: 1px dotted black;border-radius: 0.25em;box-sizing: border-box;margin-bottom: 0.5em;}#sk-container-id-1 div.sk-estimator:hover {background-color: #d4ebff;}#sk-container-id-1 div.sk-parallel-item::after {content: \"\";width: 100%;border-bottom: 1px solid gray;flex-grow: 1;}#sk-container-id-1 div.sk-label:hover label.sk-toggleable__label {background-color: #d4ebff;}#sk-container-id-1 div.sk-serial::before {content: \"\";position: absolute;border-left: 1px solid gray;box-sizing: border-box;top: 0;bottom: 0;left: 50%;z-index: 0;}#sk-container-id-1 div.sk-serial {display: flex;flex-direction: column;align-items: center;background-color: white;padding-right: 0.2em;padding-left: 0.2em;position: relative;}#sk-container-id-1 div.sk-item {position: relative;z-index: 1;}#sk-container-id-1 div.sk-parallel {display: flex;align-items: stretch;justify-content: center;background-color: white;position: relative;}#sk-container-id-1 div.sk-item::before, #sk-container-id-1 div.sk-parallel-item::before {content: \"\";position: absolute;border-left: 1px solid gray;box-sizing: border-box;top: 0;bottom: 0;left: 50%;z-index: -1;}#sk-container-id-1 div.sk-parallel-item {display: flex;flex-direction: column;z-index: 1;position: relative;background-color: white;}#sk-container-id-1 div.sk-parallel-item:first-child::after {align-self: flex-end;width: 50%;}#sk-container-id-1 div.sk-parallel-item:last-child::after {align-self: flex-start;width: 50%;}#sk-container-id-1 div.sk-parallel-item:only-child::after {width: 0;}#sk-container-id-1 div.sk-dashed-wrapped {border: 1px dashed gray;margin: 0 0.4em 0.5em 0.4em;box-sizing: border-box;padding-bottom: 0.4em;background-color: white;}#sk-container-id-1 div.sk-label label {font-family: monospace;font-weight: bold;display: inline-block;line-height: 1.2em;}#sk-container-id-1 div.sk-label-container {text-align: center;}#sk-container-id-1 div.sk-container {/* jupyter's `normalize.less` sets `[hidden] { display: none; }` but bootstrap.min.css set `[hidden] { display: none !important; }` so we also need the `!important` here to be able to override the default hidden behavior on the sphinx rendered scikit-learn.org. See: https://github.com/scikit-learn/scikit-learn/issues/21755 */display: inline-block !important;position: relative;}#sk-container-id-1 div.sk-text-repr-fallback {display: none;}</style><div id=\"sk-container-id-1\" class=\"sk-top-container\"><div class=\"sk-text-repr-fallback\"><pre>StandardScaler()</pre><b>In a Jupyter environment, please rerun this cell to show the HTML representation or trust the notebook. <br />On GitHub, the HTML representation is unable to render, please try loading this page with nbviewer.org.</b></div><div class=\"sk-container\" hidden><div class=\"sk-item\"><div class=\"sk-estimator sk-toggleable\"><input class=\"sk-toggleable__control sk-hidden--visually\" id=\"sk-estimator-id-1\" type=\"checkbox\" checked><label for=\"sk-estimator-id-1\" class=\"sk-toggleable__label sk-toggleable__label-arrow\">StandardScaler</label><div class=\"sk-toggleable__content\"><pre>StandardScaler()</pre></div></div></div></div></div>"
      ],
      "text/plain": [
       "StandardScaler()"
      ]
     },
     "execution_count": 38,
     "metadata": {},
     "output_type": "execute_result"
    }
   ],
   "source": [
    "scaler.fit(X_train)"
   ]
  },
  {
   "cell_type": "code",
   "execution_count": 39,
   "id": "5a648162-24f2-46d8-abf8-4792dc02c291",
   "metadata": {},
   "outputs": [],
   "source": [
    "X_train = scaler.transform(X_train)\n",
    "X_test = scaler.transform(X_test)"
   ]
  },
  {
   "cell_type": "code",
   "execution_count": 40,
   "id": "f38f9547-c622-4425-beff-1d0f6caba180",
   "metadata": {},
   "outputs": [
    {
     "data": {
      "text/plain": [
       "array([[-0.74564984, -0.51842934, -0.24971773, ...,  1.05326675,\n",
       "         0.30989826, -0.68750886],\n",
       "       [-1.05267752, -0.51842934, -0.24971773, ...,  1.05326675,\n",
       "         0.30989826, -0.68750886],\n",
       "       [-1.05267752, -0.51842934, -0.24971773, ...,  1.05326675,\n",
       "         0.30989826, -0.68750886],\n",
       "       ...,\n",
       "       [ 0.78948856, -1.16110537,  0.25753792, ..., -0.92330169,\n",
       "        -0.60665652, -0.68750886],\n",
       "       [ 1.7105716 ,  1.56634899,  1.13370677, ..., -0.48406426,\n",
       "        -1.0649339 , -0.68750886],\n",
       "       [-0.74564984, -0.04817859, -0.61863093, ...,  1.05326675,\n",
       "         1.22645304,  1.4545267 ]])"
      ]
     },
     "execution_count": 40,
     "metadata": {},
     "output_type": "execute_result"
    }
   ],
   "source": [
    "X_train"
   ]
  },
  {
   "cell_type": "markdown",
   "id": "723278fd-617c-45c1-8f4f-570204107149",
   "metadata": {},
   "source": [
    "# Создание и обучение моделей классификации"
   ]
  },
  {
   "cell_type": "markdown",
   "id": "af5e3322-34a8-4009-9a81-a34c288cceb0",
   "metadata": {},
   "source": [
    "Функции для вывода метрик"
   ]
  },
  {
   "cell_type": "code",
   "execution_count": 41,
   "id": "ea2bacf1-c95c-4605-a430-b9a2da8d442c",
   "metadata": {},
   "outputs": [],
   "source": [
    "def show_metrics(y_test, predict):\n",
    "    print(classification_report(y_test, predict))    \n",
    "\n",
    "def show_roc(X_test, y_test, model):\n",
    "    %matplotlib inline\n",
    "    \n",
    "    y_scores = model.predict_proba(X_test)\n",
    "    fpr, tpr, thresholds = roc_curve(y_test, y_scores[:,1])\n",
    "    \n",
    "    fig = plt.figure(figsize=(6, 6))\n",
    "    \n",
    "    plt.plot([0, 1], [0, 1], 'k--')\n",
    "    plt.plot(fpr, tpr)\n",
    "    plt.xlabel('False Positive Rate')\n",
    "    plt.ylabel('True Positive Rate')\n",
    "    plt.title('ROC Curve')\n",
    "    plt.show()\n",
    "    print(f'AUC: {roc_auc_score(y_test, y_scores[:,1])}')\n",
    "\n",
    "def show_con_mat(y_test, predict):\n",
    "    print(confusion_matrix(y_test, predict))"
   ]
  },
  {
   "cell_type": "markdown",
   "id": "d4b49251-9123-455f-939f-31a42dd0a11c",
   "metadata": {},
   "source": [
    "## Логистическая регрессия"
   ]
  },
  {
   "cell_type": "code",
   "execution_count": 42,
   "id": "c26961c6-4a14-475f-89ed-28d019819c08",
   "metadata": {},
   "outputs": [],
   "source": [
    "params = {'C': np.arange(0.01, 1, 0.1)}"
   ]
  },
  {
   "cell_type": "code",
   "execution_count": 43,
   "id": "097e4d14-8682-4271-affc-058ae7a55eff",
   "metadata": {},
   "outputs": [
    {
     "data": {
      "text/plain": [
       "{'C': 0.11}"
      ]
     },
     "execution_count": 43,
     "metadata": {},
     "output_type": "execute_result"
    }
   ],
   "source": [
    "lr_optimal = GridSearchCV(LogisticRegression(), params).fit(X_train, y_train)\n",
    "lr_optimal.best_params_"
   ]
  },
  {
   "cell_type": "code",
   "execution_count": 44,
   "id": "664cf904-348c-43bf-891e-35e741f0f434",
   "metadata": {},
   "outputs": [],
   "source": [
    "lr = LogisticRegression(C = lr_optimal.best_params_['C'])\n",
    "lr.fit(X_train, y_train)\n",
    "predict = lr.predict(X_test)"
   ]
  },
  {
   "cell_type": "code",
   "execution_count": 45,
   "id": "a22ef301-cd0a-478c-98bb-2d231b75faea",
   "metadata": {},
   "outputs": [
    {
     "name": "stdout",
     "output_type": "stream",
     "text": [
      "[[17351  4697]\n",
      " [ 1907  4484]]\n"
     ]
    }
   ],
   "source": [
    "show_con_mat(y_test, predict)"
   ]
  },
  {
   "cell_type": "code",
   "execution_count": 46,
   "id": "1665ed98-a667-41b1-bf68-beb991d53e01",
   "metadata": {},
   "outputs": [
    {
     "name": "stdout",
     "output_type": "stream",
     "text": [
      "              precision    recall  f1-score   support\n",
      "\n",
      "           0       0.90      0.79      0.84     22048\n",
      "           1       0.49      0.70      0.58      6391\n",
      "\n",
      "    accuracy                           0.77     28439\n",
      "   macro avg       0.69      0.74      0.71     28439\n",
      "weighted avg       0.81      0.77      0.78     28439\n",
      "\n",
      "f1_score: 0.5759054713588492\n"
     ]
    }
   ],
   "source": [
    "show_metrics(y_test, predict)"
   ]
  },
  {
   "cell_type": "code",
   "execution_count": 47,
   "id": "687e549a-74be-4b9a-99bc-f40223af04da",
   "metadata": {},
   "outputs": [
    {
     "data": {
      "image/png": "[encoded data removed]",
      "text/plain": [
       "<Figure size 600x600 with 1 Axes>"
      ]
     },
     "metadata": {},
     "output_type": "display_data"
    },
    {
     "name": "stdout",
     "output_type": "stream",
     "text": [
      "AUC: 0.8185306254327622\n"
     ]
    }
   ],
   "source": [
    "show_roc(X_test, y_test, lr)"
   ]
  },
  {
   "cell_type": "markdown",
   "id": "77cf3894-9886-4591-be5c-6cc8c47825c1",
   "metadata": {},
   "source": [
    "Видим, что модель предсказывает реальные значения хорошо: ROC кривая по форме близка к идеальному варианту, метрики для первого класса достаточно высоки, а для второго в пределах адекватных."
   ]
  },
  {
   "cell_type": "markdown",
   "id": "05bbd966-88e3-4a6b-be12-d6f918417f0c",
   "metadata": {},
   "source": [
    "## Метод k ближайших соседей"
   ]
  },
  {
   "cell_type": "code",
   "execution_count": 48,
   "id": "4153872c-4e0d-4e71-92cd-698cfb9d2266",
   "metadata": {},
   "outputs": [
    {
     "data": {
      "text/plain": [
       "{'n_neighbors': 13}"
      ]
     },
     "execution_count": 48,
     "metadata": {},
     "output_type": "execute_result"
    }
   ],
   "source": [
    "params = {'n_neighbors': np.arange(1, 15, 2)}\n",
    "knn_optimal = GridSearchCV(KNeighborsClassifier(), params).fit(X_train, y_train)\n",
    "knn_optimal.best_params_"
   ]
  },
  {
   "cell_type": "code",
   "execution_count": 49,
   "id": "cc4b2c53-a218-4dcf-b9a6-90409c6bd3c8",
   "metadata": {},
   "outputs": [],
   "source": [
    "knn = KNeighborsClassifier(n_neighbors = knn_optimal.best_params_['n_neighbors'], weights = 'distance')"
   ]
  },
  {
   "cell_type": "code",
   "execution_count": 50,
   "id": "9195daf7-82d3-4d96-91d7-a4a3fbc36370",
   "metadata": {},
   "outputs": [],
   "source": [
    "knn.fit(X_train, y_train)\n",
    "predict = knn.predict(X_test)"
   ]
  },
  {
   "cell_type": "code",
   "execution_count": 51,
   "id": "166acf03-c9fe-4dc2-9940-7bf38620a009",
   "metadata": {},
   "outputs": [
    {
     "name": "stdout",
     "output_type": "stream",
     "text": [
      "[[17167  4881]\n",
      " [ 2317  4074]]\n"
     ]
    }
   ],
   "source": [
    "show_con_mat(y_test, predict)"
   ]
  },
  {
   "cell_type": "code",
   "execution_count": 52,
   "id": "9a876131-f2ec-4e0b-ac17-a7acfc4dc264",
   "metadata": {},
   "outputs": [
    {
     "name": "stdout",
     "output_type": "stream",
     "text": [
      "              precision    recall  f1-score   support\n",
      "\n",
      "           0       0.88      0.78      0.83     22048\n",
      "           1       0.45      0.64      0.53      6391\n",
      "\n",
      "    accuracy                           0.75     28439\n",
      "   macro avg       0.67      0.71      0.68     28439\n",
      "weighted avg       0.79      0.75      0.76     28439\n",
      "\n",
      "f1_score: 0.5309526912550502\n"
     ]
    }
   ],
   "source": [
    "show_metrics(y_test, predict)"
   ]
  },
  {
   "cell_type": "code",
   "execution_count": 53,
   "id": "a6c28947-d242-4967-9880-a3930e36af1c",
   "metadata": {},
   "outputs": [
    {
     "data": {
      "image/png": "[encoded data removed]",
      "text/plain": [
       "<Figure size 600x600 with 1 Axes>"
      ]
     },
     "metadata": {},
     "output_type": "display_data"
    },
    {
     "name": "stdout",
     "output_type": "stream",
     "text": [
      "AUC: 0.7747313957070436\n"
     ]
    }
   ],
   "source": [
    "show_roc(X_test, y_test, knn)"
   ]
  },
  {
   "cell_type": "markdown",
   "id": "88a697ef-fe35-49ef-9cbf-e1b14cdb301b",
   "metadata": {},
   "source": [
    "Из значений метрик видно, что kNN, использующий евклидову метрику (с поиском k по сетке) справляется с задачей классификации немного хуже, чем логистическая регрессия."
   ]
  },
  {
   "cell_type": "markdown",
   "id": "0a84529c-0a7e-4968-8f87-6ad3dc4edc22",
   "metadata": {},
   "source": [
    "## Наивный байесовский классификатор"
   ]
  },
  {
   "cell_type": "markdown",
   "id": "c8377d90-809a-4097-b558-9a14cd4bc7cc",
   "metadata": {},
   "source": [
    "### Gaussian"
   ]
  },
  {
   "cell_type": "code",
   "execution_count": 54,
   "id": "b26ca01e-4a3a-4161-ac8b-6bc0f932439c",
   "metadata": {},
   "outputs": [
    {
     "data": {
      "text/plain": [
       "{'var_smoothing': 0.0}"
      ]
     },
     "execution_count": 54,
     "metadata": {},
     "output_type": "execute_result"
    }
   ],
   "source": [
    "params = {'var_smoothing': np.arange(0, 0.01, 1)}\n",
    "gs_nb_optimal = GridSearchCV(GaussianNB(), params).fit(X_train, y_train)\n",
    "gs_nb_optimal.best_params_"
   ]
  },
  {
   "cell_type": "code",
   "execution_count": 55,
   "id": "e6fe1882-a58e-40d6-aa74-bf4186a0f652",
   "metadata": {},
   "outputs": [
    {
     "data": {
      "text/html": [
       "<style>#sk-container-id-2 {color: black;}#sk-container-id-2 pre{padding: 0;}#sk-container-id-2 div.sk-toggleable {background-color: white;}#sk-container-id-2 label.sk-toggleable__label {cursor: pointer;display: block;width: 100%;margin-bottom: 0;padding: 0.3em;box-sizing: border-box;text-align: center;}#sk-container-id-2 label.sk-toggleable__label-arrow:before {content: \"▸\";float: left;margin-right: 0.25em;color: #696969;}#sk-container-id-2 label.sk-toggleable__label-arrow:hover:before {color: black;}#sk-container-id-2 div.sk-estimator:hover label.sk-toggleable__label-arrow:before {color: black;}#sk-container-id-2 div.sk-toggleable__content {max-height: 0;max-width: 0;overflow: hidden;text-align: left;background-color: #f0f8ff;}#sk-container-id-2 div.sk-toggleable__content pre {margin: 0.2em;color: black;border-radius: 0.25em;background-color: #f0f8ff;}#sk-container-id-2 input.sk-toggleable__control:checked~div.sk-toggleable__content {max-height: 200px;max-width: 100%;overflow: auto;}#sk-container-id-2 input.sk-toggleable__control:checked~label.sk-toggleable__label-arrow:before {content: \"▾\";}#sk-container-id-2 div.sk-estimator input.sk-toggleable__control:checked~label.sk-toggleable__label {background-color: #d4ebff;}#sk-container-id-2 div.sk-label input.sk-toggleable__control:checked~label.sk-toggleable__label {background-color: #d4ebff;}#sk-container-id-2 input.sk-hidden--visually {border: 0;clip: rect(1px 1px 1px 1px);clip: rect(1px, 1px, 1px, 1px);height: 1px;margin: -1px;overflow: hidden;padding: 0;position: absolute;width: 1px;}#sk-container-id-2 div.sk-estimator {font-family: monospace;background-color: #f0f8ff;border: 1px dotted black;border-radius: 0.25em;box-sizing: border-box;margin-bottom: 0.5em;}#sk-container-id-2 div.sk-estimator:hover {background-color: #d4ebff;}#sk-container-id-2 div.sk-parallel-item::after {content: \"\";width: 100%;border-bottom: 1px solid gray;flex-grow: 1;}#sk-container-id-2 div.sk-label:hover label.sk-toggleable__label {background-color: #d4ebff;}#sk-container-id-2 div.sk-serial::before {content: \"\";position: absolute;border-left: 1px solid gray;box-sizing: border-box;top: 0;bottom: 0;left: 50%;z-index: 0;}#sk-container-id-2 div.sk-serial {display: flex;flex-direction: column;align-items: center;background-color: white;padding-right: 0.2em;padding-left: 0.2em;position: relative;}#sk-container-id-2 div.sk-item {position: relative;z-index: 1;}#sk-container-id-2 div.sk-parallel {display: flex;align-items: stretch;justify-content: center;background-color: white;position: relative;}#sk-container-id-2 div.sk-item::before, #sk-container-id-2 div.sk-parallel-item::before {content: \"\";position: absolute;border-left: 1px solid gray;box-sizing: border-box;top: 0;bottom: 0;left: 50%;z-index: -1;}#sk-container-id-2 div.sk-parallel-item {display: flex;flex-direction: column;z-index: 1;position: relative;background-color: white;}#sk-container-id-2 div.sk-parallel-item:first-child::after {align-self: flex-end;width: 50%;}#sk-container-id-2 div.sk-parallel-item:last-child::after {align-self: flex-start;width: 50%;}#sk-container-id-2 div.sk-parallel-item:only-child::after {width: 0;}#sk-container-id-2 div.sk-dashed-wrapped {border: 1px dashed gray;margin: 0 0.4em 0.5em 0.4em;box-sizing: border-box;padding-bottom: 0.4em;background-color: white;}#sk-container-id-2 div.sk-label label {font-family: monospace;font-weight: bold;display: inline-block;line-height: 1.2em;}#sk-container-id-2 div.sk-label-container {text-align: center;}#sk-container-id-2 div.sk-container {/* jupyter's `normalize.less` sets `[hidden] { display: none; }` but bootstrap.min.css set `[hidden] { display: none !important; }` so we also need the `!important` here to be able to override the default hidden behavior on the sphinx rendered scikit-learn.org. See: https://github.com/scikit-learn/scikit-learn/issues/21755 */display: inline-block !important;position: relative;}#sk-container-id-2 div.sk-text-repr-fallback {display: none;}</style><div id=\"sk-container-id-2\" class=\"sk-top-container\"><div class=\"sk-text-repr-fallback\"><pre>GaussianNB()</pre><b>In a Jupyter environment, please rerun this cell to show the HTML representation or trust the notebook. <br />On GitHub, the HTML representation is unable to render, please try loading this page with nbviewer.org.</b></div><div class=\"sk-container\" hidden><div class=\"sk-item\"><div class=\"sk-estimator sk-toggleable\"><input class=\"sk-toggleable__control sk-hidden--visually\" id=\"sk-estimator-id-2\" type=\"checkbox\" checked><label for=\"sk-estimator-id-2\" class=\"sk-toggleable__label sk-toggleable__label-arrow\">GaussianNB</label><div class=\"sk-toggleable__content\"><pre>GaussianNB()</pre></div></div></div></div></div>"
      ],
      "text/plain": [
       "GaussianNB()"
      ]
     },
     "execution_count": 55,
     "metadata": {},
     "output_type": "execute_result"
    }
   ],
   "source": [
    "gs_nb = GaussianNB()\n",
    "gs_nb.fit(X_train, y_train)"
   ]
  },
  {
   "cell_type": "code",
   "execution_count": 56,
   "id": "622b2565-7839-4bfb-af2e-5fe513b6c7e7",
   "metadata": {},
   "outputs": [],
   "source": [
    "predict = gs_nb.predict(X_test)"
   ]
  },
  {
   "cell_type": "code",
   "execution_count": 57,
   "id": "2d2c7f84-3035-49e5-9c32-3f11acea6b9e",
   "metadata": {},
   "outputs": [
    {
     "name": "stdout",
     "output_type": "stream",
     "text": [
      "[[17128  4920]\n",
      " [ 2573  3818]]\n"
     ]
    }
   ],
   "source": [
    "show_con_mat(y_test, predict)"
   ]
  },
  {
   "cell_type": "code",
   "execution_count": 58,
   "id": "b0becd41-03ad-4e87-8626-62c58481340f",
   "metadata": {},
   "outputs": [
    {
     "name": "stdout",
     "output_type": "stream",
     "text": [
      "              precision    recall  f1-score   support\n",
      "\n",
      "           0       0.87      0.78      0.82     22048\n",
      "           1       0.44      0.60      0.50      6391\n",
      "\n",
      "    accuracy                           0.74     28439\n",
      "   macro avg       0.65      0.69      0.66     28439\n",
      "weighted avg       0.77      0.74      0.75     28439\n",
      "\n",
      "f1_score: 0.5047260228699848\n"
     ]
    }
   ],
   "source": [
    "show_metrics(y_test, predict)"
   ]
  },
  {
   "cell_type": "code",
   "execution_count": 59,
   "id": "dbd0a7a1-f97a-4361-af3c-7770b11c00f0",
   "metadata": {},
   "outputs": [
    {
     "data": {
      "image/png": "[encoded data removed]",
      "text/plain": [
       "<Figure size 600x600 with 1 Axes>"
      ]
     },
     "metadata": {},
     "output_type": "display_data"
    },
    {
     "name": "stdout",
     "output_type": "stream",
     "text": [
      "AUC: 0.7561118836834908\n"
     ]
    }
   ],
   "source": [
    "show_roc(X_test, y_test, gs_nb)"
   ]
  },
  {
   "cell_type": "markdown",
   "id": "559615b2-3b50-4041-815e-7ff8436f3541",
   "metadata": {},
   "source": [
    "Из метрик видно, что гауссовский наивный байес справился с задачей хуже всех остальных рассмотренных классификаторов."
   ]
  },
  {
   "cell_type": "markdown",
   "id": "9ea257da-42dc-4550-b83b-209b38c1fbb1",
   "metadata": {},
   "source": [
    "## SVM"
   ]
  },
  {
   "cell_type": "code",
   "execution_count": 63,
   "id": "ffa9d5ae-9ce7-417f-90c1-e50b7f623a0e",
   "metadata": {},
   "outputs": [
    {
     "data": {
      "text/plain": [
       "{'C': 0.01, 'degree': 2, 'gamma': 'scale', 'kernel': 'rbf'}"
      ]
     },
     "execution_count": 63,
     "metadata": {},
     "output_type": "execute_result"
    }
   ],
   "source": [
    "params = {'C': np.arange(0.01, 0.1, 1), 'kernel': ['linear', 'poly', 'rbf', 'sigmoid'], 'degree': [2,3], 'gamma': ['scale', 'auto']}\n",
    "svc_optimal = GridSearchCV(SVC(), params).fit(X_train, y_train)\n",
    "svc_optimal.best_params_"
   ]
  },
  {
   "cell_type": "code",
   "execution_count": null,
   "id": "6535176b-21f3-4345-8334-4fc000e4928f",
   "metadata": {},
   "outputs": [],
   "source": [
    "#{'C': 0.01, 'degree': 2, 'gamma': 'scale', 'kernel': 'rbf'}"
   ]
  },
  {
   "cell_type": "code",
   "execution_count": 64,
   "id": "cb1a3b19-52bc-456e-9d75-63e72e0fb5f5",
   "metadata": {},
   "outputs": [],
   "source": [
    "c = svc_optimal.best_params_['C']\n",
    "gamma = svc_optimal.best_params_['gamma']\n",
    "kernel = svc_optimal.best_params_['kernel']"
   ]
  },
  {
   "cell_type": "code",
   "execution_count": 70,
   "id": "eca15644-1dec-4e5f-80f5-79cb05c91ab4",
   "metadata": {},
   "outputs": [
    {
     "data": {
      "text/html": [
       "<style>#sk-container-id-4 {color: black;}#sk-container-id-4 pre{padding: 0;}#sk-container-id-4 div.sk-toggleable {background-color: white;}#sk-container-id-4 label.sk-toggleable__label {cursor: pointer;display: block;width: 100%;margin-bottom: 0;padding: 0.3em;box-sizing: border-box;text-align: center;}#sk-container-id-4 label.sk-toggleable__label-arrow:before {content: \"▸\";float: left;margin-right: 0.25em;color: #696969;}#sk-container-id-4 label.sk-toggleable__label-arrow:hover:before {color: black;}#sk-container-id-4 div.sk-estimator:hover label.sk-toggleable__label-arrow:before {color: black;}#sk-container-id-4 div.sk-toggleable__content {max-height: 0;max-width: 0;overflow: hidden;text-align: left;background-color: #f0f8ff;}#sk-container-id-4 div.sk-toggleable__content pre {margin: 0.2em;color: black;border-radius: 0.25em;background-color: #f0f8ff;}#sk-container-id-4 input.sk-toggleable__control:checked~div.sk-toggleable__content {max-height: 200px;max-width: 100%;overflow: auto;}#sk-container-id-4 input.sk-toggleable__control:checked~label.sk-toggleable__label-arrow:before {content: \"▾\";}#sk-container-id-4 div.sk-estimator input.sk-toggleable__control:checked~label.sk-toggleable__label {background-color: #d4ebff;}#sk-container-id-4 div.sk-label input.sk-toggleable__control:checked~label.sk-toggleable__label {background-color: #d4ebff;}#sk-container-id-4 input.sk-hidden--visually {border: 0;clip: rect(1px 1px 1px 1px);clip: rect(1px, 1px, 1px, 1px);height: 1px;margin: -1px;overflow: hidden;padding: 0;position: absolute;width: 1px;}#sk-container-id-4 div.sk-estimator {font-family: monospace;background-color: #f0f8ff;border: 1px dotted black;border-radius: 0.25em;box-sizing: border-box;margin-bottom: 0.5em;}#sk-container-id-4 div.sk-estimator:hover {background-color: #d4ebff;}#sk-container-id-4 div.sk-parallel-item::after {content: \"\";width: 100%;border-bottom: 1px solid gray;flex-grow: 1;}#sk-container-id-4 div.sk-label:hover label.sk-toggleable__label {background-color: #d4ebff;}#sk-container-id-4 div.sk-serial::before {content: \"\";position: absolute;border-left: 1px solid gray;box-sizing: border-box;top: 0;bottom: 0;left: 50%;z-index: 0;}#sk-container-id-4 div.sk-serial {display: flex;flex-direction: column;align-items: center;background-color: white;padding-right: 0.2em;padding-left: 0.2em;position: relative;}#sk-container-id-4 div.sk-item {position: relative;z-index: 1;}#sk-container-id-4 div.sk-parallel {display: flex;align-items: stretch;justify-content: center;background-color: white;position: relative;}#sk-container-id-4 div.sk-item::before, #sk-container-id-4 div.sk-parallel-item::before {content: \"\";position: absolute;border-left: 1px solid gray;box-sizing: border-box;top: 0;bottom: 0;left: 50%;z-index: -1;}#sk-container-id-4 div.sk-parallel-item {display: flex;flex-direction: column;z-index: 1;position: relative;background-color: white;}#sk-container-id-4 div.sk-parallel-item:first-child::after {align-self: flex-end;width: 50%;}#sk-container-id-4 div.sk-parallel-item:last-child::after {align-self: flex-start;width: 50%;}#sk-container-id-4 div.sk-parallel-item:only-child::after {width: 0;}#sk-container-id-4 div.sk-dashed-wrapped {border: 1px dashed gray;margin: 0 0.4em 0.5em 0.4em;box-sizing: border-box;padding-bottom: 0.4em;background-color: white;}#sk-container-id-4 div.sk-label label {font-family: monospace;font-weight: bold;display: inline-block;line-height: 1.2em;}#sk-container-id-4 div.sk-label-container {text-align: center;}#sk-container-id-4 div.sk-container {/* jupyter's `normalize.less` sets `[hidden] { display: none; }` but bootstrap.min.css set `[hidden] { display: none !important; }` so we also need the `!important` here to be able to override the default hidden behavior on the sphinx rendered scikit-learn.org. See: https://github.com/scikit-learn/scikit-learn/issues/21755 */display: inline-block !important;position: relative;}#sk-container-id-4 div.sk-text-repr-fallback {display: none;}</style><div id=\"sk-container-id-4\" class=\"sk-top-container\"><div class=\"sk-text-repr-fallback\"><pre>SVC(C=0.01, probability=True)</pre><b>In a Jupyter environment, please rerun this cell to show the HTML representation or trust the notebook. <br />On GitHub, the HTML representation is unable to render, please try loading this page with nbviewer.org.</b></div><div class=\"sk-container\" hidden><div class=\"sk-item\"><div class=\"sk-estimator sk-toggleable\"><input class=\"sk-toggleable__control sk-hidden--visually\" id=\"sk-estimator-id-4\" type=\"checkbox\" checked><label for=\"sk-estimator-id-4\" class=\"sk-toggleable__label sk-toggleable__label-arrow\">SVC</label><div class=\"sk-toggleable__content\"><pre>SVC(C=0.01, probability=True)</pre></div></div></div></div></div>"
      ],
      "text/plain": [
       "SVC(C=0.01, probability=True)"
      ]
     },
     "execution_count": 70,
     "metadata": {},
     "output_type": "execute_result"
    }
   ],
   "source": [
    "svc = SVC(C = c, gamma = gamma, kernel = kernel, probability=True)\n",
    "svc.fit(X_train, y_train)"
   ]
  },
  {
   "cell_type": "code",
   "execution_count": 72,
   "id": "3a7ce37c-97fc-43b0-82d9-d49b4af387bd",
   "metadata": {},
   "outputs": [],
   "source": [
    "predict = svc.predict(X_test)"
   ]
  },
  {
   "cell_type": "code",
   "execution_count": 73,
   "id": "a64949ff-6892-440c-b044-3a771a96483f",
   "metadata": {},
   "outputs": [
    {
     "name": "stdout",
     "output_type": "stream",
     "text": [
      "[[15169  6879]\n",
      " [ 1850  4541]]\n"
     ]
    }
   ],
   "source": [
    "show_con_mat(y_test, predict)"
   ]
  },
  {
   "cell_type": "code",
   "execution_count": 74,
   "id": "f52ad7e9-5852-4524-b9e1-4d2e9b5d6de6",
   "metadata": {},
   "outputs": [
    {
     "name": "stdout",
     "output_type": "stream",
     "text": [
      "              precision    recall  f1-score   support\n",
      "\n",
      "           0       0.89      0.69      0.78     22048\n",
      "           1       0.40      0.71      0.51      6391\n",
      "\n",
      "    accuracy                           0.69     28439\n",
      "   macro avg       0.64      0.70      0.64     28439\n",
      "weighted avg       0.78      0.69      0.72     28439\n",
      "\n",
      "f1_score: 0.509909606422997\n"
     ]
    }
   ],
   "source": [
    "show_metrics(y_test, predict)"
   ]
  },
  {
   "cell_type": "code",
   "execution_count": 75,
   "id": "628b14a0-84c0-4e6e-81b7-b76fd60e5757",
   "metadata": {},
   "outputs": [
    {
     "data": {
      "image/png": "[encoded data removed]",
      "text/plain": [
       "<Figure size 600x600 with 1 Axes>"
      ]
     },
     "metadata": {},
     "output_type": "display_data"
    },
    {
     "name": "stdout",
     "output_type": "stream",
     "text": [
      "AUC: 0.7698880278337257\n"
     ]
    }
   ],
   "source": [
    "show_roc(X_test, y_test, svc)"
   ]
  },
  {
   "cell_type": "markdown",
   "id": "42a310b3-01a0-443a-b322-9dfcaa519275",
   "metadata": {},
   "source": [
    "Исходя из метрик, модель RBF заметно не улучшила результаты классификации."
   ]
  },
  {
   "cell_type": "markdown",
   "id": "b61e6ae4-ad06-42cb-880f-2f5a056b0448",
   "metadata": {},
   "source": [
    "# Построение итоговой модели классификаторов"
   ]
  },
  {
   "cell_type": "code",
   "execution_count": 79,
   "id": "075a2dd4-d0ca-4eba-9e5c-82c88be7d0da",
   "metadata": {},
   "outputs": [],
   "source": [
    "classifiers = {\n",
    "    'Logistic Regression': LogisticRegression(C = 0.11),\n",
    "    'Naive Bayes' : GaussianNB(),\n",
    "    'SVC': SVC(kernel='rbf', C= 0.01, gamma = 'scale', probability=True),\n",
    "    'KNN classifier': KNeighborsClassifier(n_neighbors=13, metric='minkowski', weights='distance')\n",
    "}"
   ]
  },
  {
   "cell_type": "code",
   "execution_count": 80,
   "id": "36c5b36c-747c-42af-9e83-0027d385c0fa",
   "metadata": {},
   "outputs": [
    {
     "name": "stdout",
     "output_type": "stream",
     "text": [
      "Accuracy (train) for Logistic Regression: 76.8% \n",
      "              precision    recall  f1-score   support\n",
      "\n",
      "           0       0.90      0.79      0.84     22048\n",
      "           1       0.49      0.70      0.58      6391\n",
      "\n",
      "    accuracy                           0.77     28439\n",
      "   macro avg       0.69      0.74      0.71     28439\n",
      "weighted avg       0.81      0.77      0.78     28439\n",
      "\n",
      "Accuracy (train) for Naive Bayes: 73.7% \n",
      "              precision    recall  f1-score   support\n",
      "\n",
      "           0       0.87      0.78      0.82     22048\n",
      "           1       0.44      0.60      0.50      6391\n",
      "\n",
      "    accuracy                           0.74     28439\n",
      "   macro avg       0.65      0.69      0.66     28439\n",
      "weighted avg       0.77      0.74      0.75     28439\n",
      "\n",
      "Accuracy (train) for SVC: 69.3% \n",
      "              precision    recall  f1-score   support\n",
      "\n",
      "           0       0.89      0.69      0.78     22048\n",
      "           1       0.40      0.71      0.51      6391\n",
      "\n",
      "    accuracy                           0.69     28439\n",
      "   macro avg       0.64      0.70      0.64     28439\n",
      "weighted avg       0.78      0.69      0.72     28439\n",
      "\n",
      "Accuracy (train) for KNN classifier: 74.7% \n",
      "              precision    recall  f1-score   support\n",
      "\n",
      "           0       0.88      0.78      0.83     22048\n",
      "           1       0.45      0.64      0.53      6391\n",
      "\n",
      "    accuracy                           0.75     28439\n",
      "   macro avg       0.67      0.71      0.68     28439\n",
      "weighted avg       0.79      0.75      0.76     28439\n",
      "\n"
     ]
    }
   ],
   "source": [
    "n_classifiers = len(classifiers)\n",
    "\n",
    "for index, (name, classifier) in enumerate(classifiers.items()):\n",
    "    classifier.fit(X_train, np.ravel(y_train))\n",
    "\n",
    "    y_pred = classifier.predict(X_test)\n",
    "    accuracy = accuracy_score(y_test, y_pred)\n",
    "    print(\"Accuracy (train) for %s: %0.1f%% \" % (name, accuracy * 100))\n",
    "    print(classification_report(y_test,y_pred))"
   ]
  },
  {
   "cell_type": "markdown",
   "id": "b41e5546-3ed5-40c4-9e53-0b970a432602",
   "metadata": {},
   "source": [
    "В результате, наилучшие метрики имеет модель логистической регрессии."
   ]
  },
  {
   "cell_type": "markdown",
   "id": "f6cd2df0-16f3-49d5-aab6-11bb8e41dcba",
   "metadata": {},
   "source": [
    "## Собственные метрики"
   ]
  },
  {
   "cell_type": "code",
   "execution_count": null,
   "id": "66d5919a-e049-472d-bb28-96dc11697a5e",
   "metadata": {},
   "outputs": [],
   "source": [
    "n_classifiers = len(classifiers)\n",
    "con_mtx = myBinaryConfusionMatrix(y_test.values, y_pred)\n",
    "print(con_mtx)\n",
    "print()\n",
    "\n",
    "for index, (name, classifier) in enumerate(classifiers.items()):\n",
    "    classifier.fit(X_train, np.ravel(y_train))\n",
    "\n",
    "    y_pred = classifier.predict(X_test)\n",
    "    myClassificationReport(y_test.values, y_pred)\n",
    "    print()"
   ]
  },
  {
   "cell_type": "markdown",
   "id": "8ffd7001-7da1-44b6-9beb-4c97edc15416",
   "metadata": {},
   "source": [
    "# Реализация kNN"
   ]
  },
  {
   "cell_type": "code",
   "execution_count": 225,
   "id": "2fb251ea-cde7-4c9a-b1ed-a2af4e7e25c8",
   "metadata": {},
   "outputs": [],
   "source": [
    "my_X_train = X_train[5000:50000:100]\n",
    "my_y_train = y_train[5000:50000:100]\n",
    "my_X_test = X_test[20000:30000:50]\n",
    "my_y_test = y_test[20000:30000:50]"
   ]
  },
  {
   "cell_type": "code",
   "execution_count": 226,
   "id": "aaef5531-82a4-4681-8ff9-69e76a5b1b91",
   "metadata": {},
   "outputs": [],
   "source": [
    "my_knn = kNN(3)"
   ]
  },
  {
   "cell_type": "code",
   "execution_count": 227,
   "id": "efa391c3-5da7-427b-8219-3293c4c22d32",
   "metadata": {},
   "outputs": [],
   "source": [
    "my_knn.fit(my_X_train, my_y_train)\n",
    "predict = my_knn.predict(my_X_test)"
   ]
  },
  {
   "cell_type": "code",
   "execution_count": 229,
   "id": "dd3484a3-7b94-41fe-8648-5b7a6f5630d1",
   "metadata": {},
   "outputs": [
    {
     "name": "stdout",
     "output_type": "stream",
     "text": [
      "[[83 45]\n",
      " [13 28]]\n"
     ]
    }
   ],
   "source": [
    "show_con_mat(my_y_test, predict)"
   ]
  },
  {
   "cell_type": "code",
   "execution_count": 228,
   "id": "f700a2cd-c72d-4ea5-9d22-ad7cad7bd559",
   "metadata": {
    "scrolled": true
   },
   "outputs": [
    {
     "name": "stdout",
     "output_type": "stream",
     "text": [
      "[0 1 1 0 0 1 1 1 1 1 1 0 1 0 0 1 1 0 0 1 0 0 0 0 0 1 0 0 0 1 1 0 0 0 0 0 0\n",
      " 0 1 1 0 0 1 0 0 1 1 0 0 0 1 0 0 0 1 0 0 1 0 1 0 0 1 0 0 0 0 1 1 0 1 0 1 1\n",
      " 1 0 1 1 1 0 0 1 0 1 1 1 0 1 1 0 1 0 1 1 1 0 0 0 1 1 0 0 1 1 1 1 0 1 1 0 0\n",
      " 1 0 0 0 0 1 1 0 0 1 1 1 0 1 0 1 0 1 1 0 0 1 0 1 0 0 1 0 0 1 0 0 0 1 0 1 0\n",
      " 1 0 0 0 0 0 0 0 0 1 1 0 0 0 1 0 0 0 0 0 1]\n"
     ]
    }
   ],
   "source": [
    "print(predict)"
   ]
  },
  {
   "cell_type": "code",
   "execution_count": 231,
   "id": "965c9cd2-66a5-4d79-9afd-d6347d81ec4f",
   "metadata": {},
   "outputs": [
    {
     "name": "stdout",
     "output_type": "stream",
     "text": [
      "              precision    recall  f1-score   support\n",
      "\n",
      "           0       0.86      0.65      0.74       128\n",
      "           1       0.38      0.68      0.49        41\n",
      "\n",
      "    accuracy                           0.66       169\n",
      "   macro avg       0.62      0.67      0.62       169\n",
      "weighted avg       0.75      0.66      0.68       169\n",
      "\n",
      "f1_score: 0.4912280701754387\n"
     ]
    }
   ],
   "source": [
    "show_metrics(my_y_test, predict)"
   ]
  },
  {
   "cell_type": "markdown",
   "id": "e79d20b0-2b4b-4fc8-9876-3edd52b8bb14",
   "metadata": {},
   "source": [
    "# Задание"
   ]
  },
  {
   "cell_type": "markdown",
   "id": "72ed0309-7b45-44fb-8d6f-0fc0b619d0d5",
   "metadata": {},
   "source": [
    "Какова вероятность отправиться на прогулку если идёт дождь, при наличии следующих наблюдений?"
   ]
  },
  {
   "cell_type": "code",
   "execution_count": 233,
   "id": "47b0f71e-64da-4319-8531-31a7f67dfd50",
   "metadata": {},
   "outputs": [],
   "source": [
    "data = [\n",
    "        ('солнечно', True),\n",
    "        ('снег', False),\n",
    "        ('облачно', False),\n",
    "        ('дождь', False),\n",
    "        ('солнечно', True),\n",
    "        ('снег', False),\n",
    "        ('облачно', True),\n",
    "        ('снег', False),\n",
    "        ('солнечно', False),\n",
    "        ('облачно', True),\n",
    "        ('снег', True),\n",
    "        ('солнечно', True),\n",
    "        ('дождь', False),\n",
    "        ('дождь', True),\n",
    "        ('облачно', True),\n",
    "]"
   ]
  },
  {
   "cell_type": "code",
   "execution_count": 234,
   "id": "b1b985f4-9fd5-44c5-8594-7f695ad7f383",
   "metadata": {},
   "outputs": [
    {
     "data": {
      "text/html": [
       "<div>\n",
       "<style scoped>\n",
       "    .dataframe tbody tr th:only-of-type {\n",
       "        vertical-align: middle;\n",
       "    }\n",
       "\n",
       "    .dataframe tbody tr th {\n",
       "        vertical-align: top;\n",
       "    }\n",
       "\n",
       "    .dataframe thead th {\n",
       "        text-align: right;\n",
       "    }\n",
       "</style>\n",
       "<table border=\"1\" class=\"dataframe\">\n",
       "  <thead>\n",
       "    <tr style=\"text-align: right;\">\n",
       "      <th></th>\n",
       "      <th>weather</th>\n",
       "      <th>iswalking</th>\n",
       "    </tr>\n",
       "  </thead>\n",
       "  <tbody>\n",
       "    <tr>\n",
       "      <th>0</th>\n",
       "      <td>солнечно</td>\n",
       "      <td>True</td>\n",
       "    </tr>\n",
       "    <tr>\n",
       "      <th>1</th>\n",
       "      <td>снег</td>\n",
       "      <td>False</td>\n",
       "    </tr>\n",
       "    <tr>\n",
       "      <th>2</th>\n",
       "      <td>облачно</td>\n",
       "      <td>False</td>\n",
       "    </tr>\n",
       "    <tr>\n",
       "      <th>3</th>\n",
       "      <td>дождь</td>\n",
       "      <td>False</td>\n",
       "    </tr>\n",
       "    <tr>\n",
       "      <th>4</th>\n",
       "      <td>солнечно</td>\n",
       "      <td>True</td>\n",
       "    </tr>\n",
       "    <tr>\n",
       "      <th>5</th>\n",
       "      <td>снег</td>\n",
       "      <td>False</td>\n",
       "    </tr>\n",
       "    <tr>\n",
       "      <th>6</th>\n",
       "      <td>облачно</td>\n",
       "      <td>True</td>\n",
       "    </tr>\n",
       "    <tr>\n",
       "      <th>7</th>\n",
       "      <td>снег</td>\n",
       "      <td>False</td>\n",
       "    </tr>\n",
       "    <tr>\n",
       "      <th>8</th>\n",
       "      <td>солнечно</td>\n",
       "      <td>False</td>\n",
       "    </tr>\n",
       "    <tr>\n",
       "      <th>9</th>\n",
       "      <td>облачно</td>\n",
       "      <td>True</td>\n",
       "    </tr>\n",
       "    <tr>\n",
       "      <th>10</th>\n",
       "      <td>снег</td>\n",
       "      <td>True</td>\n",
       "    </tr>\n",
       "    <tr>\n",
       "      <th>11</th>\n",
       "      <td>солнечно</td>\n",
       "      <td>True</td>\n",
       "    </tr>\n",
       "    <tr>\n",
       "      <th>12</th>\n",
       "      <td>дождь</td>\n",
       "      <td>False</td>\n",
       "    </tr>\n",
       "    <tr>\n",
       "      <th>13</th>\n",
       "      <td>дождь</td>\n",
       "      <td>True</td>\n",
       "    </tr>\n",
       "    <tr>\n",
       "      <th>14</th>\n",
       "      <td>облачно</td>\n",
       "      <td>True</td>\n",
       "    </tr>\n",
       "  </tbody>\n",
       "</table>\n",
       "</div>"
      ],
      "text/plain": [
       "     weather  iswalking\n",
       "0   солнечно       True\n",
       "1       снег      False\n",
       "2    облачно      False\n",
       "3      дождь      False\n",
       "4   солнечно       True\n",
       "5       снег      False\n",
       "6    облачно       True\n",
       "7       снег      False\n",
       "8   солнечно      False\n",
       "9    облачно       True\n",
       "10      снег       True\n",
       "11  солнечно       True\n",
       "12     дождь      False\n",
       "13     дождь       True\n",
       "14   облачно       True"
      ]
     },
     "execution_count": 234,
     "metadata": {},
     "output_type": "execute_result"
    }
   ],
   "source": [
    "data = pd.DataFrame(data, columns=['weather', 'iswalking'])\n",
    "data"
   ]
  },
  {
   "cell_type": "code",
   "execution_count": 235,
   "id": "74d0da4f-d9a5-429c-b43f-569ccce3e408",
   "metadata": {},
   "outputs": [],
   "source": [
    "rain_data = data[data['weather'] == 'дождь']"
   ]
  },
  {
   "cell_type": "code",
   "execution_count": 239,
   "id": "a9627e76-b20e-440c-bf06-94c86f598499",
   "metadata": {},
   "outputs": [],
   "source": [
    "prob = len(rain_data[rain_data['iswalking'] == True])/len(rain_data)"
   ]
  },
  {
   "cell_type": "code",
   "execution_count": 240,
   "id": "25059c5a-5da0-4125-bf5e-4a27621c640b",
   "metadata": {},
   "outputs": [
    {
     "name": "stdout",
     "output_type": "stream",
     "text": [
      "0.3333333333333333\n"
     ]
    }
   ],
   "source": [
    "print(prob)"
   ]
  },
  {
   "cell_type": "code",
   "execution_count": null,
   "id": "9ee23fb6-25d9-49cf-8377-a43d41c5b1f4",
   "metadata": {},
   "outputs": [],
   "source": []
  }
 ],
 "metadata": {
  "kernelspec": {
   "display_name": "Python 3 (ipykernel)",
   "language": "python",
   "name": "python3"
  },
  "language_info": {
   "codemirror_mode": {
    "name": "ipython",
    "version": 3
   },
   "file_extension": ".py",
   "mimetype": "text/x-python",
   "name": "python",
   "nbconvert_exporter": "python",
   "pygments_lexer": "ipython3",
   "version": "3.9.0"
  }
 },
 "nbformat": 4,
 "nbformat_minor": 5
}

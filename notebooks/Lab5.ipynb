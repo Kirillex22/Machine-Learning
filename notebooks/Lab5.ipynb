{
 "cells": [
  {
   "cell_type": "code",
   "execution_count": null,
   "id": "1eb4dc3a-9cfc-487d-8b43-d76907eb4019",
   "metadata": {},
   "outputs": [],
   "source": [
    "import pandas as pd\n",
    "import numpy as np\n",
    "import seaborn as sns\n",
    "import matplotlib\n",
    "import matplotlib.pyplot as plt"
   ]
  },
  {
   "cell_type": "code",
   "execution_count": null,
   "id": "9e4b8efa-2101-4e1c-a8ef-ce730334c3e0",
   "metadata": {},
   "outputs": [],
   "source": [
    "pd.set_option('display.max_columns', 30)"
   ]
  },
  {
   "cell_type": "code",
   "execution_count": null,
   "id": "56c68c6f-b00c-4460-bda4-4f8abb22dee0",
   "metadata": {},
   "outputs": [],
   "source": [
    "data_class = pd.read_csv('../data/weatherAUS.csv')\n",
    "data_class"
   ]
  },
  {
   "cell_type": "code",
   "execution_count": null,
   "id": "80f56fce-38d5-4b97-8248-62e8901a4afb",
   "metadata": {},
   "outputs": [],
   "source": [
    "data_reg = pd.read_csv()\n",
    "data_reg"
   ]
  }
 ],
 "metadata": {
  "kernelspec": {
   "display_name": "Python 3 (ipykernel)",
   "language": "python",
   "name": "python3"
  },
  "language_info": {
   "codemirror_mode": {
    "name": "ipython",
    "version": 3
   },
   "file_extension": ".py",
   "mimetype": "text/x-python",
   "name": "python",
   "nbconvert_exporter": "python",
   "pygments_lexer": "ipython3",
   "version": "3.9.0"
  }
 },
 "nbformat": 4,
 "nbformat_minor": 5
}

{
 "cells": [
  {
   "cell_type": "code",
   "execution_count": 10,
   "id": "9088098b-cb96-4437-be06-289f83e1bcad",
   "metadata": {},
   "outputs": [],
   "source": [
    "import pandas as pd\n",
    "import numpy as np\n",
    "from sklearn.model_selection import train_test_split\n",
    "from imblearn.under_sampling import NearMiss"
   ]
  },
  {
   "cell_type": "markdown",
   "id": "4331a2c6-2787-4f7b-851a-96a051221b05",
   "metadata": {},
   "source": [
    "# Подготовка данных"
   ]
  },
  {
   "cell_type": "code",
   "execution_count": 11,
   "id": "a90f8dcf-cd7f-4ccd-82f6-152ba99bde05",
   "metadata": {},
   "outputs": [
    {
     "data": {
      "text/html": [
       "<div>\n",
       "<style scoped>\n",
       "    .dataframe tbody tr th:only-of-type {\n",
       "        vertical-align: middle;\n",
       "    }\n",
       "\n",
       "    .dataframe tbody tr th {\n",
       "        vertical-align: top;\n",
       "    }\n",
       "\n",
       "    .dataframe thead th {\n",
       "        text-align: right;\n",
       "    }\n",
       "</style>\n",
       "<table border=\"1\" class=\"dataframe\">\n",
       "  <thead>\n",
       "    <tr style=\"text-align: right;\">\n",
       "      <th></th>\n",
       "      <th>Date</th>\n",
       "      <th>MinTemp</th>\n",
       "      <th>MaxTemp</th>\n",
       "      <th>Rainfall</th>\n",
       "      <th>Evaporation</th>\n",
       "      <th>WindGustSpeed</th>\n",
       "      <th>WindSpeed9am</th>\n",
       "      <th>WindSpeed3pm</th>\n",
       "      <th>Humidity9am</th>\n",
       "      <th>Humidity3pm</th>\n",
       "      <th>...</th>\n",
       "      <th>Cloud9am</th>\n",
       "      <th>Cloud3pm</th>\n",
       "      <th>Temp9am</th>\n",
       "      <th>Temp3pm</th>\n",
       "      <th>ord__Location</th>\n",
       "      <th>ord__WindDir9am</th>\n",
       "      <th>ord__WindGustDir</th>\n",
       "      <th>ord__WindDir3pm</th>\n",
       "      <th>ord__RainToday</th>\n",
       "      <th>RainTomorrow</th>\n",
       "    </tr>\n",
       "  </thead>\n",
       "  <tbody>\n",
       "    <tr>\n",
       "      <th>0</th>\n",
       "      <td>12</td>\n",
       "      <td>13.4</td>\n",
       "      <td>22.9</td>\n",
       "      <td>0.6</td>\n",
       "      <td>4.0</td>\n",
       "      <td>44.0</td>\n",
       "      <td>20.0</td>\n",
       "      <td>24.0</td>\n",
       "      <td>71.0</td>\n",
       "      <td>22.0</td>\n",
       "      <td>...</td>\n",
       "      <td>8.0</td>\n",
       "      <td>7.0</td>\n",
       "      <td>16.9</td>\n",
       "      <td>21.8</td>\n",
       "      <td>2.0</td>\n",
       "      <td>13.0</td>\n",
       "      <td>13.0</td>\n",
       "      <td>14.0</td>\n",
       "      <td>0.0</td>\n",
       "      <td>0</td>\n",
       "    </tr>\n",
       "    <tr>\n",
       "      <th>1</th>\n",
       "      <td>12</td>\n",
       "      <td>7.4</td>\n",
       "      <td>25.1</td>\n",
       "      <td>0.0</td>\n",
       "      <td>4.0</td>\n",
       "      <td>44.0</td>\n",
       "      <td>4.0</td>\n",
       "      <td>22.0</td>\n",
       "      <td>44.0</td>\n",
       "      <td>25.0</td>\n",
       "      <td>...</td>\n",
       "      <td>7.0</td>\n",
       "      <td>7.0</td>\n",
       "      <td>17.2</td>\n",
       "      <td>24.3</td>\n",
       "      <td>2.0</td>\n",
       "      <td>6.0</td>\n",
       "      <td>14.0</td>\n",
       "      <td>15.0</td>\n",
       "      <td>0.0</td>\n",
       "      <td>0</td>\n",
       "    </tr>\n",
       "    <tr>\n",
       "      <th>2</th>\n",
       "      <td>12</td>\n",
       "      <td>12.9</td>\n",
       "      <td>25.7</td>\n",
       "      <td>0.0</td>\n",
       "      <td>4.0</td>\n",
       "      <td>46.0</td>\n",
       "      <td>19.0</td>\n",
       "      <td>26.0</td>\n",
       "      <td>38.0</td>\n",
       "      <td>30.0</td>\n",
       "      <td>...</td>\n",
       "      <td>7.0</td>\n",
       "      <td>2.0</td>\n",
       "      <td>21.0</td>\n",
       "      <td>23.2</td>\n",
       "      <td>2.0</td>\n",
       "      <td>13.0</td>\n",
       "      <td>15.0</td>\n",
       "      <td>15.0</td>\n",
       "      <td>0.0</td>\n",
       "      <td>0</td>\n",
       "    </tr>\n",
       "    <tr>\n",
       "      <th>3</th>\n",
       "      <td>12</td>\n",
       "      <td>9.2</td>\n",
       "      <td>28.0</td>\n",
       "      <td>0.0</td>\n",
       "      <td>4.0</td>\n",
       "      <td>24.0</td>\n",
       "      <td>11.0</td>\n",
       "      <td>9.0</td>\n",
       "      <td>45.0</td>\n",
       "      <td>16.0</td>\n",
       "      <td>...</td>\n",
       "      <td>7.0</td>\n",
       "      <td>7.0</td>\n",
       "      <td>18.1</td>\n",
       "      <td>26.5</td>\n",
       "      <td>2.0</td>\n",
       "      <td>9.0</td>\n",
       "      <td>4.0</td>\n",
       "      <td>0.0</td>\n",
       "      <td>0.0</td>\n",
       "      <td>0</td>\n",
       "    </tr>\n",
       "    <tr>\n",
       "      <th>4</th>\n",
       "      <td>12</td>\n",
       "      <td>17.5</td>\n",
       "      <td>32.3</td>\n",
       "      <td>1.0</td>\n",
       "      <td>4.0</td>\n",
       "      <td>41.0</td>\n",
       "      <td>7.0</td>\n",
       "      <td>20.0</td>\n",
       "      <td>82.0</td>\n",
       "      <td>33.0</td>\n",
       "      <td>...</td>\n",
       "      <td>7.0</td>\n",
       "      <td>8.0</td>\n",
       "      <td>17.8</td>\n",
       "      <td>29.7</td>\n",
       "      <td>2.0</td>\n",
       "      <td>1.0</td>\n",
       "      <td>13.0</td>\n",
       "      <td>7.0</td>\n",
       "      <td>0.0</td>\n",
       "      <td>0</td>\n",
       "    </tr>\n",
       "    <tr>\n",
       "      <th>...</th>\n",
       "      <td>...</td>\n",
       "      <td>...</td>\n",
       "      <td>...</td>\n",
       "      <td>...</td>\n",
       "      <td>...</td>\n",
       "      <td>...</td>\n",
       "      <td>...</td>\n",
       "      <td>...</td>\n",
       "      <td>...</td>\n",
       "      <td>...</td>\n",
       "      <td>...</td>\n",
       "      <td>...</td>\n",
       "      <td>...</td>\n",
       "      <td>...</td>\n",
       "      <td>...</td>\n",
       "      <td>...</td>\n",
       "      <td>...</td>\n",
       "      <td>...</td>\n",
       "      <td>...</td>\n",
       "      <td>...</td>\n",
       "      <td>...</td>\n",
       "    </tr>\n",
       "    <tr>\n",
       "      <th>142188</th>\n",
       "      <td>6</td>\n",
       "      <td>3.5</td>\n",
       "      <td>21.8</td>\n",
       "      <td>0.0</td>\n",
       "      <td>4.0</td>\n",
       "      <td>31.0</td>\n",
       "      <td>15.0</td>\n",
       "      <td>13.0</td>\n",
       "      <td>59.0</td>\n",
       "      <td>27.0</td>\n",
       "      <td>...</td>\n",
       "      <td>7.0</td>\n",
       "      <td>7.0</td>\n",
       "      <td>9.4</td>\n",
       "      <td>20.9</td>\n",
       "      <td>41.0</td>\n",
       "      <td>2.0</td>\n",
       "      <td>0.0</td>\n",
       "      <td>0.0</td>\n",
       "      <td>0.0</td>\n",
       "      <td>0</td>\n",
       "    </tr>\n",
       "    <tr>\n",
       "      <th>142189</th>\n",
       "      <td>6</td>\n",
       "      <td>2.8</td>\n",
       "      <td>23.4</td>\n",
       "      <td>0.0</td>\n",
       "      <td>4.0</td>\n",
       "      <td>31.0</td>\n",
       "      <td>13.0</td>\n",
       "      <td>11.0</td>\n",
       "      <td>51.0</td>\n",
       "      <td>24.0</td>\n",
       "      <td>...</td>\n",
       "      <td>7.0</td>\n",
       "      <td>7.0</td>\n",
       "      <td>10.1</td>\n",
       "      <td>22.4</td>\n",
       "      <td>41.0</td>\n",
       "      <td>9.0</td>\n",
       "      <td>0.0</td>\n",
       "      <td>1.0</td>\n",
       "      <td>0.0</td>\n",
       "      <td>0</td>\n",
       "    </tr>\n",
       "    <tr>\n",
       "      <th>142190</th>\n",
       "      <td>6</td>\n",
       "      <td>3.6</td>\n",
       "      <td>25.3</td>\n",
       "      <td>0.0</td>\n",
       "      <td>4.0</td>\n",
       "      <td>22.0</td>\n",
       "      <td>13.0</td>\n",
       "      <td>9.0</td>\n",
       "      <td>56.0</td>\n",
       "      <td>21.0</td>\n",
       "      <td>...</td>\n",
       "      <td>7.0</td>\n",
       "      <td>7.0</td>\n",
       "      <td>10.9</td>\n",
       "      <td>24.5</td>\n",
       "      <td>41.0</td>\n",
       "      <td>9.0</td>\n",
       "      <td>6.0</td>\n",
       "      <td>3.0</td>\n",
       "      <td>0.0</td>\n",
       "      <td>0</td>\n",
       "    </tr>\n",
       "    <tr>\n",
       "      <th>142191</th>\n",
       "      <td>6</td>\n",
       "      <td>5.4</td>\n",
       "      <td>26.9</td>\n",
       "      <td>0.0</td>\n",
       "      <td>4.0</td>\n",
       "      <td>37.0</td>\n",
       "      <td>9.0</td>\n",
       "      <td>9.0</td>\n",
       "      <td>53.0</td>\n",
       "      <td>24.0</td>\n",
       "      <td>...</td>\n",
       "      <td>7.0</td>\n",
       "      <td>7.0</td>\n",
       "      <td>12.5</td>\n",
       "      <td>26.1</td>\n",
       "      <td>41.0</td>\n",
       "      <td>9.0</td>\n",
       "      <td>3.0</td>\n",
       "      <td>14.0</td>\n",
       "      <td>0.0</td>\n",
       "      <td>0</td>\n",
       "    </tr>\n",
       "    <tr>\n",
       "      <th>142192</th>\n",
       "      <td>6</td>\n",
       "      <td>7.8</td>\n",
       "      <td>27.0</td>\n",
       "      <td>0.0</td>\n",
       "      <td>4.0</td>\n",
       "      <td>28.0</td>\n",
       "      <td>13.0</td>\n",
       "      <td>7.0</td>\n",
       "      <td>51.0</td>\n",
       "      <td>24.0</td>\n",
       "      <td>...</td>\n",
       "      <td>3.0</td>\n",
       "      <td>2.0</td>\n",
       "      <td>15.1</td>\n",
       "      <td>26.0</td>\n",
       "      <td>41.0</td>\n",
       "      <td>10.0</td>\n",
       "      <td>9.0</td>\n",
       "      <td>3.0</td>\n",
       "      <td>0.0</td>\n",
       "      <td>0</td>\n",
       "    </tr>\n",
       "  </tbody>\n",
       "</table>\n",
       "<p>142193 rows × 22 columns</p>\n",
       "</div>"
      ],
      "text/plain": [
       "        Date  MinTemp  MaxTemp  Rainfall  Evaporation  WindGustSpeed  \\\n",
       "0         12     13.4     22.9       0.6          4.0           44.0   \n",
       "1         12      7.4     25.1       0.0          4.0           44.0   \n",
       "2         12     12.9     25.7       0.0          4.0           46.0   \n",
       "3         12      9.2     28.0       0.0          4.0           24.0   \n",
       "4         12     17.5     32.3       1.0          4.0           41.0   \n",
       "...      ...      ...      ...       ...          ...            ...   \n",
       "142188     6      3.5     21.8       0.0          4.0           31.0   \n",
       "142189     6      2.8     23.4       0.0          4.0           31.0   \n",
       "142190     6      3.6     25.3       0.0          4.0           22.0   \n",
       "142191     6      5.4     26.9       0.0          4.0           37.0   \n",
       "142192     6      7.8     27.0       0.0          4.0           28.0   \n",
       "\n",
       "        WindSpeed9am  WindSpeed3pm  Humidity9am  Humidity3pm  ...  Cloud9am  \\\n",
       "0               20.0          24.0         71.0         22.0  ...       8.0   \n",
       "1                4.0          22.0         44.0         25.0  ...       7.0   \n",
       "2               19.0          26.0         38.0         30.0  ...       7.0   \n",
       "3               11.0           9.0         45.0         16.0  ...       7.0   \n",
       "4                7.0          20.0         82.0         33.0  ...       7.0   \n",
       "...              ...           ...          ...          ...  ...       ...   \n",
       "142188          15.0          13.0         59.0         27.0  ...       7.0   \n",
       "142189          13.0          11.0         51.0         24.0  ...       7.0   \n",
       "142190          13.0           9.0         56.0         21.0  ...       7.0   \n",
       "142191           9.0           9.0         53.0         24.0  ...       7.0   \n",
       "142192          13.0           7.0         51.0         24.0  ...       3.0   \n",
       "\n",
       "        Cloud3pm  Temp9am  Temp3pm  ord__Location  ord__WindDir9am  \\\n",
       "0            7.0     16.9     21.8            2.0             13.0   \n",
       "1            7.0     17.2     24.3            2.0              6.0   \n",
       "2            2.0     21.0     23.2            2.0             13.0   \n",
       "3            7.0     18.1     26.5            2.0              9.0   \n",
       "4            8.0     17.8     29.7            2.0              1.0   \n",
       "...          ...      ...      ...            ...              ...   \n",
       "142188       7.0      9.4     20.9           41.0              2.0   \n",
       "142189       7.0     10.1     22.4           41.0              9.0   \n",
       "142190       7.0     10.9     24.5           41.0              9.0   \n",
       "142191       7.0     12.5     26.1           41.0              9.0   \n",
       "142192       2.0     15.1     26.0           41.0             10.0   \n",
       "\n",
       "        ord__WindGustDir  ord__WindDir3pm  ord__RainToday  RainTomorrow  \n",
       "0                   13.0             14.0             0.0             0  \n",
       "1                   14.0             15.0             0.0             0  \n",
       "2                   15.0             15.0             0.0             0  \n",
       "3                    4.0              0.0             0.0             0  \n",
       "4                   13.0              7.0             0.0             0  \n",
       "...                  ...              ...             ...           ...  \n",
       "142188               0.0              0.0             0.0             0  \n",
       "142189               0.0              1.0             0.0             0  \n",
       "142190               6.0              3.0             0.0             0  \n",
       "142191               3.0             14.0             0.0             0  \n",
       "142192               9.0              3.0             0.0             0  \n",
       "\n",
       "[142193 rows x 22 columns]"
      ]
     },
     "execution_count": 11,
     "metadata": {},
     "output_type": "execute_result"
    }
   ],
   "source": [
    "data_class = pd.read_csv('../data/rainAUS_prepared.csv')\n",
    "data_class"
   ]
  },
  {
   "cell_type": "code",
   "execution_count": 12,
   "id": "31d9ed04-c7dc-4858-93f2-6db582edf991",
   "metadata": {},
   "outputs": [
    {
     "data": {
      "text/html": [
       "<div>\n",
       "<style scoped>\n",
       "    .dataframe tbody tr th:only-of-type {\n",
       "        vertical-align: middle;\n",
       "    }\n",
       "\n",
       "    .dataframe tbody tr th {\n",
       "        vertical-align: top;\n",
       "    }\n",
       "\n",
       "    .dataframe thead th {\n",
       "        text-align: right;\n",
       "    }\n",
       "</style>\n",
       "<table border=\"1\" class=\"dataframe\">\n",
       "  <thead>\n",
       "    <tr style=\"text-align: right;\">\n",
       "      <th></th>\n",
       "      <th>fixed acidity</th>\n",
       "      <th>volatile acidity</th>\n",
       "      <th>citric acid</th>\n",
       "      <th>residual sugar</th>\n",
       "      <th>chlorides</th>\n",
       "      <th>free sulfur dioxide</th>\n",
       "      <th>total sulfur dioxide</th>\n",
       "      <th>density</th>\n",
       "      <th>pH</th>\n",
       "      <th>sulphates</th>\n",
       "      <th>alcohol</th>\n",
       "      <th>quality</th>\n",
       "      <th>color</th>\n",
       "    </tr>\n",
       "  </thead>\n",
       "  <tbody>\n",
       "    <tr>\n",
       "      <th>0</th>\n",
       "      <td>7.0</td>\n",
       "      <td>0.270</td>\n",
       "      <td>0.36</td>\n",
       "      <td>20.7</td>\n",
       "      <td>0.045</td>\n",
       "      <td>45.0</td>\n",
       "      <td>170.0</td>\n",
       "      <td>1.00100</td>\n",
       "      <td>3.00</td>\n",
       "      <td>0.45</td>\n",
       "      <td>8.8</td>\n",
       "      <td>6</td>\n",
       "      <td>0</td>\n",
       "    </tr>\n",
       "    <tr>\n",
       "      <th>1</th>\n",
       "      <td>6.3</td>\n",
       "      <td>0.300</td>\n",
       "      <td>0.34</td>\n",
       "      <td>1.6</td>\n",
       "      <td>0.049</td>\n",
       "      <td>14.0</td>\n",
       "      <td>132.0</td>\n",
       "      <td>0.99400</td>\n",
       "      <td>3.30</td>\n",
       "      <td>0.49</td>\n",
       "      <td>9.5</td>\n",
       "      <td>6</td>\n",
       "      <td>0</td>\n",
       "    </tr>\n",
       "    <tr>\n",
       "      <th>2</th>\n",
       "      <td>8.1</td>\n",
       "      <td>0.280</td>\n",
       "      <td>0.40</td>\n",
       "      <td>6.9</td>\n",
       "      <td>0.050</td>\n",
       "      <td>30.0</td>\n",
       "      <td>97.0</td>\n",
       "      <td>0.99510</td>\n",
       "      <td>3.26</td>\n",
       "      <td>0.44</td>\n",
       "      <td>10.1</td>\n",
       "      <td>6</td>\n",
       "      <td>0</td>\n",
       "    </tr>\n",
       "    <tr>\n",
       "      <th>3</th>\n",
       "      <td>7.2</td>\n",
       "      <td>0.230</td>\n",
       "      <td>0.32</td>\n",
       "      <td>8.5</td>\n",
       "      <td>0.058</td>\n",
       "      <td>47.0</td>\n",
       "      <td>186.0</td>\n",
       "      <td>0.99560</td>\n",
       "      <td>3.19</td>\n",
       "      <td>0.40</td>\n",
       "      <td>9.9</td>\n",
       "      <td>6</td>\n",
       "      <td>0</td>\n",
       "    </tr>\n",
       "    <tr>\n",
       "      <th>4</th>\n",
       "      <td>7.2</td>\n",
       "      <td>0.230</td>\n",
       "      <td>0.32</td>\n",
       "      <td>8.5</td>\n",
       "      <td>0.058</td>\n",
       "      <td>47.0</td>\n",
       "      <td>186.0</td>\n",
       "      <td>0.99560</td>\n",
       "      <td>3.19</td>\n",
       "      <td>0.40</td>\n",
       "      <td>9.9</td>\n",
       "      <td>6</td>\n",
       "      <td>0</td>\n",
       "    </tr>\n",
       "    <tr>\n",
       "      <th>...</th>\n",
       "      <td>...</td>\n",
       "      <td>...</td>\n",
       "      <td>...</td>\n",
       "      <td>...</td>\n",
       "      <td>...</td>\n",
       "      <td>...</td>\n",
       "      <td>...</td>\n",
       "      <td>...</td>\n",
       "      <td>...</td>\n",
       "      <td>...</td>\n",
       "      <td>...</td>\n",
       "      <td>...</td>\n",
       "      <td>...</td>\n",
       "    </tr>\n",
       "    <tr>\n",
       "      <th>1594</th>\n",
       "      <td>6.2</td>\n",
       "      <td>0.600</td>\n",
       "      <td>0.08</td>\n",
       "      <td>2.0</td>\n",
       "      <td>0.090</td>\n",
       "      <td>32.0</td>\n",
       "      <td>44.0</td>\n",
       "      <td>0.99490</td>\n",
       "      <td>3.45</td>\n",
       "      <td>0.58</td>\n",
       "      <td>10.5</td>\n",
       "      <td>5</td>\n",
       "      <td>1</td>\n",
       "    </tr>\n",
       "    <tr>\n",
       "      <th>1595</th>\n",
       "      <td>5.9</td>\n",
       "      <td>0.550</td>\n",
       "      <td>0.10</td>\n",
       "      <td>2.2</td>\n",
       "      <td>0.062</td>\n",
       "      <td>39.0</td>\n",
       "      <td>51.0</td>\n",
       "      <td>0.99512</td>\n",
       "      <td>3.52</td>\n",
       "      <td>0.76</td>\n",
       "      <td>11.2</td>\n",
       "      <td>6</td>\n",
       "      <td>1</td>\n",
       "    </tr>\n",
       "    <tr>\n",
       "      <th>1596</th>\n",
       "      <td>6.3</td>\n",
       "      <td>0.510</td>\n",
       "      <td>0.13</td>\n",
       "      <td>2.3</td>\n",
       "      <td>0.076</td>\n",
       "      <td>29.0</td>\n",
       "      <td>40.0</td>\n",
       "      <td>0.99574</td>\n",
       "      <td>3.42</td>\n",
       "      <td>0.75</td>\n",
       "      <td>11.0</td>\n",
       "      <td>6</td>\n",
       "      <td>1</td>\n",
       "    </tr>\n",
       "    <tr>\n",
       "      <th>1597</th>\n",
       "      <td>5.9</td>\n",
       "      <td>0.645</td>\n",
       "      <td>0.12</td>\n",
       "      <td>2.0</td>\n",
       "      <td>0.075</td>\n",
       "      <td>32.0</td>\n",
       "      <td>44.0</td>\n",
       "      <td>0.99547</td>\n",
       "      <td>3.57</td>\n",
       "      <td>0.71</td>\n",
       "      <td>10.2</td>\n",
       "      <td>5</td>\n",
       "      <td>1</td>\n",
       "    </tr>\n",
       "    <tr>\n",
       "      <th>1598</th>\n",
       "      <td>6.0</td>\n",
       "      <td>0.310</td>\n",
       "      <td>0.47</td>\n",
       "      <td>3.6</td>\n",
       "      <td>0.067</td>\n",
       "      <td>18.0</td>\n",
       "      <td>42.0</td>\n",
       "      <td>0.99549</td>\n",
       "      <td>3.39</td>\n",
       "      <td>0.66</td>\n",
       "      <td>11.0</td>\n",
       "      <td>6</td>\n",
       "      <td>1</td>\n",
       "    </tr>\n",
       "  </tbody>\n",
       "</table>\n",
       "<p>6497 rows × 13 columns</p>\n",
       "</div>"
      ],
      "text/plain": [
       "      fixed acidity  volatile acidity  citric acid  residual sugar  chlorides  \\\n",
       "0               7.0             0.270         0.36            20.7      0.045   \n",
       "1               6.3             0.300         0.34             1.6      0.049   \n",
       "2               8.1             0.280         0.40             6.9      0.050   \n",
       "3               7.2             0.230         0.32             8.5      0.058   \n",
       "4               7.2             0.230         0.32             8.5      0.058   \n",
       "...             ...               ...          ...             ...        ...   \n",
       "1594            6.2             0.600         0.08             2.0      0.090   \n",
       "1595            5.9             0.550         0.10             2.2      0.062   \n",
       "1596            6.3             0.510         0.13             2.3      0.076   \n",
       "1597            5.9             0.645         0.12             2.0      0.075   \n",
       "1598            6.0             0.310         0.47             3.6      0.067   \n",
       "\n",
       "      free sulfur dioxide  total sulfur dioxide  density    pH  sulphates  \\\n",
       "0                    45.0                 170.0  1.00100  3.00       0.45   \n",
       "1                    14.0                 132.0  0.99400  3.30       0.49   \n",
       "2                    30.0                  97.0  0.99510  3.26       0.44   \n",
       "3                    47.0                 186.0  0.99560  3.19       0.40   \n",
       "4                    47.0                 186.0  0.99560  3.19       0.40   \n",
       "...                   ...                   ...      ...   ...        ...   \n",
       "1594                 32.0                  44.0  0.99490  3.45       0.58   \n",
       "1595                 39.0                  51.0  0.99512  3.52       0.76   \n",
       "1596                 29.0                  40.0  0.99574  3.42       0.75   \n",
       "1597                 32.0                  44.0  0.99547  3.57       0.71   \n",
       "1598                 18.0                  42.0  0.99549  3.39       0.66   \n",
       "\n",
       "      alcohol  quality  color  \n",
       "0         8.8        6      0  \n",
       "1         9.5        6      0  \n",
       "2        10.1        6      0  \n",
       "3         9.9        6      0  \n",
       "4         9.9        6      0  \n",
       "...       ...      ...    ...  \n",
       "1594     10.5        5      1  \n",
       "1595     11.2        6      1  \n",
       "1596     11.0        6      1  \n",
       "1597     10.2        5      1  \n",
       "1598     11.0        6      1  \n",
       "\n",
       "[6497 rows x 13 columns]"
      ]
     },
     "execution_count": 12,
     "metadata": {},
     "output_type": "execute_result"
    }
   ],
   "source": [
    "data_reg_white = pd.read_csv('../data/winequality-white.csv', sep = ';')\n",
    "data_reg_red = pd.read_csv('../data/winequality-red.csv', sep = ';')\n",
    "data_reg_white['color'] = 0\n",
    "data_reg_red['color'] = 1\n",
    "data_reg = pd.concat([data_reg_white, data_reg_red], axis = 0)\n",
    "data_reg.reset_index()\n",
    "data_reg"
   ]
  },
  {
   "cell_type": "code",
   "execution_count": 13,
   "id": "e2b68ee1-1b93-4baa-a71a-373e73ce6228",
   "metadata": {},
   "outputs": [],
   "source": [
    "y_cl = data_class['RainTomorrow'].to_numpy()\n",
    "X_cl = data_class.drop(['RainTomorrow'], axis=1).to_numpy()"
   ]
  },
  {
   "cell_type": "code",
   "execution_count": null,
   "id": "088fc520-dad7-4f20-8a4e-1d5ad35ea971",
   "metadata": {},
   "outputs": [],
   "source": [
    "nm = NearMiss()\n",
    "X_cl, y_cl = nm.fit_resample(X_cl, y_cl.ravel())"
   ]
  },
  {
   "cell_type": "code",
   "execution_count": null,
   "id": "74180958-3948-4927-9c25-bb67dbe38075",
   "metadata": {},
   "outputs": [],
   "source": [
    "y_reg = data_reg['quality'].to_numpy()\n",
    "X_reg = data_reg.drop(['quality'], axis=1).to_numpy()"
   ]
  },
  {
   "cell_type": "markdown",
   "id": "0bc369a0-d1e4-49f5-9046-379f2d51e1a6",
   "metadata": {},
   "source": [
    "# Масштабирование"
   ]
  },
  {
   "cell_type": "code",
   "execution_count": null,
   "id": "7fd79a7e-b072-41ba-9614-df7806215cb0",
   "metadata": {},
   "outputs": [],
   "source": [
    "from sklearn.preprocessing import StandardScaler"
   ]
  },
  {
   "cell_type": "code",
   "execution_count": null,
   "id": "f9f496aa-f294-40bb-a062-4820702f67e9",
   "metadata": {},
   "outputs": [],
   "source": [
    "sc = StandardScaler()\n",
    "X_cl = sc.fit_transform(X_cl)"
   ]
  },
  {
   "cell_type": "code",
   "execution_count": null,
   "id": "95813c81-fda1-479d-92e1-485b0ad1fada",
   "metadata": {},
   "outputs": [],
   "source": [
    "sc_reg = StandardScaler()\n",
    "X_reg = sc_reg.fit_transform(X_reg)\n",
    "import pickle\n",
    "with open('../data/standart_scaler.pickle', 'wb') as f:\n",
    "    pickle.dump(sc_reg, f)"
   ]
  },
  {
   "cell_type": "markdown",
   "id": "65b57990-d7bb-4a40-b86b-7a4b46f83119",
   "metadata": {},
   "source": [
    "# Понижение размерности"
   ]
  },
  {
   "cell_type": "code",
   "execution_count": 49,
   "id": "4cb00eea-1283-4fb7-9d3a-bdf732ce9088",
   "metadata": {},
   "outputs": [],
   "source": [
    "from sklearn.metrics import f1_score, classification_report"
   ]
  },
  {
   "cell_type": "code",
   "execution_count": 50,
   "id": "64a8f740-f5d9-4237-a6e6-c0eab1ed7ad6",
   "metadata": {},
   "outputs": [],
   "source": [
    "class_stats = lambda y, y_pred: [\n",
    "    print(classification_report(y, y_pred)),\n",
    "    print(f'f1 : {f1_score(y, y_pred)}') \n",
    "]"
   ]
  },
  {
   "cell_type": "code",
   "execution_count": 51,
   "id": "40540d17-ff39-47bb-9063-b3582eee0ff2",
   "metadata": {},
   "outputs": [],
   "source": [
    "from sklearn.metrics import mean_squared_error, mean_absolute_percentage_error"
   ]
  },
  {
   "cell_type": "code",
   "execution_count": 52,
   "id": "66b127ea-d124-4d9d-a36c-8e0cca91e12c",
   "metadata": {},
   "outputs": [],
   "source": [
    "reg_stats = lambda y, y_pred: [\n",
    "    print(f'mape : {mean_absolute_percentage_error(y, y_pred)}'), \n",
    "    print(f'mse: {mean_squared_error(y, y_pred)}')\n",
    "]"
   ]
  },
  {
   "cell_type": "code",
   "execution_count": 53,
   "id": "1791d968-fe96-45e0-83a1-16d2b2ee9d66",
   "metadata": {},
   "outputs": [],
   "source": [
    "make_input = lambda X, y: train_test_split(X, y, test_size=0.2, stratify = y)"
   ]
  },
  {
   "cell_type": "markdown",
   "id": "178ffe1a-8eb7-45f3-8e98-cb26b5881a3a",
   "metadata": {},
   "source": [
    "## VarianceThreshold"
   ]
  },
  {
   "cell_type": "code",
   "execution_count": 54,
   "id": "80aff621-9200-4b7c-af8e-df0f2c91793b",
   "metadata": {},
   "outputs": [],
   "source": [
    "from sklearn.feature_selection import VarianceThreshold\n",
    "from sklearn.linear_model import Ridge\n",
    "from sklearn.linear_model import LogisticRegression"
   ]
  },
  {
   "cell_type": "markdown",
   "id": "5c2180d9-f965-4415-b514-1200539b29b2",
   "metadata": {},
   "source": [
    "### Классификация"
   ]
  },
  {
   "cell_type": "code",
   "execution_count": 55,
   "id": "ebae18b1-58e7-442f-b836-256d1940cf3b",
   "metadata": {},
   "outputs": [],
   "source": [
    "vt = VarianceThreshold(1)\n",
    "X_cl_vt = vt.fit_transform(X_cl)"
   ]
  },
  {
   "cell_type": "code",
   "execution_count": 56,
   "id": "5824801d-5423-44a7-9f65-7b02de012fbc",
   "metadata": {},
   "outputs": [
    {
     "data": {
      "text/html": [
       "<div>\n",
       "<style scoped>\n",
       "    .dataframe tbody tr th:only-of-type {\n",
       "        vertical-align: middle;\n",
       "    }\n",
       "\n",
       "    .dataframe tbody tr th {\n",
       "        vertical-align: top;\n",
       "    }\n",
       "\n",
       "    .dataframe thead th {\n",
       "        text-align: right;\n",
       "    }\n",
       "</style>\n",
       "<table border=\"1\" class=\"dataframe\">\n",
       "  <thead>\n",
       "    <tr style=\"text-align: right;\">\n",
       "      <th></th>\n",
       "      <th>x0</th>\n",
       "      <th>x1</th>\n",
       "      <th>x2</th>\n",
       "      <th>x3</th>\n",
       "      <th>x4</th>\n",
       "      <th>x5</th>\n",
       "      <th>x7</th>\n",
       "      <th>x11</th>\n",
       "      <th>x12</th>\n",
       "      <th>x13</th>\n",
       "      <th>x14</th>\n",
       "      <th>x15</th>\n",
       "      <th>x16</th>\n",
       "      <th>x17</th>\n",
       "      <th>x18</th>\n",
       "      <th>x19</th>\n",
       "      <th>x20</th>\n",
       "    </tr>\n",
       "  </thead>\n",
       "  <tbody>\n",
       "    <tr>\n",
       "      <th>0</th>\n",
       "      <td>-0.742361</td>\n",
       "      <td>-0.526754</td>\n",
       "      <td>-0.253135</td>\n",
       "      <td>-0.32679</td>\n",
       "      <td>-0.116067</td>\n",
       "      <td>-0.380075</td>\n",
       "      <td>-0.672606</td>\n",
       "      <td>0.153375</td>\n",
       "      <td>0.432871</td>\n",
       "      <td>0.416924</td>\n",
       "      <td>0.022106</td>\n",
       "      <td>0.003994</td>\n",
       "      <td>0.02271</td>\n",
       "      <td>-0.974882</td>\n",
       "      <td>1.053529</td>\n",
       "      <td>0.313362</td>\n",
       "      <td>-0.687496</td>\n",
       "    </tr>\n",
       "    <tr>\n",
       "      <th>1</th>\n",
       "      <td>-0.742361</td>\n",
       "      <td>-0.526754</td>\n",
       "      <td>-0.253135</td>\n",
       "      <td>-0.32679</td>\n",
       "      <td>-0.116067</td>\n",
       "      <td>-0.380075</td>\n",
       "      <td>-0.672606</td>\n",
       "      <td>0.153375</td>\n",
       "      <td>0.432871</td>\n",
       "      <td>0.416924</td>\n",
       "      <td>0.022106</td>\n",
       "      <td>0.003994</td>\n",
       "      <td>0.02271</td>\n",
       "      <td>-0.974882</td>\n",
       "      <td>1.053529</td>\n",
       "      <td>0.313362</td>\n",
       "      <td>-0.687496</td>\n",
       "    </tr>\n",
       "    <tr>\n",
       "      <th>2</th>\n",
       "      <td>-1.048982</td>\n",
       "      <td>-0.526754</td>\n",
       "      <td>-0.253135</td>\n",
       "      <td>-0.32679</td>\n",
       "      <td>-0.116067</td>\n",
       "      <td>-0.380075</td>\n",
       "      <td>-0.672606</td>\n",
       "      <td>0.153375</td>\n",
       "      <td>0.432871</td>\n",
       "      <td>0.416924</td>\n",
       "      <td>0.022106</td>\n",
       "      <td>0.003994</td>\n",
       "      <td>0.02271</td>\n",
       "      <td>-0.974882</td>\n",
       "      <td>1.053529</td>\n",
       "      <td>0.313362</td>\n",
       "      <td>-0.687496</td>\n",
       "    </tr>\n",
       "    <tr>\n",
       "      <th>3</th>\n",
       "      <td>-1.048982</td>\n",
       "      <td>-0.526754</td>\n",
       "      <td>-0.253135</td>\n",
       "      <td>-0.32679</td>\n",
       "      <td>-0.116067</td>\n",
       "      <td>-0.380075</td>\n",
       "      <td>-0.672606</td>\n",
       "      <td>0.153375</td>\n",
       "      <td>0.432871</td>\n",
       "      <td>0.416924</td>\n",
       "      <td>0.022106</td>\n",
       "      <td>0.003994</td>\n",
       "      <td>0.02271</td>\n",
       "      <td>-0.974882</td>\n",
       "      <td>1.053529</td>\n",
       "      <td>0.313362</td>\n",
       "      <td>-0.687496</td>\n",
       "    </tr>\n",
       "    <tr>\n",
       "      <th>4</th>\n",
       "      <td>-1.048982</td>\n",
       "      <td>-0.526754</td>\n",
       "      <td>-0.253135</td>\n",
       "      <td>-0.32679</td>\n",
       "      <td>-0.116067</td>\n",
       "      <td>-0.380075</td>\n",
       "      <td>-0.672606</td>\n",
       "      <td>0.153375</td>\n",
       "      <td>0.432871</td>\n",
       "      <td>0.416924</td>\n",
       "      <td>0.022106</td>\n",
       "      <td>0.003994</td>\n",
       "      <td>0.02271</td>\n",
       "      <td>-0.974882</td>\n",
       "      <td>1.053529</td>\n",
       "      <td>0.313362</td>\n",
       "      <td>-0.687496</td>\n",
       "    </tr>\n",
       "  </tbody>\n",
       "</table>\n",
       "</div>"
      ],
      "text/plain": [
       "         x0        x1        x2       x3        x4        x5        x7  \\\n",
       "0 -0.742361 -0.526754 -0.253135 -0.32679 -0.116067 -0.380075 -0.672606   \n",
       "1 -0.742361 -0.526754 -0.253135 -0.32679 -0.116067 -0.380075 -0.672606   \n",
       "2 -1.048982 -0.526754 -0.253135 -0.32679 -0.116067 -0.380075 -0.672606   \n",
       "3 -1.048982 -0.526754 -0.253135 -0.32679 -0.116067 -0.380075 -0.672606   \n",
       "4 -1.048982 -0.526754 -0.253135 -0.32679 -0.116067 -0.380075 -0.672606   \n",
       "\n",
       "        x11       x12       x13       x14       x15      x16       x17  \\\n",
       "0  0.153375  0.432871  0.416924  0.022106  0.003994  0.02271 -0.974882   \n",
       "1  0.153375  0.432871  0.416924  0.022106  0.003994  0.02271 -0.974882   \n",
       "2  0.153375  0.432871  0.416924  0.022106  0.003994  0.02271 -0.974882   \n",
       "3  0.153375  0.432871  0.416924  0.022106  0.003994  0.02271 -0.974882   \n",
       "4  0.153375  0.432871  0.416924  0.022106  0.003994  0.02271 -0.974882   \n",
       "\n",
       "        x18       x19       x20  \n",
       "0  1.053529  0.313362 -0.687496  \n",
       "1  1.053529  0.313362 -0.687496  \n",
       "2  1.053529  0.313362 -0.687496  \n",
       "3  1.053529  0.313362 -0.687496  \n",
       "4  1.053529  0.313362 -0.687496  "
      ]
     },
     "execution_count": 56,
     "metadata": {},
     "output_type": "execute_result"
    }
   ],
   "source": [
    "X_cl_vt = pd.DataFrame(X_cl_vt, columns=vt.get_feature_names_out())\n",
    "X_cl_vt.head()"
   ]
  },
  {
   "cell_type": "code",
   "execution_count": 57,
   "id": "bffae990-de76-4207-9a01-5f46c6c7f268",
   "metadata": {},
   "outputs": [
    {
     "name": "stdout",
     "output_type": "stream",
     "text": [
      "              precision    recall  f1-score   support\n",
      "\n",
      "           0       0.72      0.81      0.76      6375\n",
      "           1       0.78      0.69      0.73      6376\n",
      "\n",
      "    accuracy                           0.75     12751\n",
      "   macro avg       0.75      0.75      0.75     12751\n",
      "weighted avg       0.75      0.75      0.75     12751\n",
      "\n",
      "f1 : 0.7307081347713402\n"
     ]
    },
    {
     "data": {
      "text/plain": [
       "[None, None]"
      ]
     },
     "execution_count": 57,
     "metadata": {},
     "output_type": "execute_result"
    }
   ],
   "source": [
    "model = LogisticRegression()\n",
    "X_train, X_test, y_train, y_test = make_input(X_cl_vt, y_cl)\n",
    "model.fit(X_train, y_train)\n",
    "y_pred = model.predict(X_test)\n",
    "class_stats(y_test, y_pred)"
   ]
  },
  {
   "cell_type": "markdown",
   "id": "cd9ca310-f2cd-4609-9e37-9161a1345b55",
   "metadata": {},
   "source": [
    "### Регрессия"
   ]
  },
  {
   "cell_type": "code",
   "execution_count": 58,
   "id": "23967a5a-2e6e-4928-b680-7f97f0e8ad78",
   "metadata": {},
   "outputs": [],
   "source": [
    "X_reg_vt = vt.fit_transform(X_reg)"
   ]
  },
  {
   "cell_type": "code",
   "execution_count": 59,
   "id": "a5bcca1f-fb80-464b-b1cd-329d318ae0e9",
   "metadata": {},
   "outputs": [
    {
     "data": {
      "text/html": [
       "<div>\n",
       "<style scoped>\n",
       "    .dataframe tbody tr th:only-of-type {\n",
       "        vertical-align: middle;\n",
       "    }\n",
       "\n",
       "    .dataframe tbody tr th {\n",
       "        vertical-align: top;\n",
       "    }\n",
       "\n",
       "    .dataframe thead th {\n",
       "        text-align: right;\n",
       "    }\n",
       "</style>\n",
       "<table border=\"1\" class=\"dataframe\">\n",
       "  <thead>\n",
       "    <tr style=\"text-align: right;\">\n",
       "      <th></th>\n",
       "      <th>x1</th>\n",
       "      <th>x2</th>\n",
       "      <th>x4</th>\n",
       "      <th>x8</th>\n",
       "      <th>x9</th>\n",
       "      <th>x11</th>\n",
       "    </tr>\n",
       "  </thead>\n",
       "  <tbody>\n",
       "    <tr>\n",
       "      <th>0</th>\n",
       "      <td>-0.423183</td>\n",
       "      <td>0.284686</td>\n",
       "      <td>-0.314975</td>\n",
       "      <td>-1.359049</td>\n",
       "      <td>-0.546178</td>\n",
       "      <td>-0.571367</td>\n",
       "    </tr>\n",
       "    <tr>\n",
       "      <th>1</th>\n",
       "      <td>-0.240949</td>\n",
       "      <td>0.147046</td>\n",
       "      <td>-0.200790</td>\n",
       "      <td>0.506915</td>\n",
       "      <td>-0.277351</td>\n",
       "      <td>-0.571367</td>\n",
       "    </tr>\n",
       "    <tr>\n",
       "      <th>2</th>\n",
       "      <td>-0.362438</td>\n",
       "      <td>0.559966</td>\n",
       "      <td>-0.172244</td>\n",
       "      <td>0.258120</td>\n",
       "      <td>-0.613385</td>\n",
       "      <td>-0.571367</td>\n",
       "    </tr>\n",
       "    <tr>\n",
       "      <th>3</th>\n",
       "      <td>-0.666161</td>\n",
       "      <td>0.009406</td>\n",
       "      <td>0.056126</td>\n",
       "      <td>-0.177272</td>\n",
       "      <td>-0.882212</td>\n",
       "      <td>-0.571367</td>\n",
       "    </tr>\n",
       "    <tr>\n",
       "      <th>4</th>\n",
       "      <td>-0.666161</td>\n",
       "      <td>0.009406</td>\n",
       "      <td>0.056126</td>\n",
       "      <td>-0.177272</td>\n",
       "      <td>-0.882212</td>\n",
       "      <td>-0.571367</td>\n",
       "    </tr>\n",
       "  </tbody>\n",
       "</table>\n",
       "</div>"
      ],
      "text/plain": [
       "         x1        x2        x4        x8        x9       x11\n",
       "0 -0.423183  0.284686 -0.314975 -1.359049 -0.546178 -0.571367\n",
       "1 -0.240949  0.147046 -0.200790  0.506915 -0.277351 -0.571367\n",
       "2 -0.362438  0.559966 -0.172244  0.258120 -0.613385 -0.571367\n",
       "3 -0.666161  0.009406  0.056126 -0.177272 -0.882212 -0.571367\n",
       "4 -0.666161  0.009406  0.056126 -0.177272 -0.882212 -0.571367"
      ]
     },
     "execution_count": 59,
     "metadata": {},
     "output_type": "execute_result"
    }
   ],
   "source": [
    "X_reg_vt = pd.DataFrame(X_reg_vt, columns=vt.get_feature_names_out())\n",
    "X_reg_vt.head()"
   ]
  },
  {
   "cell_type": "code",
   "execution_count": 60,
   "id": "945fcf26-25a9-459e-bde9-e31809c83dd2",
   "metadata": {},
   "outputs": [
    {
     "name": "stdout",
     "output_type": "stream",
     "text": [
      "mape : 0.11265992596989419\n",
      "mse: 0.6809586128801999\n"
     ]
    },
    {
     "data": {
      "text/plain": [
       "[None, None]"
      ]
     },
     "execution_count": 60,
     "metadata": {},
     "output_type": "execute_result"
    }
   ],
   "source": [
    "model = Ridge(alpha = 0.91)\n",
    "X_train, X_test, y_train, y_test = make_input(X_reg_vt, y_reg)\n",
    "model.fit(X_train, y_train)\n",
    "y_pred = model.predict(X_test)\n",
    "reg_stats(y_test, y_pred)"
   ]
  },
  {
   "cell_type": "markdown",
   "id": "9698f761-7c5a-4ce5-9fc6-77df70dcf71a",
   "metadata": {},
   "source": [
    "## SelectKBest"
   ]
  },
  {
   "cell_type": "code",
   "execution_count": 61,
   "id": "6250c0c5-8358-4e1c-b4be-6d69bb8dc201",
   "metadata": {},
   "outputs": [],
   "source": [
    "from sklearn.feature_selection import SelectKBest"
   ]
  },
  {
   "cell_type": "markdown",
   "id": "7adca5ec-9110-4573-a476-26b0ce15e0ab",
   "metadata": {},
   "source": [
    "### Классификация"
   ]
  },
  {
   "cell_type": "code",
   "execution_count": 62,
   "id": "3bbadc9b-f95e-41ce-99dc-2fb20440ffab",
   "metadata": {},
   "outputs": [],
   "source": [
    "skb = SelectKBest(k=10)\n",
    "X_skb_cl = skb.fit_transform(X_cl, y_cl)"
   ]
  },
  {
   "cell_type": "code",
   "execution_count": 63,
   "id": "84274552-cf15-4e2a-888c-8fe7dc4d8c66",
   "metadata": {},
   "outputs": [
    {
     "data": {
      "text/html": [
       "<div>\n",
       "<style scoped>\n",
       "    .dataframe tbody tr th:only-of-type {\n",
       "        vertical-align: middle;\n",
       "    }\n",
       "\n",
       "    .dataframe tbody tr th {\n",
       "        vertical-align: top;\n",
       "    }\n",
       "\n",
       "    .dataframe thead th {\n",
       "        text-align: right;\n",
       "    }\n",
       "</style>\n",
       "<table border=\"1\" class=\"dataframe\">\n",
       "  <thead>\n",
       "    <tr style=\"text-align: right;\">\n",
       "      <th></th>\n",
       "      <th>x3</th>\n",
       "      <th>x5</th>\n",
       "      <th>x6</th>\n",
       "      <th>x7</th>\n",
       "      <th>x9</th>\n",
       "      <th>x10</th>\n",
       "      <th>x11</th>\n",
       "      <th>x12</th>\n",
       "      <th>x13</th>\n",
       "      <th>x20</th>\n",
       "    </tr>\n",
       "  </thead>\n",
       "  <tbody>\n",
       "    <tr>\n",
       "      <th>0</th>\n",
       "      <td>-0.32679</td>\n",
       "      <td>-0.380075</td>\n",
       "      <td>-0.556669</td>\n",
       "      <td>-0.672606</td>\n",
       "      <td>-0.687498</td>\n",
       "      <td>-0.0215</td>\n",
       "      <td>0.153375</td>\n",
       "      <td>0.432871</td>\n",
       "      <td>0.416924</td>\n",
       "      <td>-0.687496</td>\n",
       "    </tr>\n",
       "    <tr>\n",
       "      <th>1</th>\n",
       "      <td>-0.32679</td>\n",
       "      <td>-0.380075</td>\n",
       "      <td>-0.556669</td>\n",
       "      <td>-0.672606</td>\n",
       "      <td>-0.687498</td>\n",
       "      <td>-0.0215</td>\n",
       "      <td>0.153375</td>\n",
       "      <td>0.432871</td>\n",
       "      <td>0.416924</td>\n",
       "      <td>-0.687496</td>\n",
       "    </tr>\n",
       "    <tr>\n",
       "      <th>2</th>\n",
       "      <td>-0.32679</td>\n",
       "      <td>-0.380075</td>\n",
       "      <td>-0.556669</td>\n",
       "      <td>-0.672606</td>\n",
       "      <td>-0.687498</td>\n",
       "      <td>-0.0215</td>\n",
       "      <td>0.153375</td>\n",
       "      <td>0.432871</td>\n",
       "      <td>0.416924</td>\n",
       "      <td>-0.687496</td>\n",
       "    </tr>\n",
       "    <tr>\n",
       "      <th>3</th>\n",
       "      <td>-0.32679</td>\n",
       "      <td>-0.380075</td>\n",
       "      <td>-0.556669</td>\n",
       "      <td>-0.672606</td>\n",
       "      <td>-0.687498</td>\n",
       "      <td>-0.0215</td>\n",
       "      <td>0.153375</td>\n",
       "      <td>0.432871</td>\n",
       "      <td>0.416924</td>\n",
       "      <td>-0.687496</td>\n",
       "    </tr>\n",
       "    <tr>\n",
       "      <th>4</th>\n",
       "      <td>-0.32679</td>\n",
       "      <td>-0.380075</td>\n",
       "      <td>-0.556669</td>\n",
       "      <td>-0.672606</td>\n",
       "      <td>-0.687498</td>\n",
       "      <td>-0.0215</td>\n",
       "      <td>0.153375</td>\n",
       "      <td>0.432871</td>\n",
       "      <td>0.416924</td>\n",
       "      <td>-0.687496</td>\n",
       "    </tr>\n",
       "  </tbody>\n",
       "</table>\n",
       "</div>"
      ],
      "text/plain": [
       "        x3        x5        x6        x7        x9     x10       x11  \\\n",
       "0 -0.32679 -0.380075 -0.556669 -0.672606 -0.687498 -0.0215  0.153375   \n",
       "1 -0.32679 -0.380075 -0.556669 -0.672606 -0.687498 -0.0215  0.153375   \n",
       "2 -0.32679 -0.380075 -0.556669 -0.672606 -0.687498 -0.0215  0.153375   \n",
       "3 -0.32679 -0.380075 -0.556669 -0.672606 -0.687498 -0.0215  0.153375   \n",
       "4 -0.32679 -0.380075 -0.556669 -0.672606 -0.687498 -0.0215  0.153375   \n",
       "\n",
       "        x12       x13       x20  \n",
       "0  0.432871  0.416924 -0.687496  \n",
       "1  0.432871  0.416924 -0.687496  \n",
       "2  0.432871  0.416924 -0.687496  \n",
       "3  0.432871  0.416924 -0.687496  \n",
       "4  0.432871  0.416924 -0.687496  "
      ]
     },
     "execution_count": 63,
     "metadata": {},
     "output_type": "execute_result"
    }
   ],
   "source": [
    "X_skb_cl = pd.DataFrame(X_skb_cl, columns=skb.get_feature_names_out())\n",
    "X_skb_cl.head()"
   ]
  },
  {
   "cell_type": "code",
   "execution_count": 64,
   "id": "7761a1f3-863e-472f-8808-fb739beae6b5",
   "metadata": {},
   "outputs": [
    {
     "name": "stdout",
     "output_type": "stream",
     "text": [
      "              precision    recall  f1-score   support\n",
      "\n",
      "           0       0.73      0.81      0.77      6376\n",
      "           1       0.79      0.70      0.74      6375\n",
      "\n",
      "    accuracy                           0.76     12751\n",
      "   macro avg       0.76      0.76      0.75     12751\n",
      "weighted avg       0.76      0.76      0.75     12751\n",
      "\n",
      "f1 : 0.7409623535277985\n"
     ]
    },
    {
     "data": {
      "text/plain": [
       "[None, None]"
      ]
     },
     "execution_count": 64,
     "metadata": {},
     "output_type": "execute_result"
    }
   ],
   "source": [
    "model = LogisticRegression()\n",
    "X_train, X_test, y_train, y_test = make_input(X_skb_cl, y_cl)\n",
    "model.fit(X_train, y_train)\n",
    "y_pred = model.predict(X_test)\n",
    "class_stats(y_test, y_pred)"
   ]
  },
  {
   "cell_type": "markdown",
   "id": "30a8f90a-60da-45c3-b8a4-a108883b3b59",
   "metadata": {},
   "source": [
    "### Регрессия"
   ]
  },
  {
   "cell_type": "code",
   "execution_count": 65,
   "id": "0b2d76ac-837c-451d-956a-50486698debe",
   "metadata": {},
   "outputs": [],
   "source": [
    "skb = SelectKBest(k=5)\n",
    "X_skb_reg = skb.fit_transform(X_reg, y_reg)"
   ]
  },
  {
   "cell_type": "code",
   "execution_count": 66,
   "id": "8545f111-8223-4077-aad6-dc643fe1ab8e",
   "metadata": {},
   "outputs": [
    {
     "data": {
      "text/html": [
       "<div>\n",
       "<style scoped>\n",
       "    .dataframe tbody tr th:only-of-type {\n",
       "        vertical-align: middle;\n",
       "    }\n",
       "\n",
       "    .dataframe tbody tr th {\n",
       "        vertical-align: top;\n",
       "    }\n",
       "\n",
       "    .dataframe thead th {\n",
       "        text-align: right;\n",
       "    }\n",
       "</style>\n",
       "<table border=\"1\" class=\"dataframe\">\n",
       "  <thead>\n",
       "    <tr style=\"text-align: right;\">\n",
       "      <th></th>\n",
       "      <th>x1</th>\n",
       "      <th>x4</th>\n",
       "      <th>x7</th>\n",
       "      <th>x10</th>\n",
       "      <th>x11</th>\n",
       "    </tr>\n",
       "  </thead>\n",
       "  <tbody>\n",
       "    <tr>\n",
       "      <th>0</th>\n",
       "      <td>-0.423183</td>\n",
       "      <td>-0.314975</td>\n",
       "      <td>2.102214</td>\n",
       "      <td>-1.418558</td>\n",
       "      <td>-0.571367</td>\n",
       "    </tr>\n",
       "    <tr>\n",
       "      <th>1</th>\n",
       "      <td>-0.240949</td>\n",
       "      <td>-0.200790</td>\n",
       "      <td>-0.232332</td>\n",
       "      <td>-0.831615</td>\n",
       "      <td>-0.571367</td>\n",
       "    </tr>\n",
       "    <tr>\n",
       "      <th>2</th>\n",
       "      <td>-0.362438</td>\n",
       "      <td>-0.172244</td>\n",
       "      <td>0.134525</td>\n",
       "      <td>-0.328521</td>\n",
       "      <td>-0.571367</td>\n",
       "    </tr>\n",
       "    <tr>\n",
       "      <th>3</th>\n",
       "      <td>-0.666161</td>\n",
       "      <td>0.056126</td>\n",
       "      <td>0.301278</td>\n",
       "      <td>-0.496219</td>\n",
       "      <td>-0.571367</td>\n",
       "    </tr>\n",
       "    <tr>\n",
       "      <th>4</th>\n",
       "      <td>-0.666161</td>\n",
       "      <td>0.056126</td>\n",
       "      <td>0.301278</td>\n",
       "      <td>-0.496219</td>\n",
       "      <td>-0.571367</td>\n",
       "    </tr>\n",
       "  </tbody>\n",
       "</table>\n",
       "</div>"
      ],
      "text/plain": [
       "         x1        x4        x7       x10       x11\n",
       "0 -0.423183 -0.314975  2.102214 -1.418558 -0.571367\n",
       "1 -0.240949 -0.200790 -0.232332 -0.831615 -0.571367\n",
       "2 -0.362438 -0.172244  0.134525 -0.328521 -0.571367\n",
       "3 -0.666161  0.056126  0.301278 -0.496219 -0.571367\n",
       "4 -0.666161  0.056126  0.301278 -0.496219 -0.571367"
      ]
     },
     "execution_count": 66,
     "metadata": {},
     "output_type": "execute_result"
    }
   ],
   "source": [
    "X_skb_reg = pd.DataFrame(X_skb_reg, columns=skb.get_feature_names_out())\n",
    "X_skb_reg.head()"
   ]
  },
  {
   "cell_type": "code",
   "execution_count": 67,
   "id": "c390a08d-947e-43eb-8640-a44c1c7e5a0b",
   "metadata": {},
   "outputs": [
    {
     "name": "stdout",
     "output_type": "stream",
     "text": [
      "mape : 0.10287945102758486\n",
      "mse: 0.5463401629468893\n"
     ]
    },
    {
     "data": {
      "text/plain": [
       "[None, None]"
      ]
     },
     "execution_count": 67,
     "metadata": {},
     "output_type": "execute_result"
    }
   ],
   "source": [
    "model = Ridge(alpha = 0.91)\n",
    "X_train, X_test, y_train, y_test = make_input(X_skb_reg, y_reg)\n",
    "model.fit(X_train, y_train)\n",
    "y_pred = model.predict(X_test)\n",
    "reg_stats(y_test, y_pred)"
   ]
  },
  {
   "cell_type": "markdown",
   "id": "7e6b69c0-07de-48d1-9b26-758569e18104",
   "metadata": {},
   "source": [
    "## RFE"
   ]
  },
  {
   "cell_type": "code",
   "execution_count": 68,
   "id": "42a109cf-7977-4b2a-bb00-2a8164f7c803",
   "metadata": {},
   "outputs": [],
   "source": [
    "from sklearn.feature_selection import RFE"
   ]
  },
  {
   "cell_type": "markdown",
   "id": "1e32a7e9-1d52-46df-b5fc-ae850f89bee7",
   "metadata": {},
   "source": [
    "### Классификация"
   ]
  },
  {
   "cell_type": "code",
   "execution_count": 69,
   "id": "71e8c25b-f7dd-45ec-8176-df34ead4689e",
   "metadata": {},
   "outputs": [
    {
     "data": {
      "text/html": [
       "<div>\n",
       "<style scoped>\n",
       "    .dataframe tbody tr th:only-of-type {\n",
       "        vertical-align: middle;\n",
       "    }\n",
       "\n",
       "    .dataframe tbody tr th {\n",
       "        vertical-align: top;\n",
       "    }\n",
       "\n",
       "    .dataframe thead th {\n",
       "        text-align: right;\n",
       "    }\n",
       "</style>\n",
       "<table border=\"1\" class=\"dataframe\">\n",
       "  <thead>\n",
       "    <tr style=\"text-align: right;\">\n",
       "      <th></th>\n",
       "      <th>x2</th>\n",
       "      <th>x3</th>\n",
       "      <th>x5</th>\n",
       "      <th>x7</th>\n",
       "      <th>x8</th>\n",
       "      <th>x9</th>\n",
       "      <th>x10</th>\n",
       "      <th>x11</th>\n",
       "      <th>x13</th>\n",
       "      <th>x14</th>\n",
       "    </tr>\n",
       "  </thead>\n",
       "  <tbody>\n",
       "    <tr>\n",
       "      <th>0</th>\n",
       "      <td>-0.253135</td>\n",
       "      <td>-0.32679</td>\n",
       "      <td>-0.380075</td>\n",
       "      <td>-0.672606</td>\n",
       "      <td>1.476587</td>\n",
       "      <td>-0.687498</td>\n",
       "      <td>-0.0215</td>\n",
       "      <td>0.153375</td>\n",
       "      <td>0.416924</td>\n",
       "      <td>0.022106</td>\n",
       "    </tr>\n",
       "    <tr>\n",
       "      <th>1</th>\n",
       "      <td>-0.253135</td>\n",
       "      <td>-0.32679</td>\n",
       "      <td>-0.380075</td>\n",
       "      <td>-0.672606</td>\n",
       "      <td>1.476587</td>\n",
       "      <td>-0.687498</td>\n",
       "      <td>-0.0215</td>\n",
       "      <td>0.153375</td>\n",
       "      <td>0.416924</td>\n",
       "      <td>0.022106</td>\n",
       "    </tr>\n",
       "    <tr>\n",
       "      <th>2</th>\n",
       "      <td>-0.253135</td>\n",
       "      <td>-0.32679</td>\n",
       "      <td>-0.380075</td>\n",
       "      <td>-0.672606</td>\n",
       "      <td>1.476587</td>\n",
       "      <td>-0.687498</td>\n",
       "      <td>-0.0215</td>\n",
       "      <td>0.153375</td>\n",
       "      <td>0.416924</td>\n",
       "      <td>0.022106</td>\n",
       "    </tr>\n",
       "    <tr>\n",
       "      <th>3</th>\n",
       "      <td>-0.253135</td>\n",
       "      <td>-0.32679</td>\n",
       "      <td>-0.380075</td>\n",
       "      <td>-0.672606</td>\n",
       "      <td>1.476587</td>\n",
       "      <td>-0.687498</td>\n",
       "      <td>-0.0215</td>\n",
       "      <td>0.153375</td>\n",
       "      <td>0.416924</td>\n",
       "      <td>0.022106</td>\n",
       "    </tr>\n",
       "    <tr>\n",
       "      <th>4</th>\n",
       "      <td>-0.253135</td>\n",
       "      <td>-0.32679</td>\n",
       "      <td>-0.380075</td>\n",
       "      <td>-0.672606</td>\n",
       "      <td>1.476587</td>\n",
       "      <td>-0.687498</td>\n",
       "      <td>-0.0215</td>\n",
       "      <td>0.153375</td>\n",
       "      <td>0.416924</td>\n",
       "      <td>0.022106</td>\n",
       "    </tr>\n",
       "  </tbody>\n",
       "</table>\n",
       "</div>"
      ],
      "text/plain": [
       "         x2       x3        x5        x7        x8        x9     x10  \\\n",
       "0 -0.253135 -0.32679 -0.380075 -0.672606  1.476587 -0.687498 -0.0215   \n",
       "1 -0.253135 -0.32679 -0.380075 -0.672606  1.476587 -0.687498 -0.0215   \n",
       "2 -0.253135 -0.32679 -0.380075 -0.672606  1.476587 -0.687498 -0.0215   \n",
       "3 -0.253135 -0.32679 -0.380075 -0.672606  1.476587 -0.687498 -0.0215   \n",
       "4 -0.253135 -0.32679 -0.380075 -0.672606  1.476587 -0.687498 -0.0215   \n",
       "\n",
       "        x11       x13       x14  \n",
       "0  0.153375  0.416924  0.022106  \n",
       "1  0.153375  0.416924  0.022106  \n",
       "2  0.153375  0.416924  0.022106  \n",
       "3  0.153375  0.416924  0.022106  \n",
       "4  0.153375  0.416924  0.022106  "
      ]
     },
     "execution_count": 69,
     "metadata": {},
     "output_type": "execute_result"
    }
   ],
   "source": [
    "rfe = RFE(estimator = LogisticRegression(), n_features_to_select=10, step=1).fit(X_cl, y_cl)\n",
    "X_rfe_reg = pd.DataFrame(rfe.transform(X_cl), columns=rfe.get_feature_names_out())\n",
    "X_rfe_reg.head()"
   ]
  },
  {
   "cell_type": "code",
   "execution_count": 70,
   "id": "b078b11e-a7b2-4d33-9b95-e108a2c9b0e3",
   "metadata": {},
   "outputs": [
    {
     "name": "stdout",
     "output_type": "stream",
     "text": [
      "              precision    recall  f1-score   support\n",
      "\n",
      "           0       0.73      0.82      0.77      6376\n",
      "           1       0.79      0.70      0.74      6375\n",
      "\n",
      "    accuracy                           0.76     12751\n",
      "   macro avg       0.76      0.76      0.76     12751\n",
      "weighted avg       0.76      0.76      0.76     12751\n",
      "\n",
      "f1 : 0.7426280177094645\n"
     ]
    },
    {
     "data": {
      "text/plain": [
       "[None, None]"
      ]
     },
     "execution_count": 70,
     "metadata": {},
     "output_type": "execute_result"
    }
   ],
   "source": [
    "model = LogisticRegression()\n",
    "X_train, X_test, y_train, y_test = make_input(X_rfe_reg, y_cl)\n",
    "model.fit(X_train, y_train)\n",
    "y_pred = model.predict(X_test)\n",
    "class_stats(y_test, y_pred)"
   ]
  },
  {
   "cell_type": "markdown",
   "id": "24f54718-eeee-4ebc-941d-43a39d6a595b",
   "metadata": {},
   "source": [
    "### Регрессия"
   ]
  },
  {
   "cell_type": "code",
   "execution_count": 71,
   "id": "3f2527b2-67ec-4d65-a2e1-52721a285ccc",
   "metadata": {},
   "outputs": [
    {
     "data": {
      "text/html": [
       "<div>\n",
       "<style scoped>\n",
       "    .dataframe tbody tr th:only-of-type {\n",
       "        vertical-align: middle;\n",
       "    }\n",
       "\n",
       "    .dataframe tbody tr th {\n",
       "        vertical-align: top;\n",
       "    }\n",
       "\n",
       "    .dataframe thead th {\n",
       "        text-align: right;\n",
       "    }\n",
       "</style>\n",
       "<table border=\"1\" class=\"dataframe\">\n",
       "  <thead>\n",
       "    <tr style=\"text-align: right;\">\n",
       "      <th></th>\n",
       "      <th>x1</th>\n",
       "      <th>x3</th>\n",
       "      <th>x7</th>\n",
       "      <th>x10</th>\n",
       "      <th>x11</th>\n",
       "    </tr>\n",
       "  </thead>\n",
       "  <tbody>\n",
       "    <tr>\n",
       "      <th>0</th>\n",
       "      <td>-0.423183</td>\n",
       "      <td>3.206929</td>\n",
       "      <td>2.102214</td>\n",
       "      <td>-1.418558</td>\n",
       "      <td>-0.571367</td>\n",
       "    </tr>\n",
       "    <tr>\n",
       "      <th>1</th>\n",
       "      <td>-0.240949</td>\n",
       "      <td>-0.807837</td>\n",
       "      <td>-0.232332</td>\n",
       "      <td>-0.831615</td>\n",
       "      <td>-0.571367</td>\n",
       "    </tr>\n",
       "    <tr>\n",
       "      <th>2</th>\n",
       "      <td>-0.362438</td>\n",
       "      <td>0.306208</td>\n",
       "      <td>0.134525</td>\n",
       "      <td>-0.328521</td>\n",
       "      <td>-0.571367</td>\n",
       "    </tr>\n",
       "    <tr>\n",
       "      <th>3</th>\n",
       "      <td>-0.666161</td>\n",
       "      <td>0.642523</td>\n",
       "      <td>0.301278</td>\n",
       "      <td>-0.496219</td>\n",
       "      <td>-0.571367</td>\n",
       "    </tr>\n",
       "    <tr>\n",
       "      <th>4</th>\n",
       "      <td>-0.666161</td>\n",
       "      <td>0.642523</td>\n",
       "      <td>0.301278</td>\n",
       "      <td>-0.496219</td>\n",
       "      <td>-0.571367</td>\n",
       "    </tr>\n",
       "  </tbody>\n",
       "</table>\n",
       "</div>"
      ],
      "text/plain": [
       "         x1        x3        x7       x10       x11\n",
       "0 -0.423183  3.206929  2.102214 -1.418558 -0.571367\n",
       "1 -0.240949 -0.807837 -0.232332 -0.831615 -0.571367\n",
       "2 -0.362438  0.306208  0.134525 -0.328521 -0.571367\n",
       "3 -0.666161  0.642523  0.301278 -0.496219 -0.571367\n",
       "4 -0.666161  0.642523  0.301278 -0.496219 -0.571367"
      ]
     },
     "execution_count": 71,
     "metadata": {},
     "output_type": "execute_result"
    }
   ],
   "source": [
    "rfe = RFE(estimator= Ridge(alpha = 0.91), n_features_to_select=5, step=1).fit(X_reg, y_reg)\n",
    "X_rfe_reg = pd.DataFrame(rfe.transform(X_reg), columns=rfe.get_feature_names_out())\n",
    "X_rfe_reg.head()"
   ]
  },
  {
   "cell_type": "code",
   "execution_count": 72,
   "id": "90ca4948-298f-4ded-9694-4efcd895e272",
   "metadata": {},
   "outputs": [
    {
     "name": "stdout",
     "output_type": "stream",
     "text": [
      "mape : 0.10143279062723484\n",
      "mse: 0.5396386061815303\n"
     ]
    },
    {
     "data": {
      "text/plain": [
       "[None, None]"
      ]
     },
     "execution_count": 72,
     "metadata": {},
     "output_type": "execute_result"
    }
   ],
   "source": [
    "model = Ridge(alpha = 0.91)\n",
    "X_train, X_test, y_train, y_test = make_input(X_rfe_reg, y_reg)\n",
    "model.fit(X_train, y_train)\n",
    "y_pred = model.predict(X_test)\n",
    "reg_stats(y_test, y_pred)"
   ]
  },
  {
   "cell_type": "markdown",
   "id": "44859ae5-8dce-4304-89ec-c8fa8c0cc05f",
   "metadata": {},
   "source": [
    "## PCA"
   ]
  },
  {
   "cell_type": "code",
   "execution_count": 73,
   "id": "b7d6ebc4-9700-4bb6-b007-1afc37173876",
   "metadata": {},
   "outputs": [],
   "source": [
    "from sklearn.decomposition import PCA"
   ]
  },
  {
   "cell_type": "markdown",
   "id": "1db779e1-3e81-40d1-8774-7cd9feff018f",
   "metadata": {},
   "source": [
    "### Классификация"
   ]
  },
  {
   "cell_type": "code",
   "execution_count": 74,
   "id": "4bee2f71-09f1-4d36-bc3a-1abe69fa867d",
   "metadata": {},
   "outputs": [
    {
     "data": {
      "text/plain": [
       "(63754, 10)"
      ]
     },
     "execution_count": 74,
     "metadata": {},
     "output_type": "execute_result"
    }
   ],
   "source": [
    "pca = PCA(n_components=10)\n",
    "X_pca_cl = pca.fit_transform(X_cl)\n",
    "X_pca_cl.shape"
   ]
  },
  {
   "cell_type": "code",
   "execution_count": 75,
   "id": "82e2b408-2f41-483e-ac3d-291bbb9bd557",
   "metadata": {},
   "outputs": [
    {
     "data": {
      "text/plain": [
       "0.8413993136509809"
      ]
     },
     "execution_count": 75,
     "metadata": {},
     "output_type": "execute_result"
    }
   ],
   "source": [
    "sum(pca.explained_variance_ratio_)"
   ]
  },
  {
   "cell_type": "code",
   "execution_count": 76,
   "id": "5aba507b-daa0-4a15-b4f1-1e68eca4743f",
   "metadata": {},
   "outputs": [
    {
     "name": "stdout",
     "output_type": "stream",
     "text": [
      "              precision    recall  f1-score   support\n",
      "\n",
      "           0       0.70      0.76      0.73      6375\n",
      "           1       0.74      0.67      0.71      6376\n",
      "\n",
      "    accuracy                           0.72     12751\n",
      "   macro avg       0.72      0.72      0.72     12751\n",
      "weighted avg       0.72      0.72      0.72     12751\n",
      "\n",
      "f1 : 0.7051871306631647\n"
     ]
    },
    {
     "data": {
      "text/plain": [
       "[None, None]"
      ]
     },
     "execution_count": 76,
     "metadata": {},
     "output_type": "execute_result"
    }
   ],
   "source": [
    "model = LogisticRegression()\n",
    "X_train, X_test, y_train, y_test = make_input(X_pca_cl, y_cl)\n",
    "model.fit(X_train, y_train)\n",
    "y_pred = model.predict(X_test)\n",
    "class_stats(y_test, y_pred)"
   ]
  },
  {
   "cell_type": "markdown",
   "id": "71b17d10-4fdf-4e55-aabc-04354fa298b5",
   "metadata": {},
   "source": [
    "### Регрессия"
   ]
  },
  {
   "cell_type": "code",
   "execution_count": 77,
   "id": "e6c47475-c347-4f52-b71c-b92957e3243c",
   "metadata": {},
   "outputs": [
    {
     "data": {
      "text/plain": [
       "(6497, 5)"
      ]
     },
     "execution_count": 77,
     "metadata": {},
     "output_type": "execute_result"
    }
   ],
   "source": [
    "pca = PCA(n_components=5)\n",
    "X_pca_reg = pca.fit_transform(X_reg)\n",
    "X_pca_reg.shape"
   ]
  },
  {
   "cell_type": "code",
   "execution_count": 78,
   "id": "f6585d0e-8439-4a40-8429-021e3ee20059",
   "metadata": {},
   "outputs": [
    {
     "data": {
      "text/plain": [
       "0.7995246810354956"
      ]
     },
     "execution_count": 78,
     "metadata": {},
     "output_type": "execute_result"
    }
   ],
   "source": [
    "sum(pca.explained_variance_ratio_)"
   ]
  },
  {
   "cell_type": "code",
   "execution_count": 79,
   "id": "29fb4398-e659-4fe7-9dee-8b56024d57a5",
   "metadata": {},
   "outputs": [
    {
     "name": "stdout",
     "output_type": "stream",
     "text": [
      "mape : 0.11060274546055564\n",
      "mse: 0.6321954414316688\n"
     ]
    },
    {
     "data": {
      "text/plain": [
       "[None, None]"
      ]
     },
     "execution_count": 79,
     "metadata": {},
     "output_type": "execute_result"
    }
   ],
   "source": [
    "model = Ridge(alpha = 0.91)\n",
    "X_train, X_test, y_train, y_test = make_input(X_pca_reg, y_reg)\n",
    "model.fit(X_train, y_train)\n",
    "y_pred = model.predict(X_test)\n",
    "reg_stats(y_test, y_pred)"
   ]
  },
  {
   "cell_type": "markdown",
   "id": "11baab1d-5c3e-49a0-8d25-5a995afe9d69",
   "metadata": {},
   "source": [
    "## tSNE"
   ]
  },
  {
   "cell_type": "code",
   "execution_count": 272,
   "id": "f466191b-6578-411b-ac84-53ded4dfd5be",
   "metadata": {},
   "outputs": [],
   "source": [
    "from sklearn.manifold import TSNE"
   ]
  },
  {
   "cell_type": "markdown",
   "id": "e014fcf2-5dee-4305-af2e-f5e85b82690a",
   "metadata": {},
   "source": [
    "### Классификация"
   ]
  },
  {
   "cell_type": "code",
   "execution_count": 273,
   "id": "6697ca12-f218-4d7d-aa88-6a79d8cf1d93",
   "metadata": {},
   "outputs": [
    {
     "data": {
      "text/plain": [
       "(63754, 3)"
      ]
     },
     "execution_count": 273,
     "metadata": {},
     "output_type": "execute_result"
    }
   ],
   "source": [
    "tsne = TSNE(n_components=3)\n",
    "X_tsne_cl = tsne.fit_transform(X_cl)\n",
    "X_tsne_cl.shape"
   ]
  },
  {
   "cell_type": "code",
   "execution_count": 274,
   "id": "a3fc35b9-e7bb-41d9-a4d5-97dfc792515a",
   "metadata": {},
   "outputs": [
    {
     "name": "stdout",
     "output_type": "stream",
     "text": [
      "              precision    recall  f1-score   support\n",
      "\n",
      "           0       0.66      0.66      0.66      6376\n",
      "           1       0.66      0.65      0.66      6375\n",
      "\n",
      "    accuracy                           0.66     12751\n",
      "   macro avg       0.66      0.66      0.66     12751\n",
      "weighted avg       0.66      0.66      0.66     12751\n",
      "\n",
      "f1 : 0.6555983948383036\n"
     ]
    },
    {
     "data": {
      "text/plain": [
       "[None, None]"
      ]
     },
     "execution_count": 274,
     "metadata": {},
     "output_type": "execute_result"
    }
   ],
   "source": [
    "model = LogisticRegression()\n",
    "X_train, X_test, y_train, y_test = make_input(X_tsne_cl, y_cl)\n",
    "model.fit(X_train, y_train)\n",
    "y_pred = model.predict(X_test)\n",
    "class_stats(y_test, y_pred)"
   ]
  },
  {
   "cell_type": "markdown",
   "id": "13932a8e-8d42-4146-8d20-6a11f42e323a",
   "metadata": {},
   "source": [
    "### Регрессия"
   ]
  },
  {
   "cell_type": "code",
   "execution_count": 276,
   "id": "34172e3b-135b-436b-9d17-60868f6aeef4",
   "metadata": {},
   "outputs": [
    {
     "data": {
      "text/plain": [
       "(6497, 2)"
      ]
     },
     "execution_count": 276,
     "metadata": {},
     "output_type": "execute_result"
    }
   ],
   "source": [
    "tsne = TSNE(n_components=2)\n",
    "X_tsne_reg = tsne.fit_transform(X_reg)\n",
    "X_tsne_reg.shape"
   ]
  },
  {
   "cell_type": "code",
   "execution_count": 277,
   "id": "b903ab1d-a27c-421b-947c-4aa687de2b85",
   "metadata": {},
   "outputs": [
    {
     "name": "stdout",
     "output_type": "stream",
     "text": [
      "mape : 0.1179224143780777\n",
      "mse: 0.7044399871261752\n"
     ]
    },
    {
     "data": {
      "text/plain": [
       "[None, None]"
      ]
     },
     "execution_count": 277,
     "metadata": {},
     "output_type": "execute_result"
    }
   ],
   "source": [
    "model = Ridge(alpha = 0.91)\n",
    "X_train, X_test, y_train, y_test = make_input(X_tsne_reg, y_reg)\n",
    "model.fit(X_train, y_train)\n",
    "y_pred = model.predict(X_test)\n",
    "reg_stats(y_test, y_pred)"
   ]
  },
  {
   "cell_type": "markdown",
   "id": "ea5d01b3-1a54-4835-985d-89fe77ba42f4",
   "metadata": {},
   "source": [
    "## Isomap"
   ]
  },
  {
   "cell_type": "code",
   "execution_count": 18,
   "id": "85438d69-edd4-406c-b991-3367b6644c54",
   "metadata": {},
   "outputs": [],
   "source": [
    "from sklearn.manifold import Isomap"
   ]
  },
  {
   "cell_type": "markdown",
   "id": "a661a081-d162-42d2-b93c-c77d15ace8b1",
   "metadata": {},
   "source": [
    "### Классификация"
   ]
  },
  {
   "cell_type": "code",
   "execution_count": 25,
   "id": "eeffceb6-fd51-4fd7-8b59-370f7b3a2656",
   "metadata": {},
   "outputs": [
    {
     "data": {
      "text/plain": [
       "(10000, 2)"
      ]
     },
     "execution_count": 25,
     "metadata": {},
     "output_type": "execute_result"
    }
   ],
   "source": [
    "isomap = Isomap(n_components=2)\n",
    "X_isomap_cl = isomap.fit_transform(X_cl[:50000:5])\n",
    "X_isomap_cl.shape"
   ]
  },
  {
   "cell_type": "code",
   "execution_count": 26,
   "id": "1647150e-dd95-4419-9cf5-5aebec9b2575",
   "metadata": {},
   "outputs": [
    {
     "name": "stdout",
     "output_type": "stream",
     "text": [
      "              precision    recall  f1-score   support\n",
      "\n",
      "           0       0.71      0.85      0.78      1275\n",
      "           1       0.60      0.39      0.47       725\n",
      "\n",
      "    accuracy                           0.69      2000\n",
      "   macro avg       0.66      0.62      0.62      2000\n",
      "weighted avg       0.67      0.69      0.67      2000\n",
      "\n",
      "f1 : 0.4723618090452261\n"
     ]
    },
    {
     "data": {
      "text/plain": [
       "[None, None]"
      ]
     },
     "execution_count": 26,
     "metadata": {},
     "output_type": "execute_result"
    }
   ],
   "source": [
    "model = LogisticRegression()\n",
    "X_train, X_test, y_train, y_test = make_input(X_isomap_cl, y_cl[:50000:5])\n",
    "model.fit(X_train, y_train)\n",
    "y_pred = model.predict(X_test)\n",
    "class_stats(y_test, y_pred)"
   ]
  },
  {
   "cell_type": "markdown",
   "id": "01b98f4e-7c79-4c1f-8a51-3d4b365898b9",
   "metadata": {},
   "source": [
    "### Регрессия"
   ]
  },
  {
   "cell_type": "code",
   "execution_count": 27,
   "id": "4bd6b5e4-6f23-4361-8fee-16ae87d99317",
   "metadata": {},
   "outputs": [
    {
     "name": "stderr",
     "output_type": "stream",
     "text": [
      "c:\\users\\ziabr\\onedrive\\рабочий стол\\ml\\myvenv\\lib\\site-packages\\sklearn\\manifold\\_isomap.py:383: UserWarning: The number of connected components of the neighbors graph is 4 > 1. Completing the graph to fit Isomap might be slow. Increase the number of neighbors to avoid this issue.\n",
      "  self._fit_transform(X)\n",
      "c:\\users\\ziabr\\onedrive\\рабочий стол\\ml\\myvenv\\lib\\site-packages\\scipy\\sparse\\_index.py:100: SparseEfficiencyWarning: Changing the sparsity structure of a csr_matrix is expensive. lil_matrix is more efficient.\n",
      "  self._set_intXint(row, col, x.flat[0])\n",
      "c:\\users\\ziabr\\onedrive\\рабочий стол\\ml\\myvenv\\lib\\site-packages\\scipy\\sparse\\_index.py:100: SparseEfficiencyWarning: Changing the sparsity structure of a csr_matrix is expensive. lil_matrix is more efficient.\n",
      "  self._set_intXint(row, col, x.flat[0])\n",
      "c:\\users\\ziabr\\onedrive\\рабочий стол\\ml\\myvenv\\lib\\site-packages\\scipy\\sparse\\_index.py:100: SparseEfficiencyWarning: Changing the sparsity structure of a csr_matrix is expensive. lil_matrix is more efficient.\n",
      "  self._set_intXint(row, col, x.flat[0])\n",
      "c:\\users\\ziabr\\onedrive\\рабочий стол\\ml\\myvenv\\lib\\site-packages\\scipy\\sparse\\_index.py:100: SparseEfficiencyWarning: Changing the sparsity structure of a csr_matrix is expensive. lil_matrix is more efficient.\n",
      "  self._set_intXint(row, col, x.flat[0])\n",
      "c:\\users\\ziabr\\onedrive\\рабочий стол\\ml\\myvenv\\lib\\site-packages\\scipy\\sparse\\_index.py:100: SparseEfficiencyWarning: Changing the sparsity structure of a csr_matrix is expensive. lil_matrix is more efficient.\n",
      "  self._set_intXint(row, col, x.flat[0])\n",
      "c:\\users\\ziabr\\onedrive\\рабочий стол\\ml\\myvenv\\lib\\site-packages\\scipy\\sparse\\_index.py:100: SparseEfficiencyWarning: Changing the sparsity structure of a csr_matrix is expensive. lil_matrix is more efficient.\n",
      "  self._set_intXint(row, col, x.flat[0])\n"
     ]
    },
    {
     "data": {
      "text/plain": [
       "(6497, 2)"
      ]
     },
     "execution_count": 27,
     "metadata": {},
     "output_type": "execute_result"
    }
   ],
   "source": [
    "isomap = Isomap(n_components=2)\n",
    "X_isomap_reg = isomap.fit_transform(X_reg)\n",
    "X_isomap_reg.shape"
   ]
  },
  {
   "cell_type": "code",
   "execution_count": 28,
   "id": "4d86ca28-b582-4b43-a7db-b3bafd84f51b",
   "metadata": {},
   "outputs": [
    {
     "name": "stdout",
     "output_type": "stream",
     "text": [
      "mape : 0.11997729072561313\n",
      "mse: 0.7390837124642478\n"
     ]
    },
    {
     "data": {
      "text/plain": [
       "[None, None]"
      ]
     },
     "execution_count": 28,
     "metadata": {},
     "output_type": "execute_result"
    }
   ],
   "source": [
    "model = Ridge(alpha = 0.91)\n",
    "X_train, X_test, y_train, y_test = make_input(X_isomap_reg, y_reg)\n",
    "model.fit(X_train, y_train)\n",
    "y_pred = model.predict(X_test)\n",
    "reg_stats(y_test, y_pred)"
   ]
  },
  {
   "cell_type": "markdown",
   "id": "d1f93b11-8bb5-45ba-8684-3bfc4fb657c6",
   "metadata": {},
   "source": [
    "# Вывод"
   ]
  },
  {
   "cell_type": "markdown",
   "id": "12283f4e-45e1-4705-bfb7-bac0676c3e1f",
   "metadata": {},
   "source": [
    "Наилучший метод отбора признаков - RFE, т.к. он показал наилучший результат по классификации, тогда как регрессия практически всюду ведет себя идентично."
   ]
  }
 ],
 "metadata": {
  "kernelspec": {
   "display_name": "Python 3 (ipykernel)",
   "language": "python",
   "name": "python3"
  },
  "language_info": {
   "codemirror_mode": {
    "name": "ipython",
    "version": 3
   },
   "file_extension": ".py",
   "mimetype": "text/x-python",
   "name": "python",
   "nbconvert_exporter": "python",
   "pygments_lexer": "ipython3",
   "version": "3.9.0"
  }
 },
 "nbformat": 4,
 "nbformat_minor": 5
}

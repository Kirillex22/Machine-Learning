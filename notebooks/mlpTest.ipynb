{
 "cells": [
  {
   "cell_type": "code",
   "execution_count": 119,
   "id": "93eada51-ee9e-4f93-a2e3-62f8857d1cc7",
   "metadata": {},
   "outputs": [],
   "source": [
    "import numpy as np\n",
    "import pandas as pd\n",
    "import sys\n",
    "from sklearn.model_selection import train_test_split\n",
    "sys.path.append(\"..\")\n",
    "from models.perceptron import MLP, Layer"
   ]
  },
  {
   "cell_type": "code",
   "execution_count": 120,
   "id": "5be6625c-beba-48ae-8397-95aad1c4754b",
   "metadata": {},
   "outputs": [],
   "source": [
    "l1 = Layer(dim = 12)\n",
    "l2 = Layer(dim = 12, act_func = 'sig')\n",
    "l3 = Layer(dim = 6, act_func = 'relu')\n",
    "l4 = Layer(dim = 1, act_func = 'no_function')"
   ]
  },
  {
   "cell_type": "code",
   "execution_count": 121,
   "id": "43ac206b-7eb2-4196-a65d-4e87c85d5c84",
   "metadata": {},
   "outputs": [],
   "source": [
    "mlp = MLP(epochs = 100, layers = [l1, l2, l3, l4], loss = 'mse', logging = False)"
   ]
  },
  {
   "cell_type": "code",
   "execution_count": 122,
   "id": "cb3440cc-feae-4617-bd8a-a37b41461c14",
   "metadata": {},
   "outputs": [],
   "source": [
    "data_class = pd.read_csv('../data/winequality.csv')"
   ]
  },
  {
   "cell_type": "code",
   "execution_count": 123,
   "id": "0c4419de-938e-4080-878a-7720934d9173",
   "metadata": {},
   "outputs": [],
   "source": [
    "y_cl = data_class['quality'].to_numpy()\n",
    "X_cl = data_class.drop(['quality'], axis=1).to_numpy()"
   ]
  },
  {
   "cell_type": "code",
   "execution_count": 124,
   "id": "ce055a61-eaeb-4dad-bf34-f3fffa6e5501",
   "metadata": {},
   "outputs": [],
   "source": [
    "X_train_cl, X_test_cl, y_train_cl, y_test_cl = train_test_split(X_cl, y_cl, test_size=0.2)"
   ]
  },
  {
   "cell_type": "code",
   "execution_count": 125,
   "id": "d628d6f9-59d0-442a-a9f6-9701c794a525",
   "metadata": {},
   "outputs": [
    {
     "name": "stderr",
     "output_type": "stream",
     "text": [
      "..\\models\\perceptron.py:156: RuntimeWarning: overflow encountered in exp\n",
      "  return 1/(1 + np.exp(-x))\n"
     ]
    }
   ],
   "source": [
    "mlp.fit(X_train_cl[:1000], y_train_cl[:1000])"
   ]
  },
  {
   "cell_type": "code",
   "execution_count": 126,
   "id": "0995489d-21db-41f5-b4da-d2cb129d4877",
   "metadata": {},
   "outputs": [],
   "source": [
    "y_pred = mlp.predict(X_test_cl[:100])"
   ]
  },
  {
   "cell_type": "code",
   "execution_count": 127,
   "id": "36525c6d-511e-48f6-ae7c-becb530cbc04",
   "metadata": {},
   "outputs": [],
   "source": [
    "y = y_test_cl[:100]"
   ]
  },
  {
   "cell_type": "code",
   "execution_count": 128,
   "id": "71c7fa5c-0b81-429c-adc3-701701419dbd",
   "metadata": {},
   "outputs": [],
   "source": [
    "from sklearn.metrics import f1_score, classification_report"
   ]
  },
  {
   "cell_type": "code",
   "execution_count": 129,
   "id": "2ddedd41-8871-4364-87c5-e516f8ed793c",
   "metadata": {},
   "outputs": [],
   "source": [
    "from sklearn.metrics import mean_squared_error, mean_absolute_error, mean_absolute_percentage_error, r2_score"
   ]
  },
  {
   "cell_type": "code",
   "execution_count": 130,
   "id": "ed0c7961-6261-4c76-8135-2ab402229caa",
   "metadata": {},
   "outputs": [],
   "source": [
    "def show_errors(y_test, y_pred):\n",
    "    MAE = mean_absolute_error(y_test, y_pred)\n",
    "    MSE = mean_squared_error(y_test, y_pred)\n",
    "    MAPE = mean_absolute_percentage_error(y_test, y_pred)\n",
    "    R2 = r2_score(y_test, y_pred)\n",
    "    \n",
    "    return {'MAE' : MAE, 'MSE' : MSE, 'MAPE': MAPE, 'R2' : R2}"
   ]
  },
  {
   "cell_type": "code",
   "execution_count": 131,
   "id": "55825422-0067-4259-9dd1-7b9c9d7c75a2",
   "metadata": {},
   "outputs": [
    {
     "name": "stdout",
     "output_type": "stream",
     "text": [
      "{'MAE': 0.6007027350775338, 'MSE': 0.5706130604328231, 'MAPE': 0.10544536111652267, 'R2': -0.04202531123598052}\n",
      "[5.94207754 5.91770223 5.94205546 5.77589572 5.94193967 5.70248494\n",
      " 5.70073077 5.94207757 5.94207757 5.94207714 5.67154655 5.94207733\n",
      " 5.94086048 5.94207291 5.94206373 5.93909835 5.93961621 5.94207756\n",
      " 5.73921511 5.94123534 5.67113443 5.94207754 5.66761323 5.94207748\n",
      " 5.74519545 5.94195827 5.94207755 5.94014602 5.67111294 5.67329923\n",
      " 5.89695958 5.94206035 5.6790177  5.94025514 5.94179072 5.67361158\n",
      " 5.92156815 5.94207116 5.92675239 5.94207746 5.94105014 5.87177627\n",
      " 5.94207757 5.94207723 5.94183703 5.92856581 5.94207757 5.72112739\n",
      " 5.94190198 5.94207756 5.94207649 5.94207757 5.67646989 5.94207755\n",
      " 5.80835227 5.94203501 5.71856339 5.94207757 5.91316706 5.94139442\n",
      " 5.68262218 5.72935503 5.8920479  5.68298817 5.94177099 5.94184917\n",
      " 5.67549629 5.94207528 5.94207738 5.94207747 5.94185967 5.71534708\n",
      " 5.83634035 5.94201959 5.94207757 5.94048195 5.94207749 5.94201597\n",
      " 5.67746085 5.94207521 5.67585397 5.942069   5.92221597 5.67289596\n",
      " 5.94207087 5.94207757 5.94207756 5.67332985 5.67127777 5.68213804\n",
      " 5.94140296 5.94197012 5.91994853 5.71498979 5.94153612 5.94157389\n",
      " 5.94205499 5.93630186 5.88226314 5.94207753]\n",
      "[6 5 7 6 7 6 6 6 6 7 6 5 6 6 6 5 5 6 7 6 5 5 6 6 6 6 6 6 6 5 5 5 6 5 7 7 6\n",
      " 6 5 8 6 5 6 5 6 7 6 6 6 5 7 5 6 7 6 5 7 6 5 5 7 6 6 7 5 6 5 6 5 7 5 5 6 7\n",
      " 5 7 7 5 5 5 5 5 6 5 6 5 5 5 7 6 6 5 5 6 6 6 6 5 5 6]\n"
     ]
    }
   ],
   "source": [
    "print(show_errors(y, y_pred))\n",
    "print(y_pred)\n",
    "print(y)"
   ]
  },
  {
   "cell_type": "code",
   "execution_count": null,
   "id": "12bfd607-ac8d-481b-bd4d-36078bfd0ed1",
   "metadata": {},
   "outputs": [],
   "source": []
  }
 ],
 "metadata": {
  "kernelspec": {
   "display_name": "Python 3 (ipykernel)",
   "language": "python",
   "name": "python3"
  },
  "language_info": {
   "codemirror_mode": {
    "name": "ipython",
    "version": 3
   },
   "file_extension": ".py",
   "mimetype": "text/x-python",
   "name": "python",
   "nbconvert_exporter": "python",
   "pygments_lexer": "ipython3",
   "version": "3.9.0"
  }
 },
 "nbformat": 4,
 "nbformat_minor": 5
}
